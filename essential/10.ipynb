{
 "cells": [
  {
   "cell_type": "code",
   "execution_count": null,
   "source": [],
   "outputs": [],
   "metadata": {}
  },
  {
   "cell_type": "markdown",
   "source": [
    "# Chapter 10\r\n"
   ],
   "metadata": {}
  },
  {
   "cell_type": "markdown",
   "source": [
    "# Basic Image Manipulation in Python programming\r\n"
   ],
   "metadata": {}
  },
  {
   "cell_type": "markdown",
   "source": [
    "## Installing OpenCV and Other packages"
   ],
   "metadata": {}
  },
  {
   "cell_type": "code",
   "execution_count": null,
   "source": [
    "!pip install -q numpy\r\n",
    "!pip install -q opencv-contrib-python\r\n",
    "# !pip install -q python3-opencv\r\n",
    "!pip install -q pandas\r\n",
    "!pip install -q matplotlib\r\n",
    "!pip install -q scipy\r\n"
   ],
   "outputs": [],
   "metadata": {}
  },
  {
   "cell_type": "markdown",
   "source": [
    "### Testing the Installations"
   ],
   "metadata": {}
  },
  {
   "cell_type": "code",
   "execution_count": null,
   "source": [
    "import cv2 as cv\r\n",
    "\r\n",
    "print(cv.__version__)"
   ],
   "outputs": [],
   "metadata": {}
  },
  {
   "cell_type": "code",
   "execution_count": null,
   "source": [
    "import cv2 as cv\r\n",
    "import numpy as np\r\n",
    "import matplotlib.pyplot as plt\r\n",
    "\r\n",
    "print(\"cv2\", cv.__version__)\r\n",
    "print(\"numpy\", np.__version__)\r\n",
    "print(\"pyplot\", plt.__package__)\r\n"
   ],
   "outputs": [],
   "metadata": {}
  },
  {
   "cell_type": "markdown",
   "source": [
    "## Read Image files\r\n"
   ],
   "metadata": {}
  },
  {
   "cell_type": "markdown",
   "source": [
    "Reading a sample image file in opencv"
   ],
   "metadata": {}
  },
  {
   "cell_type": "code",
   "execution_count": null,
   "source": [
    "import cv2 as cv\r\n",
    "import sys\r\n",
    "\r\n",
    "# add samples data path to cv\r\n",
    "cv.samples.addSamplesDataSearchPath(\"..\\\\samples\\\\data\")\r\n",
    "\r\n",
    "# get sample file path for \"starry_night.jpg\"\r\n",
    "filePath = cv.samples.findFile(\"starry_night.jpg\")\r\n",
    "\r\n",
    "# read image file\r\n",
    "img = cv.imread(filePath)\r\n",
    "\r\n",
    "# check if file found\r\n",
    "if img is None:\r\n",
    "    sys.exit(\"Could not read the image.\")\r\n",
    "\r\n",
    "# display file\r\n",
    "cv.imshow(\"Display window\", img)\r\n",
    "\r\n",
    "# pause execution here by waiting for a user to press a key\r\n",
    "k = cv.waitKey(0)\r\n",
    "\r\n",
    "# if user typed s save file as PNG file\r\n",
    "if k == ord(\"s\"):\r\n",
    "    cv.imwrite(\"starry_night.png\", img)\r\n",
    "\r\n",
    "cv.destroyAllWindows()"
   ],
   "outputs": [],
   "metadata": {}
  },
  {
   "cell_type": "markdown",
   "source": [
    "## Display Image files\r\n"
   ],
   "metadata": {}
  },
  {
   "cell_type": "markdown",
   "source": [
    "Read and display default mode (color)"
   ],
   "metadata": {}
  },
  {
   "cell_type": "code",
   "execution_count": null,
   "source": [
    "import cv2 as cv\r\n",
    "\r\n",
    "# img is a cv2.Mat object BGR\r\n",
    "img = cv.imread(\"assets/OpenCV_logo_white_600x.png\")\r\n",
    "# display file\r\n",
    "cv.imshow(\"Display window\", img)\r\n",
    "\r\n",
    "# pause execution here by waiting for a user to press a key\r\n",
    "k = cv.waitKey(0)\r\n",
    "\r\n",
    "cv.destroyAllWindows()"
   ],
   "outputs": [],
   "metadata": {}
  },
  {
   "cell_type": "markdown",
   "source": [
    "Read and display gray"
   ],
   "metadata": {}
  },
  {
   "cell_type": "code",
   "execution_count": null,
   "source": [
    "import cv2 as cv\r\n",
    "\r\n",
    "# img is a cv2.Mat object BGR\r\n",
    "img = cv.imread(\"assets/OpenCV_logo_white_600x.png\", cv.IMREAD_GRAYSCALE)\r\n",
    "# display file\r\n",
    "cv.imshow(\"Display window\", img)\r\n",
    "\r\n",
    "# pause execution here by waiting for a user to press a key\r\n",
    "k = cv.waitKey(0)\r\n",
    "\r\n",
    "cv.destroyAllWindows()"
   ],
   "outputs": [],
   "metadata": {}
  },
  {
   "cell_type": "markdown",
   "source": [
    "## Write image files\r\n",
    "\r\n"
   ],
   "metadata": {}
  },
  {
   "cell_type": "markdown",
   "source": [
    "Write an image to file in different format such as:\r\n",
    "\r\n",
    "- Portable Network Graphics: *.png\r\n",
    "- JPG files: *.jpeg, *.jpg, and *.jpe\r\n",
    "- JPEG 2000 files: *.jp2\r\n",
    "- Windows bitmaps: *.bmp and *.dib\r\n",
    "- Portable image format: *.pbm, *.pgm, and *.ppm\r\n",
    "- TIFF files: *.tiff and *.tif"
   ],
   "metadata": {}
  },
  {
   "cell_type": "code",
   "execution_count": 24,
   "source": [
    "import cv2 as cv\r\n",
    "\r\n",
    "# img is a cv2.Mat object BGR\r\n",
    "img = cv.imread(\"assets/OpenCV_logo_white_600x.png\")\r\n",
    "# display file\r\n",
    "cv.imshow(\"Display window\", img)\r\n",
    "\r\n",
    "# pause execution here by waiting for a user to press a key\r\n",
    "k = cv.waitKey(0)\r\n",
    "\r\n",
    "cv.imwrite(\"opencv_logo.png\", img)\r\n",
    "cv.imwrite(\"opencv_logo.jpg\", img)\r\n",
    "cv.imwrite(\"opencv_logo.bmp\", img)\r\n",
    "cv.imwrite(\"opencv_logo.pbm\", img)\r\n",
    "cv.imwrite(\"opencv_logo.tiff\", img)\r\n",
    "\r\n",
    "cv.destroyAllWindows()"
   ],
   "outputs": [],
   "metadata": {}
  },
  {
   "cell_type": "code",
   "execution_count": 1,
   "source": [
    "import cv2 as cv\r\n",
    "\r\n",
    "# img is a cv2.Mat object BGR\r\n",
    "img = cv.imread(\"assets/sdgs.jpg\")\r\n",
    "# display file\r\n",
    "cv.imshow(\"Display window\", img)\r\n",
    "\r\n",
    "# pause execution here by waiting for a user to press a key\r\n",
    "k = cv.waitKey(0)\r\n",
    "\r\n",
    "cv.imwrite(\"sdgs.png\", img)\r\n",
    "\r\n",
    "cv.destroyAllWindows()"
   ],
   "outputs": [],
   "metadata": {}
  },
  {
   "cell_type": "code",
   "execution_count": 5,
   "source": [
    "import cv2 as cv\r\n",
    "\r\n",
    "# img is a cv2.Mat object BGR\r\n",
    "img_gray = cv.imread(\"assets/sdgs.jpg\", cv.IMREAD_GRAYSCALE)\r\n",
    "# display file\r\n",
    "cv.imshow(\"Display window\", img_gray)\r\n",
    "\r\n",
    "# pause execution here by waiting for a user to press a key\r\n",
    "k = cv.waitKey(0)\r\n",
    "\r\n",
    "cv.imwrite(\"sdgs_gray.jpg\", img_gray)\r\n",
    "cv.imwrite(\"sdgs_gray.png\", img_gray)\r\n",
    "\r\n",
    "cv.destroyAllWindows()"
   ],
   "outputs": [],
   "metadata": {}
  },
  {
   "cell_type": "markdown",
   "source": [
    "## Image manipulation\r\n",
    "\r\n"
   ],
   "metadata": {}
  },
  {
   "cell_type": "markdown",
   "source": [
    "### Image Pixel, dimension and Size.\r\n",
    "Every image is made up of pixels (cells) arranged as rows and columns.\r\n",
    "The value of each pixel is an array or tuple of three value (blue, green, red) and within 0-255. Where black is zero and white is 255."
   ],
   "metadata": {}
  },
  {
   "cell_type": "markdown",
   "source": [
    "#### For color images"
   ],
   "metadata": {}
  },
  {
   "cell_type": "code",
   "execution_count": 1,
   "source": [
    "import cv2 as cv\r\n",
    "\r\n",
    "# img is a cv2.Mat object BGR\r\n",
    "img = cv.imread(\"assets/OpenCV_logo_white_600x.png\")\r\n",
    "\r\n",
    "print('dimension (height, width, channel): ', img.shape)\r\n",
    "print('size (height * width * channel): ', img.size)\r\n",
    "print('data type: ', img.dtype)\r\n",
    "\r\n",
    "# get the pixel at the center\r\n",
    "(height, width, channel) = img.shape\r\n",
    "i,j = height // 2, width // 2\r\n",
    "print(f'pixel @ [{i},{j}] = {img[i,j]}')\r\n",
    "\r\n",
    "# top=2, and width center\r\n",
    "i,j = 2, width // 2\r\n",
    "print(f'pixel @ [{i},{j}] [b, g, r] = {img[i,j]}')\r\n",
    "\r\n",
    "# height center, left 2\r\n",
    "i,j = height // 2, 2\r\n",
    "print(f'pixel @ [{i},{j}] [b, g, r] = {img[i,j]}')\r\n",
    "\r\n",
    "# height center, right 2\r\n",
    "i,j = height // 2, width -2\r\n",
    "print(f'pixel @ [{i},{j}] [b, g, r] = {img[i,j]}')\r\n",
    "\r\n",
    "# display file\r\n",
    "cv.imshow(\"Display window\", img)\r\n",
    "\r\n",
    "# pause execution here by waiting for a user to press a key\r\n",
    "k = cv.waitKey(0)\r\n",
    "\r\n",
    "cv.destroyAllWindows()"
   ],
   "outputs": [
    {
     "output_type": "stream",
     "name": "stdout",
     "text": [
      "dimension (height, width, channel):  (794, 600, 3)\n",
      "size (height * width * channel):  1429200\n",
      "data type:  uint8\n",
      "pixel [397,300] = [0 0 0]\n",
      "pixel [2,300] [b, g, r] = [ 68  42 255]\n",
      "pixel [397,2] [b, g, r] = [103 218 139]\n",
      "pixel [397,598] [b, g, r] = [255 141  18]\n"
     ]
    }
   ],
   "metadata": {}
  },
  {
   "cell_type": "markdown",
   "source": [
    "#### For gray image. \r\n",
    "Gray images has no channel. In grayscale pixel value is single value a range (0-255)."
   ],
   "metadata": {}
  },
  {
   "cell_type": "code",
   "execution_count": 5,
   "source": [
    "import cv2 as cv\r\n",
    "\r\n",
    "# img is a cv2.Mat object BGR\r\n",
    "img_gray = cv.imread(\"assets/OpenCV_logo_white_600x.png\", cv.IMREAD_GRAYSCALE)\r\n",
    "\r\n",
    "print('dimension (height, width): ', img_gray.shape)\r\n",
    "print('size (height * width): ', img_gray.size)\r\n",
    "print('data type: ', img_gray.dtype)\r\n",
    "\r\n",
    "# get the pixel at the center\r\n",
    "(height, width) = img_gray.shape\r\n",
    "i,j = height // 2, width // 2\r\n",
    "print(f'pixel @ [{i},{j}] = {img[i,j]}')\r\n",
    "\r\n",
    "# top=2, and width center\r\n",
    "i,j = 2, width // 2\r\n",
    "print(f'pixel @ [{i},{j}]  = {img_gray[i,j]}')\r\n",
    "\r\n",
    "# height center, left 2\r\n",
    "i,j = height // 2, 2\r\n",
    "print(f'pixel @ [{i},{j}] = {img_gray[i,j]}')\r\n",
    "\r\n",
    "# height center, right 2\r\n",
    "i,j = height // 2, width -2\r\n",
    "print(f'pixel @ [{i},{j}] = {img_gray[i,j]}')\r\n",
    "\r\n",
    "# display file\r\n",
    "cv.imshow(\"Display window\", img_gray)\r\n",
    "\r\n",
    "# pause execution here by waiting for a user to press a key\r\n",
    "k = cv.waitKey(0)\r\n",
    "\r\n",
    "cv.destroyAllWindows()"
   ],
   "outputs": [
    {
     "output_type": "stream",
     "name": "stdout",
     "text": [
      "dimension (height, width):  (794, 600)\n",
      "size (height * width):  476400\n",
      "data type:  uint8\n",
      "pixel @ [2,300]  = 108\n",
      "pixel @ [397,2] = 181\n",
      "pixel @ [397,598] = 117\n"
     ]
    }
   ],
   "metadata": {}
  },
  {
   "cell_type": "markdown",
   "source": [
    "To get the individual color of a pixel"
   ],
   "metadata": {}
  },
  {
   "cell_type": "code",
   "execution_count": 4,
   "source": [
    "import cv2 as cv\r\n",
    "\r\n",
    "# img is a cv2.Mat object BGR\r\n",
    "img = cv.imread(\"assets/OpenCV_logo_white_600x.png\")\r\n",
    "\r\n",
    "print('dimension (height, width, channel): ', img.shape)\r\n",
    "print('size (height * width * channel): ', img.size)\r\n",
    "print('data type: ', img.dtype)\r\n",
    "\r\n",
    "(height, width, channel) = img.shape\r\n",
    "\r\n",
    "# height center, left 2\r\n",
    "i,j = height // 2, 2\r\n",
    "\r\n",
    "# array\r\n",
    "pixel_bgr = img[i,j]\r\n",
    "print(f'pixel @ [{i},{j}] [b, g, r] = {pixel_bgr}')\r\n",
    "\r\n",
    "# spreading array into tuple\r\n",
    "b, g, r = img[i,j] \r\n",
    "print(f'pixel @ [{i},{j}] [b, g, r] = {b,g,r}')\r\n",
    "\r\n",
    "# individual access\r\n",
    "b1 = img[i, j, 0]\r\n",
    "g1 = img[i, j, 1]\r\n",
    "r1 = img[i, j, 2]\r\n",
    "\r\n",
    "print(f'pixel @ [{i}, {j}, 0] b = {b1}')\r\n",
    "print(f'pixel @ [{i}, {j}, 1] g = {g1}')\r\n",
    "print(f'pixel @ [{i}, {j}, 2] r = {r1}')\r\n",
    "\r\n",
    "print(f'pixel @ [{i}, {j}] [b, g, r] = {b1, g1, r1}')\r\n"
   ],
   "outputs": [
    {
     "output_type": "stream",
     "name": "stdout",
     "text": [
      "dimension (height, width, channel):  (794, 600, 3)\n",
      "size (height * width * channel):  1429200\n",
      "data type:  uint8\n",
      "pixel @ [397,2] [b, g, r] = [103 218 139]\n",
      "pixel @ [397,2] [b, g, r] = (103, 218, 139)\n",
      "pixel @ [397, 2, 0] b = 103\n",
      "pixel @ [397, 2, 1] g = 218\n",
      "pixel @ [397, 2, 2] r = 139\n",
      "pixel @ [397, 2] [b, g, r] = (103, 218, 139)\n"
     ]
    }
   ],
   "metadata": {}
  },
  {
   "cell_type": "code",
   "execution_count": null,
   "source": [],
   "outputs": [],
   "metadata": {}
  }
 ],
 "metadata": {
  "orig_nbformat": 4,
  "language_info": {
   "name": "python",
   "version": "3.9.6",
   "mimetype": "text/x-python",
   "codemirror_mode": {
    "name": "ipython",
    "version": 3
   },
   "pygments_lexer": "ipython3",
   "nbconvert_exporter": "python",
   "file_extension": ".py"
  },
  "kernelspec": {
   "name": "python3",
   "display_name": "Python 3.9.6 64-bit"
  },
  "interpreter": {
   "hash": "c1a7846af735771808fbc8272134e7984cc669109ae413ca91ad8b74a534aa1b"
  }
 },
 "nbformat": 4,
 "nbformat_minor": 2
}