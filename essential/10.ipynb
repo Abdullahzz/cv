{
 "cells": [
  {
   "cell_type": "markdown",
   "metadata": {},
   "source": [
    "# Computer Vision?"
   ]
  },
  {
   "cell_type": "markdown",
   "metadata": {},
   "source": [
    "## It is the ability to give sight to computers and for the computer to see the like human. "
   ]
  },
  {
   "cell_type": "code",
   "execution_count": 2,
   "metadata": {},
   "outputs": [],
   "source": []
  },
  {
   "cell_type": "markdown",
   "metadata": {},
   "source": [
    "# Chapter 10\n"
   ]
  },
  {
   "cell_type": "markdown",
   "metadata": {},
   "source": [
    "# Basic Image Manipulation in Python programming\n"
   ]
  },
  {
   "cell_type": "markdown",
   "metadata": {},
   "source": [
    "## Installing OpenCV and Other packages"
   ]
  },
  {
   "cell_type": "code",
   "execution_count": 3,
   "metadata": {},
   "outputs": [],
   "source": [
    "!pip install -q numpy\n",
    "!pip install -q opencv-contrib-python\n",
    "# !pip install -q python3-opencv\n",
    "!pip install -q pandas\n",
    "!pip install -q matplotlib\n",
    "!pip install -q scipy\n"
   ]
  },
  {
   "cell_type": "markdown",
   "metadata": {},
   "source": [
    "### Testing the Installations"
   ]
  },
  {
   "cell_type": "code",
   "execution_count": null,
   "metadata": {},
   "outputs": [],
   "source": []
  },
  {
   "cell_type": "code",
   "execution_count": 4,
   "metadata": {},
   "outputs": [
    {
     "name": "stdout",
     "output_type": "stream",
     "text": [
      "4.5.3\n"
     ]
    }
   ],
   "source": [
    "import cv2 as cv\n",
    "\n",
    "print(cv.__version__)"
   ]
  },
  {
   "cell_type": "code",
   "execution_count": 5,
   "metadata": {},
   "outputs": [
    {
     "name": "stdout",
     "output_type": "stream",
     "text": [
      "cv2 4.5.3\n",
      "numpy 1.19.5\n",
      "pyplot matplotlib\n"
     ]
    }
   ],
   "source": [
    "import cv2 as cv\n",
    "import numpy as np\n",
    "import matplotlib.pyplot as plt\n",
    "\n",
    "print(\"cv2\", cv.__version__)\n",
    "print(\"numpy\", np.__version__)\n",
    "print(\"pyplot\", plt.__package__)\n"
   ]
  },
  {
   "cell_type": "markdown",
   "metadata": {},
   "source": [
    "## Read Image files\n"
   ]
  },
  {
   "cell_type": "markdown",
   "metadata": {},
   "source": [
    "Reading a sample image file in opencv"
   ]
  },
  {
   "cell_type": "code",
   "execution_count": 19,
   "metadata": {},
   "outputs": [],
   "source": [
    "# import cv2 the package module of opencv\n",
    "import cv2 as cv\n",
    "\n",
    "# import sys module for computer system operation\n",
    "import sys\n",
    "\n",
    "# add samples and data folder path to open cv package\n",
    "# the folder path is relative to the current directory or folder where the code is located. \n",
    "cv.samples.addSamplesDataSearchPath(\"..\\\\samples\\\\data\")\n",
    "\n",
    "# get sample file path for \"starry_night.jpg\"\n",
    "filePath = cv.samples.findFile(\"starry_night.jpg\")\n",
    "\n",
    "# read image file\n",
    "# use the opencv package to read the image file\n",
    "# the read file is stored in a variable with name img\n",
    "img = cv.imread(filePath)\n",
    "\n",
    "# check if file found\n",
    "if img is None:\n",
    "    sys.exit(\"Could not read the image.\")\n",
    "\n",
    "# display file image using opencv package.\n",
    "cv.imshow(\"Display window\", img)\n",
    "\n",
    "# pause execution here by waiting for a user to press a key\n",
    "k = cv.waitKey(0)\n",
    "\n",
    "# if user typed s save file as PNG file\n",
    "if k == ord(\"s\"):\n",
    "    cv.imwrite(\"starry_night.png\", img)\n",
    "\n",
    "cv.destroyAllWindows()"
   ]
  },
  {
   "cell_type": "markdown",
   "metadata": {},
   "source": [
    "## Class Activity\n",
    "\n",
    "Write a code using opencv and display the butterfly.jpg file."
   ]
  },
  {
   "cell_type": "code",
   "execution_count": 35,
   "metadata": {},
   "outputs": [],
   "source": [
    "# 1. import necesary packages\n",
    "import cv2 as cv\n",
    "import sys\n",
    "\n",
    "# 2. locate the file path for the butterfly\n",
    "butterflyFile = 'butterfly.jpg'\n",
    "\n",
    "filepath = '../samples/data/' + butterflyFile\n",
    "\n",
    "# 3. read the file\n",
    "imgButterfly = cv.imread(filepath)\n",
    "\n",
    "# 4. check the file if read successfully\n",
    "if imgButterfly is None:\n",
    "    sys.exit(f'error: {butterflyFile} not found')\n",
    "\n",
    "# 5. display the file\n",
    "cv.imshow('Butterfly', imgButterfly)\n",
    "\n",
    "# 6. pause the execution\n",
    "k = cv.waitKey(0)\n",
    "\n",
    "# 7. continue the execution\n",
    "if k == ord('s'):\n",
    "    cv.imwrite('../samples/test/goke_butterfly.png', imgButterfly)\n",
    "\n",
    "# 8. release the resources \n",
    "cv.destroyAllWindows()"
   ]
  },
  {
   "cell_type": "markdown",
   "metadata": {},
   "source": [
    "## Class Activity\n",
    "\n",
    "1. Copy an image on your pc to the assets folder under the essential folder.\n",
    "2. Rename the image file as 'ca2.[leave existing extension]'\n",
    "3. Open in opencv and display."
   ]
  },
  {
   "cell_type": "markdown",
   "metadata": {},
   "source": [
    "## Class Activity\n",
    "\n",
    "1. Locate your picture folder and dispaly the first image."
   ]
  },
  {
   "cell_type": "markdown",
   "metadata": {},
   "source": [
    "## Class Activity 10.4\n",
    "1. Locate and display your picture using absolute path.\n",
    "   1. Absolute path contains drive letter.\n",
    "2. Locate and display your picture using relative path.\n",
    "   1. No drive letter\n"
   ]
  },
  {
   "cell_type": "markdown",
   "metadata": {},
   "source": [
    "## Display Image files\n"
   ]
  },
  {
   "cell_type": "markdown",
   "metadata": {},
   "source": [
    "Read and display default mode (color)"
   ]
  },
  {
   "cell_type": "code",
   "execution_count": 28,
   "metadata": {},
   "outputs": [],
   "source": [
    "import cv2 as cv\n",
    "\n",
    "# img is a cv2.Mat object BGR\n",
    "# img = cv.imread(\"assets/OpenCV_logo_white_600x.png\", cv.IMREAD_COLOR)\n",
    "img = cv.imread(\"assets/OpenCV_logo_white_600x.png\")\n",
    "# display file\n",
    "cv.imshow(\"Display window\", img)\n",
    "\n",
    "# pause execution here by waiting for a user to press a key\n",
    "k = cv.waitKey(0)\n",
    "\n",
    "cv.destroyAllWindows()"
   ]
  },
  {
   "cell_type": "markdown",
   "metadata": {},
   "source": [
    "Read and display gray"
   ]
  },
  {
   "cell_type": "code",
   "execution_count": 27,
   "metadata": {},
   "outputs": [],
   "source": [
    "import cv2 as cv\n",
    "\n",
    "# img is a cv2.Mat object BGR\n",
    "img = cv.imread(\"assets/OpenCV_logo_white_600x.png\", cv.IMREAD_GRAYSCALE)\n",
    "# display file\n",
    "cv.imshow(\"Display window\", img)\n",
    "\n",
    "# pause execution here by waiting for a user to press a key\n",
    "k = cv.waitKey(0)\n",
    "\n",
    "cv.destroyAllWindows()"
   ]
  },
  {
   "cell_type": "code",
   "execution_count": 36,
   "metadata": {},
   "outputs": [],
   "source": [
    "import cv2 as cv\n",
    "\n",
    "# img is a cv2.Mat object BGR\n",
    "imgColor = cv.imread(\"assets/OpenCV_logo_white_600x.png\")\n",
    "imgGray = cv.imread(\"assets/OpenCV_logo_white_600x.png\", cv.IMREAD_GRAYSCALE)\n",
    "\n",
    "# display file\n",
    "cv.imshow(\"Display window\", imgColor)\n",
    "\n",
    "k = cv.waitKey(0)\n",
    "\n",
    "cv.imshow(\"Display window\", imgGray)\n",
    "\n",
    "# pause execution here by waiting for a user to press a key\n",
    "k = cv.waitKey(0)\n",
    "\n",
    "cv.destroyAllWindows()"
   ]
  },
  {
   "cell_type": "markdown",
   "metadata": {},
   "source": [
    "## Class Activity 10.5\n",
    "\n",
    "1. Copy an image on your pc to the assets folder under the essential folder.\n",
    "2. Rename the image file as 'ca2.[leave existing extension]'\n",
    "3. Read and display gray image.\n",
    "4. Save the gray image"
   ]
  },
  {
   "cell_type": "markdown",
   "metadata": {},
   "source": [
    "## Convert Color Image to Gray"
   ]
  },
  {
   "cell_type": "code",
   "execution_count": 34,
   "metadata": {},
   "outputs": [],
   "source": [
    "# import cv2 the package module of opencv\n",
    "import cv2 as cv\n",
    "\n",
    "# get sample file path for \"starry_night.jpg\"\n",
    "filePath = \"..\\\\samples\\\\data\\\\starry_night.jpg\"\n",
    "\n",
    "# read image file\n",
    "# use the opencv package to read the image file\n",
    "# the read file is stored in a variable with name img\n",
    "img = cv.imread(filePath)\n",
    "\n",
    "# convert color image to gray\n",
    "imgGray = cv.cvtColor(img, cv.COLOR_BGR2GRAY)\n",
    "\n",
    "# convert gray to color\n",
    "imgColor = cv.cvtColor(imgGray, cv.COLOR_GRAY2BGR)\n",
    "\n",
    "# display file image using opencv package.\n",
    "cv.imshow(\"Original\", img)\n",
    "\n",
    "# pause execution here by waiting for a user to press a key\n",
    "k = cv.waitKey(0)\n",
    "\n",
    "# display file image using opencv package.\n",
    "cv.imshow(\"Gray\", imgGray)\n",
    "\n",
    "# pause execution here by waiting for a user to press a key\n",
    "k = cv.waitKey(0)\n",
    "\n",
    "# display file image using opencv package.\n",
    "cv.imshow(\"Color\", imgColor)\n",
    "\n",
    "# pause execution here by waiting for a user to press a key\n",
    "k = cv.waitKey(0)\n",
    "\n",
    "# release resources\n",
    "cv.destroyAllWindows()"
   ]
  },
  {
   "cell_type": "markdown",
   "metadata": {},
   "source": [
    "## Write image files\n",
    "\n"
   ]
  },
  {
   "cell_type": "markdown",
   "metadata": {},
   "source": [
    "Write an image to file in different format such as:\n",
    "\n",
    "- Portable Network Graphics: *.png\n",
    "- JPG files: *.jpeg, *.jpg, and *.jpe\n",
    "- JPEG 2000 files: *.jp2\n",
    "- Windows bitmaps: *.bmp and *.dib\n",
    "- Portable image format: *.pbm, *.pgm, and *.ppm\n",
    "- TIFF files: *.tiff and *.tif"
   ]
  },
  {
   "cell_type": "code",
   "execution_count": 37,
   "metadata": {},
   "outputs": [],
   "source": [
    "import cv2 as cv\n",
    "\n",
    "# img is a cv2.Mat object BGR\n",
    "img = cv.imread(\"assets/OpenCV_logo_white_600x.png\")\n",
    "# display file\n",
    "cv.imshow(\"Display window\", img)\n",
    "\n",
    "# pause execution here by waiting for a user to press a key\n",
    "k = cv.waitKey(0)\n",
    "\n",
    "cv.imwrite(\"opencv_logo.png\", img)\n",
    "cv.imwrite(\"opencv_logo.jpg\", img)\n",
    "cv.imwrite(\"opencv_logo.bmp\", img)\n",
    "cv.imwrite(\"opencv_logo.pbm\", img)\n",
    "cv.imwrite(\"opencv_logo.tiff\", img)\n",
    "\n",
    "cv.destroyAllWindows()"
   ]
  },
  {
   "cell_type": "markdown",
   "metadata": {},
   "source": [
    "## Class Activity 10.6\n",
    "\n",
    "1. Copy an image on your pc to the assets folder under the essential folder.\n",
    "2. Rename the image file as 'ca2.[leave existing extension]'\n",
    "3. Read and display both the color and gray image.\n",
    "4. Save the color images as [mycolor.bmp] and the gray image as [mygray.svg]"
   ]
  },
  {
   "cell_type": "code",
   "execution_count": 45,
   "metadata": {},
   "outputs": [
    {
     "name": "stdout",
     "output_type": "stream",
     "text": [
      "OpenCV(4.5.3) C:\\Users\\runneradmin\\AppData\\Local\\Temp\\pip-req-build-1i5nllza\\opencv\\modules\\imgcodecs\\src\\loadsave.cpp:732: error: (-2:Unspecified error) could not find a writer for the specified extension in function 'cv::imwrite_'\n",
      "\n"
     ]
    }
   ],
   "source": [
    "## Class Activity 10.6\n",
    "\n",
    "import cv2 as cv\n",
    "\n",
    "try:\n",
    "    # task = []\n",
    "    # 1. Copy an image on your pc to the assets folder under the essential folder.\n",
    "    # task.append(True)\n",
    "    # 2. Rename the image file as 'ca2.[leave existing extension]'\n",
    "    # task.append(True)\n",
    "\n",
    "    # 3. Read and display both the color and gray image.\n",
    "    imgCA = cv.imread(\"assets\\\\ca.jpg\")\n",
    "\n",
    "    cv.imshow('CA image', imgCA)\n",
    "    cv.waitKey(0)\n",
    "\n",
    "    imgGray = cv.cvtColor(imgCA, cv.COLOR_BGR2GRAY)\n",
    "    cv.imshow(\"CA Gray\", imgGray)\n",
    "    cv.waitKey(0)\n",
    "\n",
    "    # 4. Save the color images as [mycolor.bmp] and the gray image as [mygray.svg]\n",
    "    cv.imwrite(\"mycolor.bmp\", imgCA)\n",
    "    # error in writting\n",
    "    cv.imwrite(\"mycolor.svg\", imgGray)\n",
    "\n",
    "except Exception as ex:\n",
    "    print(ex)\n",
    "\n",
    "finally:\n",
    "    cv.destroyAllWindows()"
   ]
  },
  {
   "cell_type": "code",
   "execution_count": 49,
   "metadata": {},
   "outputs": [
    {
     "name": "stdout",
     "output_type": "stream",
     "text": [
      "type <class 'numpy.ndarray'>\n"
     ]
    }
   ],
   "source": [
    "import cv2 as cv\n",
    "\n",
    "try:\n",
    "    # img is a cv2.Mat object BGR\n",
    "    img = cv.imread(\"assets/sdgs.jpg\")\n",
    "\n",
    "    # display file\n",
    "    cv.imshow(\"Display window\", img)\n",
    "\n",
    "    # pause execution here by waiting for a user to press a key\n",
    "    k = cv.waitKey(0)\n",
    "\n",
    "    cv.imwrite(\"sdgs.png\", img)\n",
    "\n",
    "    print('type', type(img))\n",
    "\n",
    "except Exception as ex:\n",
    "    print(ex)\n",
    "finally:\n",
    "    cv.destroyAllWindows()\n"
   ]
  },
  {
   "cell_type": "code",
   "execution_count": null,
   "metadata": {},
   "outputs": [],
   "source": [
    "import cv2 as cv\n",
    "\n",
    "# img is a cv2.Mat object BGR\n",
    "img_gray = cv.imread(\"assets/sdgs.jpg\", cv.IMREAD_GRAYSCALE)\n",
    "# display file\n",
    "cv.imshow(\"Display window\", img_gray)\n",
    "\n",
    "# pause execution here by waiting for a user to press a key\n",
    "k = cv.waitKey(0)\n",
    "\n",
    "cv.imwrite(\"sdgs_gray.jpg\", img_gray)\n",
    "cv.imwrite(\"sdgs_gray.png\", img_gray)\n",
    "\n",
    "cv.destroyAllWindows()"
   ]
  },
  {
   "cell_type": "markdown",
   "metadata": {},
   "source": [
    "## Image manipulation\n",
    "\n"
   ]
  },
  {
   "cell_type": "markdown",
   "metadata": {},
   "source": [
    "### Image Pixel, dimension and Size.\n",
    "Every image is made up of pixels (cells) arranged as rows and columns.\n",
    "The value of each pixel is an array or tuple of three value (blue, green, red) and within 0-255. Where black is zero and white is 255."
   ]
  },
  {
   "cell_type": "markdown",
   "metadata": {},
   "source": [
    "Every image is made up of numpy value or datatype."
   ]
  },
  {
   "cell_type": "markdown",
   "metadata": {},
   "source": [
    "#### For color images"
   ]
  },
  {
   "cell_type": "code",
   "execution_count": 50,
   "metadata": {},
   "outputs": [
    {
     "name": "stdout",
     "output_type": "stream",
     "text": [
      "dimension (height, width, channel):  (794, 600, 3)\n",
      "size (height * width * channel):  1429200\n",
      "data type:  uint8\n"
     ]
    }
   ],
   "source": [
    "import cv2 as cv\n",
    "\n",
    "# img is a cv2.Mat object BGR\n",
    "img = cv.imread(\"assets/OpenCV_logo_white_600x.png\")\n",
    "\n",
    "print('dimension (height, width, channel): ', img.shape)\n",
    "print('size (height * width * channel): ', img.size)\n",
    "print('data type: ', img.dtype)\n"
   ]
  },
  {
   "cell_type": "code",
   "execution_count": 51,
   "metadata": {},
   "outputs": [
    {
     "name": "stdout",
     "output_type": "stream",
     "text": [
      "pixel @ [397,300] = [0 0 0]\n"
     ]
    }
   ],
   "source": [
    "\n",
    "# get the pixel at the center\n",
    "(height, width, channel) = img.shape\n",
    "i,j = height // 2, width // 2\n",
    "print(f'pixel @ [{i},{j}] = {img[i,j]}')\n"
   ]
  },
  {
   "cell_type": "code",
   "execution_count": 52,
   "metadata": {},
   "outputs": [
    {
     "name": "stdout",
     "output_type": "stream",
     "text": [
      "pixel @ [2,300] [b, g, r] = [ 68  42 255]\n"
     ]
    }
   ],
   "source": [
    "\n",
    "# top=2, and width center\n",
    "i,j = 2, width // 2\n",
    "print(f'pixel @ [{i},{j}] [b, g, r] = {img[i,j]}')\n",
    "\n"
   ]
  },
  {
   "cell_type": "code",
   "execution_count": 53,
   "metadata": {},
   "outputs": [
    {
     "name": "stdout",
     "output_type": "stream",
     "text": [
      "pixel @ [397,2] [b, g, r] = [103 218 139]\n"
     ]
    }
   ],
   "source": [
    "# height center, left 2\n",
    "i,j = height // 2, 2\n",
    "print(f'pixel @ [{i},{j}] [b, g, r] = {img[i,j]}')\n"
   ]
  },
  {
   "cell_type": "code",
   "execution_count": 54,
   "metadata": {},
   "outputs": [
    {
     "name": "stdout",
     "output_type": "stream",
     "text": [
      "pixel @ [397,598] [b, g, r] = [255 141  18]\n"
     ]
    }
   ],
   "source": [
    "\n",
    "# height center, right 2\n",
    "i,j = height // 2, width -2\n",
    "print(f'pixel @ [{i},{j}] [b, g, r] = {img[i,j]}')\n"
   ]
  },
  {
   "cell_type": "code",
   "execution_count": 55,
   "metadata": {},
   "outputs": [],
   "source": [
    "\n",
    "# display file\n",
    "cv.imshow(\"Display window\", img)\n",
    "\n",
    "# pause execution here by waiting for a user to press a key\n",
    "k = cv.waitKey(0)\n",
    "\n",
    "cv.destroyAllWindows()"
   ]
  },
  {
   "cell_type": "markdown",
   "metadata": {},
   "source": [
    "#### For gray image. \n",
    "Gray images has no channel. In grayscale pixel value is single value a range (0-255)."
   ]
  },
  {
   "cell_type": "code",
   "execution_count": 56,
   "metadata": {},
   "outputs": [
    {
     "name": "stdout",
     "output_type": "stream",
     "text": [
      "dimension (height, width):  (794, 600)\n",
      "size (height * width):  476400\n",
      "data type:  uint8\n"
     ]
    }
   ],
   "source": [
    "import cv2 as cv\n",
    "\n",
    "# img is a cv2.Mat object BGR\n",
    "img_gray = cv.imread(\"assets/OpenCV_logo_white_600x.png\", cv.IMREAD_GRAYSCALE)\n",
    "\n",
    "print('dimension (height, width): ', img_gray.shape)\n",
    "print('size (height * width): ', img_gray.size)\n",
    "print('data type: ', img_gray.dtype)\n"
   ]
  },
  {
   "cell_type": "code",
   "execution_count": 57,
   "metadata": {},
   "outputs": [
    {
     "name": "stdout",
     "output_type": "stream",
     "text": [
      "pixel @ [397,300] = [0 0 0]\n",
      "pixel @ [2,300]  = 108\n",
      "pixel @ [397,2] = 181\n",
      "pixel @ [397,598] = 117\n"
     ]
    }
   ],
   "source": [
    "\n",
    "# get the pixel at the center\n",
    "(height, width) = img_gray.shape\n",
    "i,j = height // 2, width // 2\n",
    "print(f'pixel @ [{i},{j}] = {img[i,j]}')\n",
    "\n",
    "# top=2, and width center\n",
    "i,j = 2, width // 2\n",
    "print(f'pixel @ [{i},{j}]  = {img_gray[i,j]}')\n",
    "\n",
    "# height center, left 2\n",
    "i,j = height // 2, 2\n",
    "print(f'pixel @ [{i},{j}] = {img_gray[i,j]}')\n",
    "\n",
    "# height center, right 2\n",
    "i,j = height // 2, width -2\n",
    "print(f'pixel @ [{i},{j}] = {img_gray[i,j]}')\n",
    "\n",
    "# display file\n",
    "cv.imshow(\"Display window\", img_gray)\n",
    "\n",
    "# pause execution here by waiting for a user to press a key\n",
    "k = cv.waitKey(0)\n",
    "\n",
    "cv.destroyAllWindows()"
   ]
  },
  {
   "cell_type": "markdown",
   "metadata": {},
   "source": [
    "## Class Activity 10.7\n",
    "\n",
    "1. Copy an image on your pc to the assets folder under the essential folder.\n",
    "2. Rename the image file as 'ca2.[leave existing extension]'\n",
    "3. Read and display both the color and gray image.\n",
    "4. Print the shape and size of the color and gray images\n",
    "   "
   ]
  },
  {
   "cell_type": "code",
   "execution_count": 60,
   "metadata": {},
   "outputs": [
    {
     "name": "stdout",
     "output_type": "stream",
     "text": [
      "dimension (height, width):  (540, 743, 3)\n",
      "size (height * width):  1203660\n",
      "data type:  uint8\n"
     ]
    }
   ],
   "source": [
    "import cv2 as cv\n",
    "\n",
    "try:\n",
    "    filePath = 'assets/ca.jpg'\n",
    "\n",
    "    img = cv.imread(filePath)\n",
    "\n",
    "    print('dimension (height, width): ', img.shape)\n",
    "    print('size (height * width): ', img.size)\n",
    "    print('data type: ', img.dtype)\n",
    "\n",
    "    cv.imshow(f'CA: {img.shape}', img)\n",
    "\n",
    "    cv.waitKey(0)\n",
    "\n",
    "\n",
    "except Exception as ex:\n",
    "    print(ex)\n",
    "\n",
    "finally:\n",
    "    cv.destroyAllWindows()\n"
   ]
  },
  {
   "cell_type": "code",
   "execution_count": 61,
   "metadata": {},
   "outputs": [
    {
     "name": "stdout",
     "output_type": "stream",
     "text": [
      "dimension (height, width):  (540, 743)\n",
      "size (height * width):  401220\n",
      "data type:  uint8\n"
     ]
    }
   ],
   "source": [
    "import cv2 as cv\n",
    "\n",
    "try:\n",
    "    filePath = 'assets/ca.jpg'\n",
    "\n",
    "    img = cv.imread(filePath, cv.IMREAD_GRAYSCALE)\n",
    "\n",
    "    print('dimension (height, width): ', img.shape)\n",
    "    print('size (height * width): ', img.size)\n",
    "    print('data type: ', img.dtype)\n",
    "\n",
    "    cv.imshow(f'CA: {img.shape}', img)\n",
    "\n",
    "    cv.waitKey(0)\n",
    "\n",
    "\n",
    "except Exception as ex:\n",
    "    print(ex)\n",
    "\n",
    "finally:\n",
    "    cv.destroyAllWindows()\n"
   ]
  },
  {
   "cell_type": "markdown",
   "metadata": {},
   "source": [
    "# Example\n",
    "## Add black, Blue, Green and Red border to ca.jpg\n"
   ]
  },
  {
   "cell_type": "code",
   "execution_count": 66,
   "metadata": {},
   "outputs": [
    {
     "name": "stdout",
     "output_type": "stream",
     "text": [
      "dimension (height, width):  (540, 743, 3)\n",
      "size (height * width):  1203660\n",
      "data type:  uint8\n"
     ]
    }
   ],
   "source": [
    "import cv2 as cv\n",
    "\n",
    "try:\n",
    "    filePath = 'assets/ca.jpg'\n",
    "\n",
    "    img = cv.imread(filePath)\n",
    "\n",
    "    print('dimension (height, width): ', img.shape)\n",
    "    print('size (height * width): ', img.size)\n",
    "    print('data type: ', img.dtype)\n",
    "\n",
    "    cv.imshow(f'CA: {img.shape}', img)\n",
    "    cv.waitKey(0)\n",
    "\n",
    "    # add black border width of border 10 pixels\n",
    "    # make a deep copy of the original image\n",
    "    imgWithBorder = img.copy()\n",
    "\n",
    "    # top border\n",
    "    imgWithBorder[:10,:] = [0,0,0]\n",
    "    cv.imshow('Top Border', imgWithBorder)\n",
    "    cv.waitKey(0)\n",
    "\n",
    "    # bottom border\n",
    "    # BGR\n",
    "    imgWithBorder[-10:,:] = [255,0,0]\n",
    "    cv.imshow('Top-Bottom Border', imgWithBorder)\n",
    "    cv.waitKey(0)\n",
    "\n",
    "    # left border\n",
    "    # BGR\n",
    "    imgWithBorder[:,:10] = [0,255,0]\n",
    "    cv.imshow('Top-Bottom-Left Border', imgWithBorder)\n",
    "    cv.waitKey(0)\n",
    "\n",
    "    # right border\n",
    "    # BGR\n",
    "    imgWithBorder[:,-10:] = [0,0,255]\n",
    "    cv.imshow('Top-Bottom-Left-Right Border', imgWithBorder)\n",
    "    cv.waitKey(0)\n",
    "\n",
    "except Exception as ex:\n",
    "    print(ex)\n",
    "\n",
    "finally:\n",
    "    cv.destroyAllWindows()\n"
   ]
  },
  {
   "cell_type": "code",
   "execution_count": 67,
   "metadata": {},
   "outputs": [],
   "source": [
    "import cv2 as cv\n",
    "\n",
    "try:\n",
    "    filePath = 'assets/ca.jpg'\n",
    "\n",
    "    img = cv.imread(filePath)\n",
    "\n",
    "    cv.imshow(f'CA: {img.shape}', img)\n",
    "    cv.waitKey(0)\n",
    "\n",
    "    # receive border size\n",
    "    kb = input(\"Enter border size: \")\n",
    "\n",
    "    borderSize = int(kb)\n",
    "\n",
    "    # add black border width of border 10 pixels\n",
    "    # make a deep copy of the original image\n",
    "    imgWithBorder = img.copy()\n",
    "\n",
    "    # top border\n",
    "    imgWithBorder[:borderSize,:] = [0,0,0]\n",
    "\n",
    "    # bottom border\n",
    "    # BGR\n",
    "    imgWithBorder[-borderSize:,:] = [255,0,0]\n",
    "\n",
    "    # left border\n",
    "    # BGR\n",
    "    imgWithBorder[:,:borderSize] = [0,255,0]\n",
    "\n",
    "    # right border\n",
    "    # BGR\n",
    "    imgWithBorder[:,-borderSize:] = [0,0,255]\n",
    "\n",
    "    cv.imshow('With Border', imgWithBorder)\n",
    "    cv.waitKey(0)\n",
    "\n",
    "except Exception as ex:\n",
    "    print(ex)\n",
    "\n",
    "finally:\n",
    "    cv.destroyAllWindows()\n"
   ]
  },
  {
   "cell_type": "markdown",
   "metadata": {},
   "source": [
    "# Assigmnent\n",
    "\n",
    "1. Create a border round any choosen image, make sure the border is 10% of the image shape. \n",
    "   1. Surprise me with any color.\n",
    "2. At the center of the image create a yellow square of 20% minimum of the image shape.\n",
    "3. Create a gray image from question 1image and draw a square (10%) of white at four corners of the image."
   ]
  },
  {
   "cell_type": "markdown",
   "metadata": {},
   "source": [
    "#### To get the individual color of a pixel"
   ]
  },
  {
   "cell_type": "code",
   "execution_count": null,
   "metadata": {},
   "outputs": [],
   "source": [
    "import cv2 as cv\n",
    "\n",
    "# img is a cv2.Mat object BGR\n",
    "img = cv.imread(\"assets/OpenCV_logo_white_600x.png\")\n",
    "\n",
    "print('dimension (height, width, channel): ', img.shape)\n",
    "print('size (height * width * channel): ', img.size)\n",
    "print('data type: ', img.dtype)\n",
    "\n",
    "(height, width, channel) = img.shape\n",
    "\n",
    "# height center, left 2\n",
    "i,j = height // 2, 2\n",
    "\n",
    "# array\n",
    "pixel_bgr = img[i,j]\n",
    "print(f'pixel @ [{i},{j}] [b, g, r] = {pixel_bgr}')\n",
    "\n",
    "# spreading array into tuple\n",
    "b, g, r = img[i,j] \n",
    "print(f'pixel @ [{i},{j}] [b, g, r] = {b,g,r}')\n",
    "\n",
    "# individual access\n",
    "b1 = img[i, j, 0]\n",
    "g1 = img[i, j, 1]\n",
    "r1 = img[i, j, 2]\n",
    "\n",
    "print(f'pixel @ [{i}, {j}, 0] b = {b1}')\n",
    "print(f'pixel @ [{i}, {j}, 1] g = {g1}')\n",
    "print(f'pixel @ [{i}, {j}, 2] r = {r1}')\n",
    "\n",
    "print(f'pixel @ [{i}, {j}] [b, g, r] = {b1, g1, r1}')\n"
   ]
  },
  {
   "cell_type": "markdown",
   "metadata": {},
   "source": [
    "#### Changing the value of a pixel"
   ]
  },
  {
   "cell_type": "code",
   "execution_count": null,
   "metadata": {},
   "outputs": [],
   "source": [
    "import cv2 as cv\n",
    "\n",
    "# img is a cv2.Mat object BGR\n",
    "img = cv.imread(\"assets/opencv-logo-white.png\")\n",
    "\n",
    "print('dimension (height, width, channel): ', img.shape)\n",
    "print('size (height * width * channel): ', img.size)\n",
    "print('data type: ', img.dtype)\n",
    "\n",
    "(height, width, channel) = img.shape\n",
    "\n",
    "# height center, left 2\n",
    "i,j = height // 2, 2\n",
    "\n",
    "# individual access\n",
    "b = img[i, j, 0]\n",
    "print(f'pixel @ [{i}, {j}, 0] b = {b}')\n",
    "\n",
    "print(f'pixel @ [{i}, {j}, 0] [b, g, r] = {img[i, j]}')\n",
    "img[i, j, 0] = 255\n",
    "print(f'pixel @ [{i}, {j}, 0] [b, g, r] = {img[i, j]}')\n",
    "\n"
   ]
  },
  {
   "cell_type": "markdown",
   "metadata": {},
   "source": [
    "#### Select top-left part of the image"
   ]
  },
  {
   "cell_type": "code",
   "execution_count": null,
   "metadata": {},
   "outputs": [],
   "source": [
    "import cv2 as cv\n",
    "\n",
    "# img is a cv2.Mat object BGR\n",
    "img = cv.imread(\"assets/OpenCV_logo_white_600x.png\")\n",
    "\n",
    "(height, width, channel) = img.shape\n",
    "\n",
    "# height center, width center\n",
    "h2, w2 = height // 2, width // 2\n",
    "\n",
    "img_top_left = img[0:h2, 0:w2]\n",
    "\n",
    "# display file\n",
    "cv.imshow(\"Full Image\", img)\n",
    "cv.imshow(\"Top left Image\", img_top_left)\n",
    "\n",
    "# pause execution here by waiting for a user to press a key\n",
    "k = cv.waitKey(0)\n",
    "\n",
    "cv.destroyAllWindows()\n"
   ]
  },
  {
   "cell_type": "markdown",
   "metadata": {},
   "source": [
    "#### Change the color of top-left to white (255) and bottom right to black (0)"
   ]
  },
  {
   "cell_type": "code",
   "execution_count": null,
   "metadata": {},
   "outputs": [],
   "source": [
    "import cv2 as cv\n",
    "\n",
    "# img is a cv2.Mat object BGR\n",
    "img = cv.imread(\"assets/OpenCV_logo_white_600x.png\")\n",
    "\n",
    "# display file\n",
    "cv.imshow(\"Original Image\", img)\n",
    "\n",
    "(height, width, channel) = img.shape\n",
    "\n",
    "# height center, width center\n",
    "h2, w2 = height // 2, width // 2\n",
    "\n",
    "img[0:h2, 0:w2] = 255\n",
    "img[h2:, w2:] = 0\n",
    "\n",
    "# display file\n",
    "cv.imshow(\"Modified Image\", img)\n",
    "\n",
    "# pause execution here by waiting for a user to press a key\n",
    "k = cv.waitKey(0)\n",
    "\n",
    "cv.destroyAllWindows()\n"
   ]
  },
  {
   "cell_type": "markdown",
   "metadata": {},
   "source": [
    "### BGR in OpenCV and RGB in others"
   ]
  },
  {
   "cell_type": "markdown",
   "metadata": {},
   "source": [
    "Displaying images in Matplotlib is better abd easier than in opencv window. \n",
    "However the order of the color is BGR in opencv and RGB in matplotlib.  "
   ]
  },
  {
   "cell_type": "code",
   "execution_count": 3,
   "metadata": {},
   "outputs": [
    {
     "data": {
      "image/png": "[encoded data removed]",
      "text/plain": [
       "<Figure size 432x288 with 1 Axes>"
      ]
     },
     "metadata": {
      "needs_background": "light"
     },
     "output_type": "display_data"
    }
   ],
   "source": [
    "import cv2 as cv\n",
    "import matplotlib.pyplot as plt\n",
    "\n",
    "# img is a cv2.Mat object BGR\n",
    "img = cv.imread(\"assets/opencv-logo-white.png\")\n",
    "\n",
    "plt.imshow(img)\n",
    "cv.imshow(\"Original\", img)\n",
    "\n",
    "k = cv.waitKey(0)\n",
    "cv.destroyAllWindows()\n"
   ]
  },
  {
   "cell_type": "markdown",
   "metadata": {},
   "source": [
    "#### To fix the BGR order and convert to RBG"
   ]
  },
  {
   "cell_type": "code",
   "execution_count": 6,
   "metadata": {},
   "outputs": [
    {
     "data": {
      "image/png": "[encoded data removed]",
      "text/plain": [
       "<Figure size 432x288 with 1 Axes>"
      ]
     },
     "metadata": {
      "needs_background": "light"
     },
     "output_type": "display_data"
    }
   ],
   "source": [
    "import cv2 as cv\n",
    "import matplotlib.pyplot as plt\n",
    "\n",
    "# img is a cv2.Mat object BGR\n",
    "img = cv.imread(\"assets/opencv-logo-white.png\")\n",
    "\n",
    "# split the color channels\n",
    "b, g, r = cv.split(img)\n",
    "\n",
    "# merge the color channels\n",
    "imgRGB = cv.merge([r, g, b])\n",
    "\n",
    "plt.imshow(imgRGB)\n",
    "\n",
    "plt.show()"
   ]
  },
  {
   "cell_type": "markdown",
   "metadata": {},
   "source": [
    "or"
   ]
  },
  {
   "cell_type": "code",
   "execution_count": 8,
   "metadata": {},
   "outputs": [
    {
     "data": {
      "image/png": "[encoded data removed]",
      "text/plain": [
       "<Figure size 432x288 with 1 Axes>"
      ]
     },
     "metadata": {
      "needs_background": "light"
     },
     "output_type": "display_data"
    }
   ],
   "source": [
    "import cv2 as cv\n",
    "import matplotlib.pyplot as plt\n",
    "\n",
    "# img is a cv2.Mat object BGR\n",
    "img = cv.imread(\"assets/opencv-logo-white.png\")\n",
    "\n",
    "# get each color channel through indexing\n",
    "b = img[:,:,0]\n",
    "g = img[:,:,1]\n",
    "r = img[:,:,2]\n",
    "\n",
    "# merge the color channels\n",
    "imgRGB = cv.merge([r, g, b])\n",
    "\n",
    "plt.imshow(imgRGB)\n",
    "\n",
    "plt.show()"
   ]
  },
  {
   "cell_type": "markdown",
   "metadata": {},
   "source": [
    "Or using numpy capabilities for advance slicing"
   ]
  },
  {
   "cell_type": "code",
   "execution_count": 15,
   "metadata": {},
   "outputs": [
    {
     "data": {
      "image/png": "[encoded data removed]",
      "text/plain": [
       "<Figure size 432x288 with 1 Axes>"
      ]
     },
     "metadata": {
      "needs_background": "light"
     },
     "output_type": "display_data"
    }
   ],
   "source": [
    "import cv2 as cv\n",
    "import matplotlib.pyplot as plt\n",
    "\n",
    "# img is a cv2.Mat object BGR\n",
    "img = cv.imread(\"assets/opencv-logo-white.png\")\n",
    "\n",
    "# get each color channel through advance slicing and indexing\n",
    "imgRGB = img[:,:,::-1]\n",
    "\n",
    "plt.imshow(imgRGB)\n",
    "\n",
    "plt.show()"
   ]
  },
  {
   "cell_type": "markdown",
   "metadata": {},
   "source": [
    "#### Displaying the two images BGR and RGB side by side"
   ]
  },
  {
   "cell_type": "code",
   "execution_count": 10,
   "metadata": {},
   "outputs": [
    {
     "data": {
      "image/png": "[encoded data removed]",
      "text/plain": [
       "<Figure size 432x288 with 2 Axes>"
      ]
     },
     "metadata": {
      "needs_background": "light"
     },
     "output_type": "display_data"
    }
   ],
   "source": [
    "import cv2 as cv\n",
    "import matplotlib.pyplot as plt\n",
    "\n",
    "# img is a cv2.Mat object BGR\n",
    "img = cv.imread(\"assets/opencv-logo-white.png\")\n",
    "\n",
    "# get each color channel through indexing\n",
    "b = img[:,:,0]\n",
    "g = img[:,:,1]\n",
    "r = img[:,:,2]\n",
    "\n",
    "# merge the color channels\n",
    "imgRGB = cv.merge([r, g, b])\n",
    "\n",
    "nrows = 1\n",
    "ncols = 2\n",
    "# display in row 1 column 1\n",
    "plt.subplot(nrows, ncols, 1)\n",
    "plt.imshow(img)\n",
    "\n",
    "# display in row 1 column 2\n",
    "plt.subplot(1, 2, 2)\n",
    "plt.imshow(imgRGB)\n",
    "\n",
    "plt.show()"
   ]
  },
  {
   "cell_type": "markdown",
   "metadata": {},
   "source": [
    "Display on in same column but different rows"
   ]
  },
  {
   "cell_type": "code",
   "execution_count": 11,
   "metadata": {},
   "outputs": [
    {
     "data": {
      "image/png": "[encoded data removed]",
      "text/plain": [
       "<Figure size 432x288 with 2 Axes>"
      ]
     },
     "metadata": {
      "needs_background": "light"
     },
     "output_type": "display_data"
    }
   ],
   "source": [
    "import cv2 as cv\n",
    "import matplotlib.pyplot as plt\n",
    "\n",
    "# img is a cv2.Mat object BGR\n",
    "img = cv.imread(\"assets/opencv-logo-white.png\")\n",
    "\n",
    "# get each color channel through indexing\n",
    "b = img[:,:,0]\n",
    "g = img[:,:,1]\n",
    "r = img[:,:,2]\n",
    "\n",
    "# merge the color channels\n",
    "imgRGB = cv.merge([r, g, b])\n",
    "\n",
    "nrows = 2\n",
    "ncols = 1\n",
    "# display in row 1 column 1\n",
    "plt.subplot(nrows, ncols, 1)\n",
    "plt.imshow(img)\n",
    "\n",
    "# display in row 1 column 2\n",
    "plt.subplot(212)\n",
    "plt.imshow(imgRGB)\n",
    "\n",
    "plt.show()"
   ]
  },
  {
   "cell_type": "markdown",
   "metadata": {},
   "source": [
    "Creating one big image from the BGR and RGB images by stacking horizontally"
   ]
  },
  {
   "cell_type": "code",
   "execution_count": 12,
   "metadata": {},
   "outputs": [],
   "source": [
    "import cv2 as cv\n",
    "import matplotlib.pyplot as plt\n",
    "import numpy as np\n",
    "\n",
    "# img is a cv2.Mat object BGR\n",
    "img = cv.imread(\"assets/opencv-logo-white.png\")\n",
    "\n",
    "# get each color channel through indexing\n",
    "b = img[:,:,0]\n",
    "g = img[:,:,1]\n",
    "r = img[:,:,2]\n",
    "\n",
    "# merge the color channels\n",
    "imgRGB = cv.merge([r, g, b])\n",
    "\n",
    "# stack horizontally along column\n",
    "bigImg = np.concatenate((img, imgRGB), axis=1)\n",
    "\n",
    "cv.imshow(\"bigImg\", bigImg)\n",
    "\n",
    "k = cv.waitKey(0)\n",
    "cv.destroyAllWindows()"
   ]
  },
  {
   "cell_type": "code",
   "execution_count": 14,
   "metadata": {},
   "outputs": [
    {
     "data": {
      "image/png": "[encoded data removed]",
      "text/plain": [
       "<Figure size 432x288 with 1 Axes>"
      ]
     },
     "metadata": {
      "needs_background": "light"
     },
     "output_type": "display_data"
    }
   ],
   "source": [
    "import cv2 as cv\n",
    "import matplotlib.pyplot as plt\n",
    "import numpy as np\n",
    "\n",
    "# img is a cv2.Mat object BGR\n",
    "img = cv.imread(\"assets/opencv-logo-white.png\")\n",
    "\n",
    "# get each color channel through indexing\n",
    "b = img[:,:,0]\n",
    "g = img[:,:,1]\n",
    "r = img[:,:,2]\n",
    "\n",
    "# merge the color channels\n",
    "imgRGB = cv.merge([r, g, b])\n",
    "\n",
    "# stack horizontally along column\n",
    "bigImg = np.concatenate((img, imgRGB), axis=1)\n",
    "\n",
    "plt.imshow(bigImg)\n",
    "\n",
    "plt.show()"
   ]
  },
  {
   "cell_type": "code",
   "execution_count": null,
   "metadata": {},
   "outputs": [],
   "source": []
  }
 ],
 "metadata": {
  "interpreter": {
   "hash": "6f7c4d44365b28014734406e4d617c1e1f76ea196def854c7b951a230f6e24f1"
  },
  "kernelspec": {
   "display_name": "Python 3.9.5 64-bit",
   "name": "python3"
  },
  "language_info": {
   "codemirror_mode": {
    "name": "ipython",
    "version": 3
   },
   "file_extension": ".py",
   "mimetype": "text/x-python",
   "name": "python",
   "nbconvert_exporter": "python",
   "pygments_lexer": "ipython3",
   "version": "3.9.5"
  },
  "orig_nbformat": 4
 },
 "nbformat": 4,
 "nbformat_minor": 2
}
