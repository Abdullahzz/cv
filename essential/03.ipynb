{
 "cells": [
  {
   "cell_type": "code",
   "execution_count": null,
   "source": [],
   "outputs": [],
   "metadata": {}
  },
  {
   "cell_type": "markdown",
   "source": [
    "# Chapter 3\r\n"
   ],
   "metadata": {}
  },
  {
   "cell_type": "markdown",
   "source": [
    "\r\n",
    "# Python IO Operation, Function and Module\r\n"
   ],
   "metadata": {}
  },
  {
   "cell_type": "markdown",
   "source": [
    "\r\n",
    "## File open, read and write \r\n"
   ],
   "metadata": {}
  },
  {
   "cell_type": "markdown",
   "source": [
    "\r\n",
    "## Define and use a Function\r\n"
   ],
   "metadata": {}
  },
  {
   "cell_type": "markdown",
   "source": [
    "## *Functions* "
   ],
   "metadata": {
    "slideshow": {
     "slide_type": "slide"
    }
   }
  },
  {
   "cell_type": "markdown",
   "source": [
    "Functions are used to contain an expression or formula that will be called several times. The keyword for creating function is ***def***.\n",
    "\n",
    "> def function_name ( \\[ [ [ arg1, ] arg2, ] ... ] ): \n"
   ],
   "metadata": {
    "slideshow": {
     "slide_type": "subslide"
    }
   }
  },
  {
   "cell_type": "markdown",
   "source": [
    "Example: Create a function that greets"
   ],
   "metadata": {
    "slideshow": {
     "slide_type": "subslide"
    }
   }
  },
  {
   "cell_type": "code",
   "execution_count": 66,
   "source": [
    "def greetings():\r\n",
    "    print('Hello! Player 1')"
   ],
   "outputs": [],
   "metadata": {
    "slideshow": {
     "slide_type": "fragment"
    }
   }
  },
  {
   "cell_type": "markdown",
   "source": [
    "Call the function by using the function name follow by the parenthesis."
   ],
   "metadata": {
    "slideshow": {
     "slide_type": "subslide"
    }
   }
  },
  {
   "cell_type": "code",
   "execution_count": 67,
   "source": [
    "greetings()"
   ],
   "outputs": [
    {
     "output_type": "stream",
     "name": "stdout",
     "text": [
      "Hello! Player 1\n"
     ]
    }
   ],
   "metadata": {
    "slideshow": {
     "slide_type": "fragment"
    }
   }
  },
  {
   "cell_type": "markdown",
   "source": [
    "### Example: Create a function to get a list of primes"
   ],
   "metadata": {
    "slideshow": {
     "slide_type": "subslide"
    }
   }
  },
  {
   "cell_type": "code",
   "execution_count": 68,
   "source": [
    "def primes(N):\r\n",
    "    \"\"\"Get a list of Primes from zero to N.\"\"\"\r\n",
    "    primes = []\r\n",
    "\r\n",
    "    for n in range(2, N):\r\n",
    "        for x in primes:\r\n",
    "            if n % x == 0:\r\n",
    "                break\r\n",
    "        else:\r\n",
    "            # loop fell through without finding a factor\r\n",
    "            primes.append(n)\r\n",
    "    return primes"
   ],
   "outputs": [],
   "metadata": {
    "slideshow": {
     "slide_type": "fragment"
    }
   }
  },
  {
   "cell_type": "markdown",
   "source": [
    "Call the primes function and pass the argument it is expecting in this case and integer."
   ],
   "metadata": {
    "slideshow": {
     "slide_type": "subslide"
    }
   }
  },
  {
   "cell_type": "code",
   "execution_count": 69,
   "source": [
    "primes(20)"
   ],
   "outputs": [
    {
     "output_type": "execute_result",
     "data": {
      "text/plain": [
       "[2, 3, 5, 7, 11, 13, 17, 19]"
      ]
     },
     "metadata": {},
     "execution_count": 69
    }
   ],
   "metadata": {
    "slideshow": {
     "slide_type": "fragment"
    }
   }
  },
  {
   "cell_type": "markdown",
   "source": [
    "### Default Argument Values"
   ],
   "metadata": {
    "slideshow": {
     "slide_type": "subslide"
    }
   }
  },
  {
   "cell_type": "markdown",
   "source": [
    "It possible to define a **function** with default value for one or more of the arguments. e.g *arg=value*"
   ],
   "metadata": {
    "slideshow": {
     "slide_type": "fragment"
    }
   }
  },
  {
   "cell_type": "markdown",
   "source": [
    "Example: Create *primes* function that return prime numbers within specify range. It takes two(2) arguments with the from_num having default value of 2.  "
   ],
   "metadata": {
    "slideshow": {
     "slide_type": "subslide"
    }
   }
  },
  {
   "cell_type": "code",
   "execution_count": 70,
   "source": [
    "def primes2(to_num, from_num=2):\r\n",
    "    \"\"\"Get a list of Primes from from_num to to_num.\"\"\"\r\n",
    "    primes = []\r\n",
    "    final_primes = []\r\n",
    "\r\n",
    "    for n in range(2, to_num):\r\n",
    "        for x in primes:\r\n",
    "            if n % x == 0:\r\n",
    "                break\r\n",
    "        else:\r\n",
    "            # loop fell through without finding a factor\r\n",
    "            primes.append(n)\r\n",
    "            if n >= from_num:\r\n",
    "                final_primes.append(n)\r\n",
    "            \r\n",
    "    # get the index of from_num\r\n",
    "    return final_primes"
   ],
   "outputs": [],
   "metadata": {
    "slideshow": {
     "slide_type": "fragment"
    }
   }
  },
  {
   "cell_type": "markdown",
   "source": [
    "Call the primes2 with the 2 positional arguments supplied."
   ],
   "metadata": {
    "slideshow": {
     "slide_type": "subslide"
    }
   }
  },
  {
   "cell_type": "code",
   "execution_count": 71,
   "source": [
    "primes2(213, 175)"
   ],
   "outputs": [
    {
     "output_type": "execute_result",
     "data": {
      "text/plain": [
       "[179, 181, 191, 193, 197, 199, 211]"
      ]
     },
     "metadata": {},
     "execution_count": 71
    }
   ],
   "metadata": {
    "slideshow": {
     "slide_type": "fragment"
    }
   }
  },
  {
   "cell_type": "markdown",
   "source": [
    "Call the primes2 with 1 positional and 2 positional arguments supplied."
   ],
   "metadata": {
    "slideshow": {
     "slide_type": "subslide"
    }
   }
  },
  {
   "cell_type": "code",
   "execution_count": 72,
   "source": [
    "# call primes\r\n",
    "p1 = primes(20)\r\n",
    "\r\n",
    "# call primes2\r\n",
    "p2 = primes2(20)\r\n",
    "p2_20_5 = primes2(20,5)\r\n",
    "p2_20_8 = primes2(20,8)\r\n",
    "p2_20_21 = primes2(20,21)\r\n",
    "\r\n",
    "print(p1)\r\n",
    "print(p2) \r\n",
    "print(p2_20_5) \r\n",
    "print(p2_20_8) \r\n",
    "print(p2_20_21) "
   ],
   "outputs": [
    {
     "output_type": "stream",
     "name": "stdout",
     "text": [
      "[2, 3, 5, 7, 11, 13, 17, 19]\n",
      "[2, 3, 5, 7, 11, 13, 17, 19]\n",
      "[5, 7, 11, 13, 17, 19]\n",
      "[11, 13, 17, 19]\n",
      "[]\n"
     ]
    }
   ],
   "metadata": {
    "slideshow": {
     "slide_type": "subslide"
    }
   }
  },
  {
   "cell_type": "markdown",
   "source": [
    "Take note that *None* was the return value for the last caller:\n",
    "> *p2_20_21 = primes2(20,21)*\n",
    "\n"
   ],
   "metadata": {
    "slideshow": {
     "slide_type": "subslide"
    }
   }
  },
  {
   "cell_type": "markdown",
   "source": [
    "***None*** value represent nothing data type."
   ],
   "metadata": {
    "slideshow": {
     "slide_type": "fragment"
    }
   }
  },
  {
   "cell_type": "markdown",
   "source": [
    "### Keyword Argument Values"
   ],
   "metadata": {
    "slideshow": {
     "slide_type": "subslide"
    }
   }
  },
  {
   "cell_type": "markdown",
   "source": [
    "Functions can also be called by ***keywords*** arguments of the form *kwarg=value*."
   ],
   "metadata": {
    "slideshow": {
     "slide_type": "fragment"
    }
   }
  },
  {
   "cell_type": "code",
   "execution_count": 73,
   "source": [
    "def primes3(to_num, from_num=2, count=3):\r\n",
    "    \"\"\"Get a list of Primes from from_num to to_num.\"\"\"\r\n",
    "    primes = []\r\n",
    "\r\n",
    "    for n in range(2, to_num):\r\n",
    "        for x in primes:\r\n",
    "            if n % x == 0:\r\n",
    "                break\r\n",
    "        else:\r\n",
    "            # loop fell through without finding a factor\r\n",
    "            primes.append(n)\r\n",
    "    \r\n",
    "    # check if from_num is in primes list    \r\n",
    "    if from_num in primes:\r\n",
    "        # get index\r\n",
    "        i = primes.index(from_num)\r\n",
    "        return primes[i:(i+count)]\r\n",
    "    else:\r\n",
    "        # get index above from_num\r\n",
    "        for i in range(len(primes)):\r\n",
    "            if from_num < primes[i]:\r\n",
    "                return primes[i:(i+count)]"
   ],
   "outputs": [],
   "metadata": {
    "slideshow": {
     "slide_type": "subslide"
    }
   }
  },
  {
   "cell_type": "markdown",
   "source": [
    "Call the primes3 with 1 positional and 2 keyword arguments supplied."
   ],
   "metadata": {
    "slideshow": {
     "slide_type": "subslide"
    }
   }
  },
  {
   "cell_type": "code",
   "execution_count": 74,
   "source": [
    "# call primes\r\n",
    "p1 = primes(20)\r\n",
    "\r\n",
    "# call primes2\r\n",
    "p2 = primes2(20)\r\n",
    "\r\n",
    "# call primes3\r\n",
    "p3 = primes3(20, from_num=0)\r\n",
    "p3_20_5 = primes3(20,from_num=5)\r\n",
    "\r\n",
    "# note the swap in count and from_num.\r\n",
    "p3_200_8_5 = primes3(200,from_num=8,count=5)\r\n",
    "p3_200_111_6 = primes3(200, count=6,from_num=111)\r\n",
    "\r\n",
    "print(p1)\r\n",
    "print(p2) \r\n",
    "print('===')\r\n",
    "print('p3:', p3)\r\n",
    "\r\n",
    "print('p3_20_5:',p3_20_5) \r\n",
    "print('p3_200_8_5:',p3_200_8_5) \r\n",
    "print('p3_200_111_6:',p3_200_111_6) "
   ],
   "outputs": [
    {
     "output_type": "stream",
     "name": "stdout",
     "text": [
      "[2, 3, 5, 7, 11, 13, 17, 19]\n",
      "[2, 3, 5, 7, 11, 13, 17, 19]\n",
      "===\n",
      "p3: [2, 3, 5]\n",
      "p3_20_5: [5, 7, 11]\n",
      "p3_200_8_5: [11, 13, 17, 19, 23]\n",
      "p3_200_111_6: [113, 127, 131, 137, 139, 149]\n"
     ]
    }
   ],
   "metadata": {
    "slideshow": {
     "slide_type": "subslide"
    }
   }
  },
  {
   "cell_type": "markdown",
   "source": [
    "\r\n",
    "## Create a Module \r\n"
   ],
   "metadata": {}
  },
  {
   "cell_type": "markdown",
   "source": [
    "\r\n",
    "## Create a Package \r\n",
    "\r\n"
   ],
   "metadata": {}
  },
  {
   "cell_type": "markdown",
   "source": [],
   "metadata": {}
  }
 ],
 "metadata": {
  "orig_nbformat": 4,
  "language_info": {
   "name": "python",
   "version": "3.9.6"
  },
  "kernelspec": {
   "name": "python3",
   "display_name": "Python 3.9.6 64-bit"
  },
  "interpreter": {
   "hash": "c1a7846af735771808fbc8272134e7984cc669109ae413ca91ad8b74a534aa1b"
  }
 },
 "nbformat": 4,
 "nbformat_minor": 2
}