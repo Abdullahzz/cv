{
 "cells": [
  {
   "cell_type": "code",
   "execution_count": null,
   "source": [],
   "outputs": [],
   "metadata": {}
  },
  {
   "cell_type": "markdown",
   "source": [
    "# Chapter 9 \r\n",
    "\r\n"
   ],
   "metadata": {}
  },
  {
   "cell_type": "code",
   "execution_count": 3,
   "source": [
    "!pip install -q numpy "
   ],
   "outputs": [],
   "metadata": {}
  },
  {
   "cell_type": "code",
   "execution_count": 2,
   "source": [
    "def array_properties(a, label='a'):\r\n",
    "    print(label, '= ')\r\n",
    "    print(a)\r\n",
    "    print(\"dim = \", a.ndim)\r\n",
    "    print(\"shape = \", a.shape)\r\n",
    "    print(\"datatype = \", a.dtype)\r\n",
    "    print(\"size = \", a.size)\r\n",
    "    print()"
   ],
   "outputs": [],
   "metadata": {}
  },
  {
   "cell_type": "markdown",
   "source": [
    "# Linear Algebra 2 \r\n"
   ],
   "metadata": {}
  },
  {
   "cell_type": "markdown",
   "source": [
    "## Creating a matrix representation of system of linear equation\r\n",
    "\r\n"
   ],
   "metadata": {}
  },
  {
   "cell_type": "markdown",
   "source": [
    "$$\r\n",
    "A . x = b\r\n",
    "$$\r\n",
    "\r\n",
    "$$\r\n",
    "x = \\frac {b} {A}\r\n",
    "$$\r\n",
    "\r\n",
    "$$\r\n",
    "x = A^{-1} . b\r\n",
    "$$"
   ],
   "metadata": {}
  },
  {
   "cell_type": "markdown",
   "source": [
    "$$\r\n",
    "3x_1 -3x_2 - 4x_3 = 1 \\\\\r\n",
    "x_1 - x_2 - x_3 = 2 \\\\\r\n",
    "2x_1 - x_2 + 4x_3 = 3\t\r\n",
    "$$\r\n",
    "\r\n"
   ],
   "metadata": {}
  },
  {
   "cell_type": "markdown",
   "source": [
    "$$\r\n",
    "A=\\left(\r\n",
    "        \\begin{matrix} \r\n",
    "            3 & -3 & -4 \\\\ \r\n",
    "            1 & -1 & -1 \\\\ \r\n",
    "            2 & -1 & 4 \\\\ \r\n",
    "        \\end{matrix}\r\n",
    "    \\right)\r\n",
    "$$\r\n",
    "\r\n",
    "$$\r\n",
    "x=\\left(\r\n",
    "        \\begin{matrix} \r\n",
    "            x_1 \\\\ \r\n",
    "            x_2 \\\\ \r\n",
    "            x_3 \\\\ \r\n",
    "        \\end{matrix}\r\n",
    "    \\right)\r\n",
    "$$\r\n",
    "\r\n",
    "$$\r\n",
    "b=\\left(\r\n",
    "        \\begin{matrix} \r\n",
    "            1 \\\\ \r\n",
    "            2 \\\\ \r\n",
    "            3 \\\\ \r\n",
    "        \\end{matrix}\r\n",
    "    \\right)\r\n",
    "$$"
   ],
   "metadata": {}
  },
  {
   "cell_type": "markdown",
   "source": [
    "Solve for the values of $ x $."
   ],
   "metadata": {}
  },
  {
   "cell_type": "code",
   "execution_count": 7,
   "source": [
    "import numpy as np\r\n",
    "\r\n",
    "A = np.array([\r\n",
    "    [3., -3., -4.],\r\n",
    "    [1, -1, -1],\r\n",
    "    [2, -1, 4],\r\n",
    "])\r\n",
    "\r\n",
    "array_properties(A, 'A')\r\n"
   ],
   "outputs": [
    {
     "output_type": "stream",
     "name": "stdout",
     "text": [
      "A = \n",
      "[[ 3. -3. -4.]\n",
      " [ 1. -1. -1.]\n",
      " [ 2. -1.  4.]]\n",
      "dim =  2\n",
      "shape =  (3, 3)\n",
      "datatype =  float64\n",
      "size =  9\n",
      "\n"
     ]
    }
   ],
   "metadata": {}
  },
  {
   "cell_type": "code",
   "execution_count": 8,
   "source": [
    "import numpy as np\r\n",
    "\r\n",
    "b = np.array([\r\n",
    "    [1.],\r\n",
    "    [2],\r\n",
    "    [3],\r\n",
    "])\r\n",
    "\r\n",
    "array_properties(b, 'b')\r\n"
   ],
   "outputs": [
    {
     "output_type": "stream",
     "name": "stdout",
     "text": [
      "b = \n",
      "[[1.]\n",
      " [2.]\n",
      " [3.]]\n",
      "dim =  2\n",
      "shape =  (3, 1)\n",
      "datatype =  float64\n",
      "size =  3\n",
      "\n"
     ]
    }
   ],
   "metadata": {}
  },
  {
   "cell_type": "code",
   "execution_count": 9,
   "source": [
    "import numpy as np\r\n",
    "\r\n",
    "x = np.linalg.solve(A,b)\r\n",
    "\r\n",
    "array_properties(x, 'x')"
   ],
   "outputs": [
    {
     "output_type": "stream",
     "name": "stdout",
     "text": [
      "x = \n",
      "[[-24.]\n",
      " [-31.]\n",
      " [  5.]]\n",
      "dim =  2\n",
      "shape =  (3, 1)\n",
      "datatype =  float64\n",
      "size =  3\n",
      "\n"
     ]
    }
   ],
   "metadata": {}
  },
  {
   "cell_type": "code",
   "execution_count": 11,
   "source": [
    "import numpy as np\r\n",
    "\r\n",
    "A_inv = np.linalg.inv(A)\r\n",
    "\r\n",
    "x = A_inv @ b\r\n",
    "\r\n",
    "array_properties(A_inv, 'A_inv')\r\n",
    "array_properties(x, 'x')\r\n"
   ],
   "outputs": [
    {
     "output_type": "stream",
     "name": "stdout",
     "text": [
      "A_inv = \n",
      "[[  5. -16.   1.]\n",
      " [  6. -20.   1.]\n",
      " [ -1.   3.   0.]]\n",
      "dim =  2\n",
      "shape =  (3, 3)\n",
      "datatype =  float64\n",
      "size =  9\n",
      "\n",
      "x = \n",
      "[[-24.]\n",
      " [-31.]\n",
      " [  5.]]\n",
      "dim =  2\n",
      "shape =  (3, 1)\n",
      "datatype =  float64\n",
      "size =  3\n",
      "\n"
     ]
    }
   ],
   "metadata": {}
  },
  {
   "cell_type": "markdown",
   "source": [
    "$$\r\n",
    "\r\n",
    "x_1 = \\frac {D_1} {D}\r\n",
    "\r\n",
    "$$"
   ],
   "metadata": {}
  },
  {
   "cell_type": "code",
   "execution_count": 21,
   "source": [
    "D = np.linalg.det(A)\r\n",
    "print('D = ', D)\r\n"
   ],
   "outputs": [
    {
     "output_type": "stream",
     "name": "stdout",
     "text": [
      "D =  -0.9999999999999998\n"
     ]
    }
   ],
   "metadata": {}
  },
  {
   "cell_type": "code",
   "execution_count": 22,
   "source": [
    "A1 = A.copy()\r\n",
    "\r\n",
    "\r\n",
    "A1[:,0] = b[:,0]\r\n",
    "array_properties(A1, 'A1')\r\n",
    "\r\n",
    "D1 = np.linalg.det(A1)\r\n",
    "print('D1= ', D1)\r\n",
    "\r\n",
    "x1 = D1 / D\r\n",
    "print('x1 = ', x1)"
   ],
   "outputs": [
    {
     "output_type": "stream",
     "name": "stdout",
     "text": [
      "A1 = \n",
      "[[ 1. -3. -4.]\n",
      " [ 2. -1. -1.]\n",
      " [ 3. -1.  4.]]\n",
      "dim =  2\n",
      "shape =  (3, 3)\n",
      "datatype =  float64\n",
      "size =  9\n",
      "\n",
      "D1=  24.000000000000014\n",
      "x1 =  -24.00000000000002\n"
     ]
    }
   ],
   "metadata": {}
  },
  {
   "cell_type": "code",
   "execution_count": 24,
   "source": [
    "# xx = []\r\n",
    "\r\n",
    "for i in range(3):\r\n",
    "    AA = A.copy()\r\n",
    "\r\n",
    "    AA[:,i] = b[:,0]\r\n",
    "    # array_properties(AA, f'A{i+1}')\r\n",
    "\r\n",
    "    DD = np.linalg.det(AA)\r\n",
    "    print(f'D{i+1}= ', DD)\r\n",
    "\r\n",
    "    xx = DD / D\r\n",
    "    print(f'x{i+1} = ', xx)\r\n"
   ],
   "outputs": [
    {
     "output_type": "stream",
     "name": "stdout",
     "text": [
      "D1=  24.000000000000014\n",
      "x1 =  -24.00000000000002\n",
      "D2=  31.0\n",
      "x2 =  -31.000000000000007\n",
      "D3=  -5.000000000000001\n",
      "x3 =  5.000000000000002\n"
     ]
    }
   ],
   "metadata": {}
  },
  {
   "cell_type": "markdown",
   "source": [],
   "metadata": {}
  }
 ],
 "metadata": {
  "orig_nbformat": 4,
  "language_info": {
   "name": "python",
   "version": "3.9.6",
   "mimetype": "text/x-python",
   "codemirror_mode": {
    "name": "ipython",
    "version": 3
   },
   "pygments_lexer": "ipython3",
   "nbconvert_exporter": "python",
   "file_extension": ".py"
  },
  "kernelspec": {
   "name": "python3",
   "display_name": "Python 3.9.6 64-bit"
  },
  "interpreter": {
   "hash": "c1a7846af735771808fbc8272134e7984cc669109ae413ca91ad8b74a534aa1b"
  }
 },
 "nbformat": 4,
 "nbformat_minor": 2
}