{
 "cells": [
  {
   "cell_type": "code",
   "execution_count": null,
   "metadata": {},
   "outputs": [],
   "source": []
  },
  {
   "cell_type": "markdown",
   "metadata": {},
   "source": [
    "# Chapter 9 \n",
    "\n"
   ]
  },
  {
   "cell_type": "code",
   "execution_count": 3,
   "metadata": {},
   "outputs": [],
   "source": [
    "!pip install -q numpy "
   ]
  },
  {
   "cell_type": "code",
   "execution_count": 2,
   "metadata": {},
   "outputs": [],
   "source": [
    "def array_properties(a, label='a'):\n",
    "    print(label, '= ')\n",
    "    print(a)\n",
    "    print(\"dim = \", a.ndim)\n",
    "    print(\"shape = \", a.shape)\n",
    "    print(\"datatype = \", a.dtype)\n",
    "    print(\"size = \", a.size)\n",
    "    print()"
   ]
  },
  {
   "cell_type": "markdown",
   "metadata": {},
   "source": [
    "# Linear Algebra 2 \n"
   ]
  },
  {
   "cell_type": "markdown",
   "metadata": {},
   "source": [
    "## Creating a matrix representation of system of linear equation\n",
    "\n"
   ]
  },
  {
   "cell_type": "markdown",
   "metadata": {},
   "source": [
    "$$\n",
    "A . x = b\n",
    "$$\n",
    "\n",
    "$$\n",
    "x = \\frac {b} {A}\n",
    "$$\n",
    "\n",
    "$$\n",
    "x = A^{-1} . b\n",
    "$$"
   ]
  },
  {
   "cell_type": "markdown",
   "metadata": {},
   "source": [
    "$$\n",
    "3x_1 -3x_2 - 4x_3 = 1 \\\\\n",
    "x_1 - x_2 - x_3 = 2 \\\\\n",
    "2x_1 - x_2 + 4x_3 = 3\t\n",
    "$$\n",
    "\n"
   ]
  },
  {
   "cell_type": "markdown",
   "metadata": {},
   "source": [
    "$$\n",
    "A=\\left(\n",
    "        \\begin{matrix} \n",
    "            3 & -3 & -4 \\\\ \n",
    "            1 & -1 & -1 \\\\ \n",
    "            2 & -1 & 4 \\\\ \n",
    "        \\end{matrix}\n",
    "    \\right)\n",
    "$$\n",
    "\n",
    "$$\n",
    "x=\\left(\n",
    "        \\begin{matrix} \n",
    "            x_1 \\\\ \n",
    "            x_2 \\\\ \n",
    "            x_3 \\\\ \n",
    "        \\end{matrix}\n",
    "    \\right)\n",
    "$$\n",
    "\n",
    "$$\n",
    "b=\\left(\n",
    "        \\begin{matrix} \n",
    "            1 \\\\ \n",
    "            2 \\\\ \n",
    "            3 \\\\ \n",
    "        \\end{matrix}\n",
    "    \\right)\n",
    "$$"
   ]
  },
  {
   "cell_type": "markdown",
   "metadata": {},
   "source": [
    "Solve for the values of $ x $."
   ]
  },
  {
   "cell_type": "code",
   "execution_count": 7,
   "metadata": {},
   "outputs": [
    {
     "name": "stdout",
     "output_type": "stream",
     "text": [
      "A = \n",
      "[[ 3. -3. -4.]\n",
      " [ 1. -1. -1.]\n",
      " [ 2. -1.  4.]]\n",
      "dim =  2\n",
      "shape =  (3, 3)\n",
      "datatype =  float64\n",
      "size =  9\n",
      "\n"
     ]
    }
   ],
   "source": [
    "import numpy as np\n",
    "\n",
    "A = np.array([\n",
    "    [3., -3., -4.],\n",
    "    [1, -1, -1],\n",
    "    [2, -1, 4],\n",
    "])\n",
    "\n",
    "array_properties(A, 'A')\n"
   ]
  },
  {
   "cell_type": "code",
   "execution_count": 8,
   "metadata": {},
   "outputs": [
    {
     "name": "stdout",
     "output_type": "stream",
     "text": [
      "b = \n",
      "[[1.]\n",
      " [2.]\n",
      " [3.]]\n",
      "dim =  2\n",
      "shape =  (3, 1)\n",
      "datatype =  float64\n",
      "size =  3\n",
      "\n"
     ]
    }
   ],
   "source": [
    "import numpy as np\n",
    "\n",
    "b = np.array([\n",
    "    [1.],\n",
    "    [2],\n",
    "    [3],\n",
    "])\n",
    "\n",
    "array_properties(b, 'b')\n"
   ]
  },
  {
   "cell_type": "code",
   "execution_count": 9,
   "metadata": {},
   "outputs": [
    {
     "name": "stdout",
     "output_type": "stream",
     "text": [
      "x = \n",
      "[[-24.]\n",
      " [-31.]\n",
      " [  5.]]\n",
      "dim =  2\n",
      "shape =  (3, 1)\n",
      "datatype =  float64\n",
      "size =  3\n",
      "\n"
     ]
    }
   ],
   "source": [
    "import numpy as np\n",
    "\n",
    "x = np.linalg.solve(A,b)\n",
    "\n",
    "array_properties(x, 'x')"
   ]
  },
  {
   "cell_type": "code",
   "execution_count": 11,
   "metadata": {},
   "outputs": [
    {
     "name": "stdout",
     "output_type": "stream",
     "text": [
      "A_inv = \n",
      "[[  5. -16.   1.]\n",
      " [  6. -20.   1.]\n",
      " [ -1.   3.   0.]]\n",
      "dim =  2\n",
      "shape =  (3, 3)\n",
      "datatype =  float64\n",
      "size =  9\n",
      "\n",
      "x = \n",
      "[[-24.]\n",
      " [-31.]\n",
      " [  5.]]\n",
      "dim =  2\n",
      "shape =  (3, 1)\n",
      "datatype =  float64\n",
      "size =  3\n",
      "\n"
     ]
    }
   ],
   "source": [
    "import numpy as np\n",
    "\n",
    "A_inv = np.linalg.inv(A)\n",
    "\n",
    "x = A_inv @ b\n",
    "\n",
    "array_properties(A_inv, 'A_inv')\n",
    "array_properties(x, 'x')\n"
   ]
  },
  {
   "cell_type": "markdown",
   "metadata": {},
   "source": [
    "$$\n",
    "\n",
    "x_1 = \\frac {D_1} {D}\n",
    "\n",
    "$$"
   ]
  },
  {
   "cell_type": "code",
   "execution_count": 21,
   "metadata": {},
   "outputs": [
    {
     "name": "stdout",
     "output_type": "stream",
     "text": [
      "D =  -0.9999999999999998\n"
     ]
    }
   ],
   "source": [
    "D = np.linalg.det(A)\n",
    "print('D = ', D)\n"
   ]
  },
  {
   "cell_type": "code",
   "execution_count": 22,
   "metadata": {},
   "outputs": [
    {
     "name": "stdout",
     "output_type": "stream",
     "text": [
      "A1 = \n",
      "[[ 1. -3. -4.]\n",
      " [ 2. -1. -1.]\n",
      " [ 3. -1.  4.]]\n",
      "dim =  2\n",
      "shape =  (3, 3)\n",
      "datatype =  float64\n",
      "size =  9\n",
      "\n",
      "D1=  24.000000000000014\n",
      "x1 =  -24.00000000000002\n"
     ]
    }
   ],
   "source": [
    "A1 = A.copy()\n",
    "\n",
    "\n",
    "A1[:,0] = b[:,0]\n",
    "array_properties(A1, 'A1')\n",
    "\n",
    "D1 = np.linalg.det(A1)\n",
    "print('D1= ', D1)\n",
    "\n",
    "x1 = D1 / D\n",
    "print('x1 = ', x1)"
   ]
  },
  {
   "cell_type": "code",
   "execution_count": 24,
   "metadata": {},
   "outputs": [
    {
     "name": "stdout",
     "output_type": "stream",
     "text": [
      "D1=  24.000000000000014\n",
      "x1 =  -24.00000000000002\n",
      "D2=  31.0\n",
      "x2 =  -31.000000000000007\n",
      "D3=  -5.000000000000001\n",
      "x3 =  5.000000000000002\n"
     ]
    }
   ],
   "source": [
    "# xx = []\n",
    "\n",
    "for i in range(3):\n",
    "    AA = A.copy()\n",
    "\n",
    "    AA[:,i] = b[:,0]\n",
    "    # array_properties(AA, f'A{i+1}')\n",
    "\n",
    "    DD = np.linalg.det(AA)\n",
    "    print(f'D{i+1}= ', DD)\n",
    "\n",
    "    xx = DD / D\n",
    "    print(f'x{i+1} = ', xx)\n"
   ]
  },
  {
   "cell_type": "markdown",
   "metadata": {},
   "source": []
  }
 ],
 "metadata": {
  "interpreter": {
   "hash": "c1a7846af735771808fbc8272134e7984cc669109ae413ca91ad8b74a534aa1b"
  },
  "kernelspec": {
   "display_name": "Python 3.9.6 64-bit",
   "name": "python3"
  },
  "language_info": {
   "codemirror_mode": {
    "name": "ipython",
    "version": 3
   },
   "file_extension": ".py",
   "mimetype": "text/x-python",
   "name": "python",
   "nbconvert_exporter": "python",
   "pygments_lexer": "ipython3",
   "version": "3.9.6"
  },
  "orig_nbformat": 4
 },
 "nbformat": 4,
 "nbformat_minor": 2
}
