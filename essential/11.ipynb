{
 "cells": [
  {
   "cell_type": "code",
   "execution_count": null,
   "source": [],
   "outputs": [],
   "metadata": {}
  },
  {
   "cell_type": "markdown",
   "source": [
    "# Chapter 11 \r\n",
    "\r\n"
   ],
   "metadata": {}
  },
  {
   "cell_type": "markdown",
   "source": [
    "# Introduction to OpenCV \r\n"
   ],
   "metadata": {}
  },
  {
   "cell_type": "markdown",
   "source": [
    "OpenCV is an open source library for image and video manipulation and processing for computer vision."
   ],
   "metadata": {}
  },
  {
   "cell_type": "markdown",
   "source": [
    "## Installation of OpenCV \r\n",
    "\r\n"
   ],
   "metadata": {}
  },
  {
   "cell_type": "markdown",
   "source": [
    "#### Install Python 3 \r\n"
   ],
   "metadata": {}
  },
  {
   "cell_type": "markdown",
   "source": [
    "#### Install necessary packages"
   ],
   "metadata": {}
  },
  {
   "cell_type": "code",
   "execution_count": 1,
   "source": [
    "!pip install -q numpy\r\n",
    "!pip install -q opencv-contrib-python\r\n",
    "!pip install -q pandas\r\n",
    "!pip install -q matplotlib\r\n",
    "!pip install -q scipy"
   ],
   "outputs": [],
   "metadata": {}
  },
  {
   "cell_type": "markdown",
   "source": [
    "## File and Image Basic in OpenCV\r\n"
   ],
   "metadata": {}
  },
  {
   "cell_type": "markdown",
   "source": [
    "### Accessing Command line argument in Python "
   ],
   "metadata": {}
  },
  {
   "cell_type": "code",
   "execution_count": 6,
   "source": [
    "import sys\r\n",
    "\r\n",
    "print(\"commandline argument array \\n\", sys.argv)\r\n",
    "print()\r\n",
    "print(\"first argument: \", sys.argv[0])\r\n",
    "print(\"second argument: \", sys.argv[1])\r\n"
   ],
   "outputs": [
    {
     "output_type": "stream",
     "name": "stdout",
     "text": [
      "commandline argument array \n",
      " ['C:\\\\Users\\\\gokel\\\\AppData\\\\Roaming\\\\Python\\\\Python39\\\\site-packages\\\\ipykernel_launcher.py', '--ip=127.0.0.1', '--stdin=9008', '--control=9006', '--hb=9005', '--Session.signature_scheme=\"hmac-sha256\"', '--Session.key=b\"cd7bd5c2-597c-4d43-a9e1-2b3670cd31f8\"', '--shell=9007', '--transport=\"tcp\"', '--iopub=9009', '--f=C:\\\\Users\\\\gokel\\\\AppData\\\\Local\\\\Temp\\\\tmp-10320ZC4TJ2hESMxo.json']\n",
      "\n",
      "first argument:  C:\\Users\\gokel\\AppData\\Roaming\\Python\\Python39\\site-packages\\ipykernel_launcher.py\n",
      "second argument:  --ip=127.0.0.1\n"
     ]
    }
   ],
   "metadata": {}
  },
  {
   "cell_type": "markdown",
   "source": [
    "See `test_command_line.py` file"
   ],
   "metadata": {}
  },
  {
   "cell_type": "markdown",
   "source": [
    "### Reading and displaying image file."
   ],
   "metadata": {}
  },
  {
   "cell_type": "code",
   "execution_count": null,
   "source": [
    "import sys\r\n",
    "import cv2 as cv\r\n",
    "import matplotlib.pyplot as plt\r\n",
    "\r\n",
    "# get the file path from command line\r\n",
    "filePath = sys.argv[1]\r\n",
    "\r\n",
    "# read image file\r\n",
    "img = cv.imread(filePath)\r\n",
    "\r\n",
    "# check if file found\r\n",
    "if img is None:\r\n",
    "    sys.exit(\"Could not read the image.\")\r\n",
    "\r\n",
    "# display file\r\n",
    "cv.imshow(\"Display window\", img)\r\n",
    "\r\n",
    "# pause execution here by waiting for a user to press a key\r\n",
    "k = cv.waitKey(0)\r\n",
    "\r\n",
    "# if user typed s save file as PNG file\r\n",
    "if k == ord(\"s\"):\r\n",
    "    cv.imwrite(\"test.png\", img)\r\n",
    "\r\n",
    "cv.destroyAllWindows()\r\n",
    "\r\n",
    "\r\n"
   ],
   "outputs": [],
   "metadata": {}
  },
  {
   "cell_type": "markdown",
   "source": [
    "#### For file in a known folder"
   ],
   "metadata": {}
  },
  {
   "cell_type": "code",
   "execution_count": 7,
   "source": [
    "\r\n",
    "import sys\r\n",
    "import cv2 as cv\r\n",
    "import matplotlib.pyplot as plt\r\n",
    "\r\n",
    "# get the file path from command line\r\n",
    "# filePath = sys.argv[1]\r\n",
    "# get sample file path for \"starry_night.jpg\"\r\n",
    "filePath = \"../samples/data/starry_night.jpg\"\r\n",
    "\r\n",
    "\r\n",
    "# read image file\r\n",
    "img = cv.imread(filePath)\r\n",
    "\r\n",
    "# check if file found\r\n",
    "if img is None:\r\n",
    "    sys.exit(\"Could not read the image.\")\r\n",
    "\r\n",
    "# display file\r\n",
    "cv.imshow(\"Display window\", img)\r\n",
    "\r\n",
    "# pause execution here by waiting for a user to press a key\r\n",
    "k = cv.waitKey(0)\r\n",
    "\r\n",
    "# if user typed s save file as PNG file\r\n",
    "if k == ord(\"s\"):\r\n",
    "    cv.imwrite(\"test.png\", img)\r\n",
    "\r\n",
    "cv.destroyAllWindows()\r\n",
    "\r\n",
    "\r\n"
   ],
   "outputs": [],
   "metadata": {}
  },
  {
   "cell_type": "markdown",
   "source": [
    "## Reading Camera frames and Video Files"
   ],
   "metadata": {}
  },
  {
   "cell_type": "markdown",
   "source": [
    "Capture from camera (pass 0) for the first connected camera"
   ],
   "metadata": {}
  },
  {
   "cell_type": "code",
   "execution_count": 2,
   "source": [
    "import cv2 as cv\r\n",
    "\r\n",
    "\r\n",
    "capture = cv.VideoCapture(0)\r\n",
    "# check if connected\r\n",
    "if capture.isOpened() is False:\r\n",
    "    print(\"Error opening camera 0\")\r\n",
    "    exit()\r\n",
    "\r\n",
    "while capture.isOpened():\r\n",
    "    # capture frames, if read correctly ret is True\r\n",
    "    ret, frame = capture.read()\r\n",
    "\r\n",
    "    if not ret:\r\n",
    "        print(\"Didn't receive frame. Stop \")\r\n",
    "        break\r\n",
    "\r\n",
    "    # display frame\r\n",
    "    cv.imshow(\"Camera frame\", frame)\r\n",
    "\r\n",
    "    k = cv.waitKey(1)\r\n",
    "\r\n",
    "    # check if key is q then exit\r\n",
    "    if k == ord(\"q\"):\r\n",
    "        break\r\n",
    "\r\n",
    "capture.release()\r\n",
    "cv.destroyAllWindows()\r\n",
    "\r\n"
   ],
   "outputs": [],
   "metadata": {}
  },
  {
   "cell_type": "markdown",
   "source": [
    "Display the caputre frame as gray."
   ],
   "metadata": {}
  },
  {
   "cell_type": "code",
   "execution_count": 3,
   "source": [
    "import cv2 as cv\r\n",
    "\r\n",
    "\r\n",
    "capture = cv.VideoCapture(0)\r\n",
    "# check if connected\r\n",
    "if capture.isOpened() is False:\r\n",
    "    print(\"Error opening camera 0\")\r\n",
    "    exit()\r\n",
    "\r\n",
    "while capture.isOpened():\r\n",
    "    # capture frames, if read correctly ret is True\r\n",
    "    ret, frame = capture.read()\r\n",
    "\r\n",
    "    if not ret:\r\n",
    "        print(\"Didn't receive frame. Stop \")\r\n",
    "        break\r\n",
    "\r\n",
    "    frame_gray = cv.cvtColor(frame, cv.COLOR_BGR2GRAY)\r\n",
    "    # display frame\r\n",
    "    cv.imshow(\"Camera frame\", frame_gray)\r\n",
    "\r\n",
    "    k = cv.waitKey(10)\r\n",
    "\r\n",
    "    # check if key is q then exit\r\n",
    "    if k == ord(\"q\"):\r\n",
    "        break\r\n",
    "\r\n",
    "capture.release()\r\n",
    "cv.destroyAllWindows()\r\n",
    "\r\n"
   ],
   "outputs": [],
   "metadata": {}
  },
  {
   "cell_type": "markdown",
   "source": [
    "Flip the captured frames"
   ],
   "metadata": {}
  },
  {
   "cell_type": "code",
   "execution_count": 8,
   "source": [
    "import cv2 as cv\r\n",
    "\r\n",
    "FLIP_VERTICAL = 0\r\n",
    "FLIP_HORIZONTAL = 1\r\n",
    "FLIP_SYMMETRICAL = -1\r\n",
    "\r\n",
    "capture = cv.VideoCapture(0)\r\n",
    "# check if connected\r\n",
    "if capture.isOpened() is False:\r\n",
    "    print(\"Error opening camera 0\")\r\n",
    "    exit()\r\n",
    "\r\n",
    "while capture.isOpened():\r\n",
    "    # capture frames, if read correctly ret is True\r\n",
    "    ret, frame = capture.read()\r\n",
    "\r\n",
    "    if not ret:\r\n",
    "        print(\"Didn't receive frame. Stop \")\r\n",
    "        break\r\n",
    "\r\n",
    "    # display frame\r\n",
    "\r\n",
    "    frame_flipped = cv.flip(frame, FLIP_SYMMETRICAL)\r\n",
    "    cv.imshow(\"Camera frame\", frame_flipped)\r\n",
    "\r\n",
    "    k = cv.waitKey(1)\r\n",
    "\r\n",
    "    # check if key is q then exit\r\n",
    "    if k == ord(\"q\"):\r\n",
    "        break\r\n",
    "\r\n",
    "capture.release()\r\n",
    "cv.destroyAllWindows()\r\n",
    "\r\n"
   ],
   "outputs": [],
   "metadata": {}
  },
  {
   "cell_type": "markdown",
   "source": [
    "### Saving camera frames"
   ],
   "metadata": {}
  },
  {
   "cell_type": "code",
   "execution_count": 4,
   "source": [
    "import cv2 as cv\r\n",
    "\r\n",
    "\r\n",
    "capture = cv.VideoCapture(0)\r\n",
    "# check if connected\r\n",
    "if capture.isOpened() is False:\r\n",
    "    print(\"Error opening camera 0\")\r\n",
    "    exit()\r\n",
    "\r\n",
    "while capture.isOpened():\r\n",
    "    # capture frames, if read correctly ret is True\r\n",
    "    ret, frame = capture.read()\r\n",
    "\r\n",
    "    if not ret:\r\n",
    "        print(\"Didn't receive frame. Stop \")\r\n",
    "        break\r\n",
    "\r\n",
    "    # display frame\r\n",
    "    cv.imshow(\"Camera frame\", frame)\r\n",
    "\r\n",
    "    k = cv.waitKey(1)\r\n",
    "\r\n",
    "    # check if key is s then save frame\r\n",
    "    if k == ord(\"s\"):\r\n",
    "        # save color frame\r\n",
    "        cv.imwrite('frame.png', frame)\r\n",
    "        # convert frame to gray\r\n",
    "        frame_gray = cv.cvtColor(frame, cv.COLOR_BGR2GRAY)\r\n",
    "        # save gray frame\r\n",
    "        cv.imwrite('frame_gray.png', frame_gray)\r\n",
    "\r\n",
    "    # check if key is q then exit\r\n",
    "    if k == ord(\"q\"):\r\n",
    "        break\r\n",
    "\r\n",
    "capture.release()\r\n",
    "cv.destroyAllWindows()\r\n",
    "\r\n"
   ],
   "outputs": [],
   "metadata": {}
  },
  {
   "cell_type": "markdown",
   "source": [
    "### Saving camera Video\r\n"
   ],
   "metadata": {}
  },
  {
   "cell_type": "code",
   "execution_count": 1,
   "source": [
    "import cv2 as cv\r\n",
    "\r\n",
    "\r\n",
    "capture = cv.VideoCapture(0)\r\n",
    "# check if connected\r\n",
    "if capture.isOpened() is False:\r\n",
    "    print(\"Error opening camera 0\")\r\n",
    "    exit()\r\n",
    "\r\n",
    "# Define the codec and create VideoWriter object\r\n",
    "fourcc = cv.VideoWriter_fourcc(*'XVID')\r\n",
    "video_out = cv.VideoWriter('output.avi', fourcc, 20.0, (640,  480))\r\n",
    "\r\n",
    "while capture.isOpened():\r\n",
    "    # capture frames, if read correctly ret is True\r\n",
    "    ret, frame = capture.read()\r\n",
    "\r\n",
    "    if not ret:\r\n",
    "        print(\"Didn't receive frame. Stop \")\r\n",
    "        break\r\n",
    "\r\n",
    "    # write the flipped frame\r\n",
    "    video_out.write(frame)\r\n",
    "    \r\n",
    "    # display frame\r\n",
    "    cv.imshow(\"Camera frame\", frame)\r\n",
    "\r\n",
    "    k = cv.waitKey(1) \r\n",
    "    # check if key is q then exit\r\n",
    "    if k == ord(\"q\"):\r\n",
    "        break\r\n",
    "\r\n",
    "capture.release()\r\n",
    "video_out.release()\r\n",
    "cv.destroyAllWindows()\r\n",
    "\r\n"
   ],
   "outputs": [],
   "metadata": {}
  },
  {
   "cell_type": "markdown",
   "source": [
    "### Reading a video file"
   ],
   "metadata": {}
  },
  {
   "cell_type": "code",
   "execution_count": 3,
   "source": [
    "\r\n",
    "import sys\r\n",
    "import cv2 as cv\r\n",
    "import matplotlib.pyplot as plt\r\n",
    "\r\n",
    "# get the file path from command line\r\n",
    "# filePath = sys.argv[1]\r\n",
    "# get sample file path for \"starry_night.jpg\"\r\n",
    "filePath = \"../samples/data/vtest.avi\"\r\n",
    "\r\n",
    "capture = cv.VideoCapture(filePath)\r\n",
    "\r\n",
    "# check if connected\r\n",
    "if capture.isOpened() is False:\r\n",
    "    print(\"Error opening camera 0\")\r\n",
    "    exit()\r\n",
    "\r\n",
    "while capture.isOpened():\r\n",
    "    # capture frames, if read correctly ret is True\r\n",
    "    ret, frame = capture.read()\r\n",
    "\r\n",
    "    if not ret:\r\n",
    "        print(\"Didn't receive frame. Stop \")\r\n",
    "        break\r\n",
    "\r\n",
    "    # display frame\r\n",
    "    cv.imshow(\"Camera frame\", frame)\r\n",
    "\r\n",
    "    k = cv.waitKey(10)\r\n",
    "\r\n",
    "    # check if key is q then exit\r\n",
    "    if k == ord(\"q\"):\r\n",
    "        break\r\n",
    "\r\n",
    "capture.release()\r\n",
    "cv.destroyAllWindows()\r\n"
   ],
   "outputs": [],
   "metadata": {}
  },
  {
   "cell_type": "markdown",
   "source": [
    "### Read video file and display in Gray"
   ],
   "metadata": {}
  },
  {
   "cell_type": "code",
   "execution_count": 4,
   "source": [
    "import sys\r\n",
    "import cv2 as cv\r\n",
    "\r\n",
    "# get the file path from command line\r\n",
    "# filePath = sys.argv[1]\r\n",
    "filePath = \"../samples/data/vtest.avi\"\r\n",
    "\r\n",
    "capture = cv.VideoCapture(filePath)\r\n",
    "\r\n",
    "# check if connected\r\n",
    "if capture.isOpened() is False:\r\n",
    "    print(\"Error opening camera 0\")\r\n",
    "    exit()\r\n",
    "\r\n",
    "while capture.isOpened():\r\n",
    "    # capture frames, if read correctly ret is True\r\n",
    "    ret, frame = capture.read()\r\n",
    "\r\n",
    "    if not ret:\r\n",
    "        print(\"Didn't receive frame. Stop \")\r\n",
    "        break\r\n",
    "\r\n",
    "    frame_gray = cv.cvtColor(frame, cv.COLOR_BGR2GRAY)\r\n",
    "    # display frame\r\n",
    "    cv.imshow(\"Camera frame\", frame_gray)\r\n",
    "\r\n",
    "    k = cv.waitKey(10)\r\n",
    "\r\n",
    "    # check if key is q then exit\r\n",
    "    if k == ord(\"q\"):\r\n",
    "        break\r\n",
    "\r\n",
    "capture.release()\r\n",
    "cv.destroyAllWindows()\r\n"
   ],
   "outputs": [],
   "metadata": {}
  },
  {
   "cell_type": "markdown",
   "source": [
    "### Reading and displaying video from an IP camera"
   ],
   "metadata": {}
  },
  {
   "cell_type": "code",
   "execution_count": 5,
   "source": [
    "import sys\r\n",
    "import cv2 as cv\r\n",
    "\r\n",
    "# get the file path from command line\r\n",
    "# filePath = sys.argv[1]\r\n",
    "filePath = \"http://217.126.89.102:8010/axis-cgi/mjpg/video.cgi\"\r\n",
    "\r\n",
    "capture = cv.VideoCapture(filePath)\r\n",
    "\r\n",
    "# check if connected\r\n",
    "if capture.isOpened() is False:\r\n",
    "    print(\"Error opening ip camera \")\r\n",
    "    exit()\r\n",
    "\r\n",
    "while capture.isOpened():\r\n",
    "    # capture frames, if read correctly ret is True\r\n",
    "    ret, frame = capture.read()\r\n",
    "\r\n",
    "    if not ret:\r\n",
    "        print(\"Didn't receive frame. Stop \")\r\n",
    "        break\r\n",
    "\r\n",
    "    frame_gray = cv.cvtColor(frame, cv.COLOR_BGR2GRAY)\r\n",
    "    # display frame\r\n",
    "    cv.imshow(\"Camera frame\", frame_gray)\r\n",
    "\r\n",
    "    k = cv.waitKey(10)\r\n",
    "\r\n",
    "    # check if key is q then exit\r\n",
    "    if k == ord(\"q\"):\r\n",
    "        break\r\n",
    "\r\n",
    "capture.release()\r\n",
    "cv.destroyAllWindows()\r\n"
   ],
   "outputs": [
    {
     "output_type": "stream",
     "name": "stdout",
     "text": [
      "Error opening camera 0\n"
     ]
    }
   ],
   "metadata": {}
  },
  {
   "cell_type": "markdown",
   "source": [
    "Accessing capture object properties"
   ],
   "metadata": {}
  },
  {
   "cell_type": "code",
   "execution_count": 2,
   "source": [
    "import sys\r\n",
    "import cv2 as cv\r\n",
    "\r\n",
    "# get the file path from command line\r\n",
    "# filePath = sys.argv[1]\r\n",
    "filePath = 0\r\n",
    "\r\n",
    "capture = cv.VideoCapture(filePath)\r\n",
    "\r\n",
    "# get some properties\r\n",
    "frame_width = capture.get(cv.CAP_PROP_FRAME_WIDTH)\r\n",
    "frame_height = capture.get(cv.CAP_PROP_FRAME_HEIGHT)\r\n",
    "fps = capture.get(cv.CAP_PROP_FPS)\r\n",
    "\r\n",
    "print(f\"CV_CAP_PROP_FRAME_WIDTH: {frame_width}\")\r\n",
    "print(f\"CV_CAP_PROP_FRAME_HEIGHT : {frame_height}\")\r\n",
    "print(f\"CAP_PROP_FPS : {fps}\")\r\n",
    "\r\n",
    "# check if connected\r\n",
    "if capture.isOpened() is False:\r\n",
    "    print(\"Error opening ip camera \")\r\n",
    "    exit()\r\n",
    "\r\n",
    "while capture.isOpened():\r\n",
    "    # capture frames, if read correctly ret is True\r\n",
    "    ret, frame = capture.read()\r\n",
    "\r\n",
    "    if not ret:\r\n",
    "        print(\"Didn't receive frame. Stop \")\r\n",
    "        break\r\n",
    "\r\n",
    "    frame_gray = cv.cvtColor(frame, cv.COLOR_BGR2GRAY)\r\n",
    "    # display frame\r\n",
    "    cv.imshow(\"Camera frame\", frame_gray)\r\n",
    "\r\n",
    "    k = cv.waitKey(10)\r\n",
    "\r\n",
    "    # check if key is q then exit\r\n",
    "    if k == ord(\"q\"):\r\n",
    "        break\r\n",
    "\r\n",
    "capture.release()\r\n",
    "cv.destroyAllWindows()\r\n"
   ],
   "outputs": [
    {
     "output_type": "stream",
     "name": "stdout",
     "text": [
      "CV_CAP_PROP_FRAME_WIDTH: 640.0\n",
      "CV_CAP_PROP_FRAME_HEIGHT : 480.0\n",
      "CAP_PROP_FPS : 30.0\n"
     ]
    }
   ],
   "metadata": {}
  },
  {
   "cell_type": "markdown",
   "source": [
    "### Capture Properties"
   ],
   "metadata": {}
  },
  {
   "cell_type": "code",
   "execution_count": 2,
   "source": [
    "import cv2\r\n",
    "\r\n",
    "# get the file path from command line\r\n",
    "# filePath = sys.argv[1]\r\n",
    "filePath = 0\r\n",
    "\r\n",
    "capture = cv2.VideoCapture(filePath)\r\n",
    "\r\n",
    "print(\"CV_CAP_PROP_FRAME_WIDTH: '{}'\".format(capture.get(cv2.CAP_PROP_FRAME_WIDTH)))\r\n",
    "print(\"CV_CAP_PROP_FRAME_HEIGHT : '{}'\".format(capture.get(cv2.CAP_PROP_FRAME_HEIGHT)))\r\n",
    "print(\"CAP_PROP_FPS : '{}'\".format(capture.get(cv2.CAP_PROP_FPS)))\r\n",
    "print(\"CAP_PROP_POS_MSEC : '{}'\".format(capture.get(cv2.CAP_PROP_POS_MSEC)))\r\n",
    "print(\"CAP_PROP_POS_FRAMES : '{}'\".format(capture.get(cv2.CAP_PROP_POS_FRAMES)))\r\n",
    "print(\"CAP_PROP_FRAME_COUNT : '{}'\".format(capture.get(cv2.CAP_PROP_FRAME_COUNT)))\r\n",
    "print(\"CAP_PROP_MODE : '{}'\".format(capture.get(cv2.CAP_PROP_MODE)))\r\n",
    "print(\"CAP_PROP_BRIGHTNESS : '{}'\".format(capture.get(cv2.CAP_PROP_BRIGHTNESS)))\r\n",
    "print(\"CAP_PROP_CONTRAST : '{}'\".format(capture.get(cv2.CAP_PROP_CONTRAST)))\r\n",
    "print(\"CAP_PROP_SATURATION : '{}'\".format(capture.get(cv2.CAP_PROP_SATURATION)))\r\n",
    "print(\"CAP_PROP_HUE : '{}'\".format(capture.get(cv2.CAP_PROP_HUE)))\r\n",
    "print(\"CAP_PROP_GAIN : '{}'\".format(capture.get(cv2.CAP_PROP_GAIN)))\r\n",
    "print(\"CAP_PROP_EXPOSURE : '{}'\".format(capture.get(cv2.CAP_PROP_EXPOSURE)))\r\n",
    "print(\"CAP_PROP_CONVERT_RGB : '{}'\".format(capture.get(cv2.CAP_PROP_CONVERT_RGB)))\r\n",
    "print(\"CAP_PROP_RECTIFICATION : '{}'\".format(capture.get(cv2.CAP_PROP_RECTIFICATION)))\r\n",
    "print(\"CAP_PROP_ISO_SPEED : '{}'\".format(capture.get(cv2.CAP_PROP_ISO_SPEED)))\r\n",
    "print(\"CAP_PROP_BUFFERSIZE : '{}'\".format(capture.get(cv2.CAP_PROP_BUFFERSIZE)))"
   ],
   "outputs": [
    {
     "output_type": "stream",
     "name": "stdout",
     "text": [
      "CV_CAP_PROP_FRAME_WIDTH: '640.0'\n",
      "CV_CAP_PROP_FRAME_HEIGHT : '480.0'\n",
      "CAP_PROP_FPS : '30.0'\n",
      "CAP_PROP_POS_MSEC : '0.0'\n",
      "CAP_PROP_POS_FRAMES : '0.0'\n",
      "CAP_PROP_FRAME_COUNT : '-1.0'\n",
      "CAP_PROP_MODE : '1.0'\n",
      "CAP_PROP_BRIGHTNESS : '66.0'\n",
      "CAP_PROP_CONTRAST : '5.0'\n",
      "CAP_PROP_SATURATION : '32.0'\n",
      "CAP_PROP_HUE : '-1.0'\n",
      "CAP_PROP_GAIN : '-1.0'\n",
      "CAP_PROP_EXPOSURE : '-6.0'\n",
      "CAP_PROP_CONVERT_RGB : '1.0'\n",
      "CAP_PROP_RECTIFICATION : '-1.0'\n",
      "CAP_PROP_ISO_SPEED : '-1.0'\n",
      "CAP_PROP_BUFFERSIZE : '-1.0'\n"
     ]
    }
   ],
   "metadata": {}
  },
  {
   "cell_type": "code",
   "execution_count": 3,
   "source": [
    "import cv2\r\n",
    "\r\n",
    "# get the file path from command line\r\n",
    "# filePath = sys.argv[1]\r\n",
    "filePath = \"../samples/data/vtest.avi\"\r\n",
    "\r\n",
    "capture = cv2.VideoCapture(filePath)\r\n",
    "\r\n",
    "print(\"CV_CAP_PROP_FRAME_WIDTH: '{}'\".format(capture.get(cv2.CAP_PROP_FRAME_WIDTH)))\r\n",
    "print(\"CV_CAP_PROP_FRAME_HEIGHT : '{}'\".format(capture.get(cv2.CAP_PROP_FRAME_HEIGHT)))\r\n",
    "print(\"CAP_PROP_FPS : '{}'\".format(capture.get(cv2.CAP_PROP_FPS)))\r\n",
    "print(\"CAP_PROP_POS_MSEC : '{}'\".format(capture.get(cv2.CAP_PROP_POS_MSEC)))\r\n",
    "print(\"CAP_PROP_POS_FRAMES : '{}'\".format(capture.get(cv2.CAP_PROP_POS_FRAMES)))\r\n",
    "print(\"CAP_PROP_FRAME_COUNT : '{}'\".format(capture.get(cv2.CAP_PROP_FRAME_COUNT)))\r\n",
    "print(\"CAP_PROP_MODE : '{}'\".format(capture.get(cv2.CAP_PROP_MODE)))\r\n",
    "print(\"CAP_PROP_BRIGHTNESS : '{}'\".format(capture.get(cv2.CAP_PROP_BRIGHTNESS)))\r\n",
    "print(\"CAP_PROP_CONTRAST : '{}'\".format(capture.get(cv2.CAP_PROP_CONTRAST)))\r\n",
    "print(\"CAP_PROP_SATURATION : '{}'\".format(capture.get(cv2.CAP_PROP_SATURATION)))\r\n",
    "print(\"CAP_PROP_HUE : '{}'\".format(capture.get(cv2.CAP_PROP_HUE)))\r\n",
    "print(\"CAP_PROP_GAIN : '{}'\".format(capture.get(cv2.CAP_PROP_GAIN)))\r\n",
    "print(\"CAP_PROP_EXPOSURE : '{}'\".format(capture.get(cv2.CAP_PROP_EXPOSURE)))\r\n",
    "print(\"CAP_PROP_CONVERT_RGB : '{}'\".format(capture.get(cv2.CAP_PROP_CONVERT_RGB)))\r\n",
    "print(\"CAP_PROP_RECTIFICATION : '{}'\".format(capture.get(cv2.CAP_PROP_RECTIFICATION)))\r\n",
    "print(\"CAP_PROP_ISO_SPEED : '{}'\".format(capture.get(cv2.CAP_PROP_ISO_SPEED)))\r\n",
    "print(\"CAP_PROP_BUFFERSIZE : '{}'\".format(capture.get(cv2.CAP_PROP_BUFFERSIZE)))"
   ],
   "outputs": [
    {
     "output_type": "stream",
     "name": "stdout",
     "text": [
      "CV_CAP_PROP_FRAME_WIDTH: '768.0'\n",
      "CV_CAP_PROP_FRAME_HEIGHT : '576.0'\n",
      "CAP_PROP_FPS : '10.0'\n",
      "CAP_PROP_POS_MSEC : '0.0'\n",
      "CAP_PROP_POS_FRAMES : '0.0'\n",
      "CAP_PROP_FRAME_COUNT : '795.0'\n",
      "CAP_PROP_MODE : '0.0'\n",
      "CAP_PROP_BRIGHTNESS : '0.0'\n",
      "CAP_PROP_CONTRAST : '0.0'\n",
      "CAP_PROP_SATURATION : '0.0'\n",
      "CAP_PROP_HUE : '0.0'\n",
      "CAP_PROP_GAIN : '0.0'\n",
      "CAP_PROP_EXPOSURE : '0.0'\n",
      "CAP_PROP_CONVERT_RGB : '0.0'\n",
      "CAP_PROP_RECTIFICATION : '0.0'\n",
      "CAP_PROP_ISO_SPEED : '0.0'\n",
      "CAP_PROP_BUFFERSIZE : '0.0'\n"
     ]
    }
   ],
   "metadata": {}
  },
  {
   "cell_type": "markdown",
   "source": [
    "## Play video file backwards"
   ],
   "metadata": {}
  },
  {
   "cell_type": "code",
   "execution_count": 8,
   "source": [
    "\r\n",
    "import sys\r\n",
    "import cv2 as cv\r\n",
    "import matplotlib.pyplot as plt\r\n",
    "\r\n",
    "# get the file path from command line\r\n",
    "# filePath = sys.argv[1]\r\n",
    "# get sample file path for \"starry_night.jpg\"\r\n",
    "filePath = \"../samples/data/vtest.avi\"\r\n",
    "\r\n",
    "capture = cv.VideoCapture(filePath)\r\n",
    "\r\n",
    "# check if connected\r\n",
    "if capture.isOpened() is False:\r\n",
    "    print(\"Error opening camera 0\")\r\n",
    "    exit()\r\n",
    "\r\n",
    "# get index of last frame\r\n",
    "frame_index = capture.get(cv.CAP_PROP_POS_FRAMES) - 1\r\n",
    "\r\n",
    "while capture.isOpened():\r\n",
    "    \r\n",
    "    # set the current frame position\r\n",
    "    capture.set(cv.CAP_PROP_POS_FRAMES, frame_index)\r\n",
    "\r\n",
    "    # capture frames, if read correctly ret is True\r\n",
    "    ret, frame = capture.read()\r\n",
    "\r\n",
    "    if not ret:\r\n",
    "        print(\"Didn't receive frame. Stop \")\r\n",
    "        break\r\n",
    "\r\n",
    "    # display frame\r\n",
    "    cv.imshow(\"Camera frame\", frame)\r\n",
    "\r\n",
    "    # decrement the index\r\n",
    "    frame_index = frame_index - 1\r\n",
    "\r\n",
    "    if frame_index == 0:\r\n",
    "        break;\r\n",
    "\r\n",
    "    k = cv.waitKey(10)\r\n",
    "\r\n",
    "    # check if key is q then exit\r\n",
    "    if k == ord(\"q\"):\r\n",
    "        break\r\n",
    "\r\n",
    "capture.release()\r\n",
    "cv.destroyAllWindows()\r\n",
    "\r\n",
    "\r\n",
    "\r\n",
    "\r\n"
   ],
   "outputs": [],
   "metadata": {}
  },
  {
   "cell_type": "code",
   "execution_count": null,
   "source": [],
   "outputs": [],
   "metadata": {}
  }
 ],
 "metadata": {
  "orig_nbformat": 4,
  "language_info": {
   "name": "python",
   "version": "3.9.6",
   "mimetype": "text/x-python",
   "codemirror_mode": {
    "name": "ipython",
    "version": 3
   },
   "pygments_lexer": "ipython3",
   "nbconvert_exporter": "python",
   "file_extension": ".py"
  },
  "kernelspec": {
   "name": "python3",
   "display_name": "Python 3.9.6 64-bit"
  },
  "interpreter": {
   "hash": "c1a7846af735771808fbc8272134e7984cc669109ae413ca91ad8b74a534aa1b"
  }
 },
 "nbformat": 4,
 "nbformat_minor": 2
}