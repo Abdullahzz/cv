{
 "cells": [
  {
   "cell_type": "markdown",
   "metadata": {},
   "source": [
    "# Assignment "
   ]
  },
  {
   "cell_type": "markdown",
   "metadata": {},
   "source": [
    "1. Create an array of shape (100, 100, 3) of unsigned integer 8 bits filled with random values between 0 and 256.\n",
    "2. Find the values that are less than 30, 50, 100, and 250.\n",
    "3. Split the array into 4 parts vertically and horizontally.\n",
    "4. Copy array from question 1 and change the values that are less than 110 to 0 and others to 255.\n",
    "5. Hint use random see of 12345"
   ]
  },
  {
   "cell_type": "markdown",
   "metadata": {},
   "source": []
  }
 ],
 "metadata": {
  "interpreter": {
   "hash": "6f7c4d44365b28014734406e4d617c1e1f76ea196def854c7b951a230f6e24f1"
  },
  "kernelspec": {
   "display_name": "Python 3.9.5 64-bit",
   "name": "python3"
  },
  "language_info": {
   "name": "python",
   "version": "3.9.5"
  },
  "orig_nbformat": 4
 },
 "nbformat": 4,
 "nbformat_minor": 2
}
