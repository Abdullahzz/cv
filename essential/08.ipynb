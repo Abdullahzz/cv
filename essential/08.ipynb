{
 "cells": [
  {
   "cell_type": "code",
   "execution_count": null,
   "source": [],
   "outputs": [],
   "metadata": {}
  },
  {
   "cell_type": "markdown",
   "source": [
    "# Chapter 8 \r\n"
   ],
   "metadata": {}
  },
  {
   "cell_type": "code",
   "execution_count": 2,
   "source": [
    "!pip install -q numpy "
   ],
   "outputs": [],
   "metadata": {}
  },
  {
   "cell_type": "code",
   "execution_count": 3,
   "source": [
    "def array_properties(a, label='a'):\r\n",
    "    print(label, '= ')\r\n",
    "    print(a)\r\n",
    "    print(\"dim = \", a.ndim)\r\n",
    "    print(\"shape = \", a.shape)\r\n",
    "    print(\"datatype = \", a.dtype)\r\n",
    "    print(\"size = \", a.size)\r\n",
    "    print()"
   ],
   "outputs": [],
   "metadata": {}
  },
  {
   "cell_type": "markdown",
   "source": [
    "# Linear Algebra 1 \r\n"
   ],
   "metadata": {}
  },
  {
   "cell_type": "markdown",
   "source": [
    "## Creating a matrix representation of sytem linear equation\r\n"
   ],
   "metadata": {}
  },
  {
   "cell_type": "markdown",
   "source": [
    "$$\r\n",
    "A . x = b\r\n",
    "$$\r\n",
    "\r\n",
    "$$\r\n",
    "x = \\frac {b} {A}\r\n",
    "$$\r\n",
    "\r\n",
    "$$\r\n",
    "x = A^{-1} . b\r\n",
    "$$"
   ],
   "metadata": {}
  },
  {
   "cell_type": "markdown",
   "source": [
    "$$\r\n",
    "3x_1 -3x_2 - 4x_3 = 1 \\\\\r\n",
    "x_1 - x_2 - x_3 = 2 \\\\\r\n",
    "2x_1 - x_2 + 4x_3 = 3\t\r\n",
    "$$\r\n",
    "\r\n"
   ],
   "metadata": {}
  },
  {
   "cell_type": "markdown",
   "source": [
    "$$\r\n",
    "A=\\left(\r\n",
    "        \\begin{matrix} \r\n",
    "            3 & -3 & -4 \\\\ \r\n",
    "            1 & -1 & -1 \\\\ \r\n",
    "            2 & -1 & 4 \\\\ \r\n",
    "        \\end{matrix}\r\n",
    "    \\right)\r\n",
    "$$\r\n",
    "\r\n",
    "$$\r\n",
    "x=\\left(\r\n",
    "        \\begin{matrix} \r\n",
    "            x_1 \\\\ \r\n",
    "            x_2 \\\\ \r\n",
    "            x_3 \\\\ \r\n",
    "        \\end{matrix}\r\n",
    "    \\right)\r\n",
    "$$\r\n",
    "\r\n",
    "$$\r\n",
    "b=\\left(\r\n",
    "        \\begin{matrix} \r\n",
    "            1 \\\\ \r\n",
    "            2 \\\\ \r\n",
    "            3 \\\\ \r\n",
    "        \\end{matrix}\r\n",
    "    \\right)\r\n",
    "$$"
   ],
   "metadata": {}
  },
  {
   "cell_type": "code",
   "execution_count": 4,
   "source": [
    "import numpy as np\r\n",
    "\r\n",
    "A = np.array([\r\n",
    "    [3, -3, -4],\r\n",
    "    [1, -1, -1],\r\n",
    "    [2, -1, 4],\r\n",
    "])\r\n",
    "\r\n",
    "array_properties(A, 'A')\r\n"
   ],
   "outputs": [
    {
     "output_type": "stream",
     "name": "stdout",
     "text": [
      "A = \n",
      "[[ 3 -3 -4]\n",
      " [ 1 -1 -1]\n",
      " [ 2 -1  4]]\n",
      "dim =  2\n",
      "shape =  (3, 3)\n",
      "datatype =  int32\n",
      "size =  9\n",
      "\n"
     ]
    }
   ],
   "metadata": {}
  },
  {
   "cell_type": "code",
   "execution_count": 5,
   "source": [
    "import numpy as np\r\n",
    "\r\n",
    "b = np.array([\r\n",
    "    [1],\r\n",
    "    [2],\r\n",
    "    [3],\r\n",
    "])\r\n",
    "\r\n",
    "array_properties(b, 'b')\r\n"
   ],
   "outputs": [
    {
     "output_type": "stream",
     "name": "stdout",
     "text": [
      "b = \n",
      "[[1]\n",
      " [2]\n",
      " [3]]\n",
      "dim =  2\n",
      "shape =  (3, 1)\n",
      "datatype =  int32\n",
      "size =  3\n",
      "\n"
     ]
    }
   ],
   "metadata": {}
  },
  {
   "cell_type": "markdown",
   "source": [
    "## Vector, Matrix or Tensor Order"
   ],
   "metadata": {}
  },
  {
   "cell_type": "markdown",
   "source": [
    "The order of a vector or matrix or tensor is the shape.\r\n",
    "\r\n",
    "For vector or matrix it is in form of $m \\times n$ , that is, $\\text{number of rows} \\times \\text{number of columns}$"
   ],
   "metadata": {}
  },
  {
   "cell_type": "markdown",
   "source": [
    "$$\r\n",
    "A=\\left(\r\n",
    "        \\begin{matrix} \r\n",
    "            3 & -3 & -4 \\\\ \r\n",
    "            1 & -1 & -1 \\\\ \r\n",
    "            2 & -1 & 4 \\\\ \r\n",
    "        \\end{matrix}\r\n",
    "    \\right)\r\n",
    "    = 3 \\times 3\r\n",
    "$$\r\n",
    "\r\n",
    "$$\r\n",
    "x=\\left(\r\n",
    "        \\begin{matrix} \r\n",
    "            x_1 \\\\ \r\n",
    "            x_2 \\\\ \r\n",
    "            x_3 \\\\ \r\n",
    "        \\end{matrix}\r\n",
    "    \\right)\r\n",
    "    = 3 \\times 1\r\n",
    "$$\r\n",
    "\r\n",
    "$$\r\n",
    "b=\\left(\r\n",
    "        \\begin{matrix} \r\n",
    "            1 \\\\ \r\n",
    "            2 \\\\ \r\n",
    "            3 \\\\ \r\n",
    "        \\end{matrix}\r\n",
    "    \\right)\r\n",
    "    = 3 \\times 1\r\n",
    "\r\n",
    "$$"
   ],
   "metadata": {}
  },
  {
   "cell_type": "markdown",
   "source": [
    "## Matrix Operation"
   ],
   "metadata": {}
  },
  {
   "cell_type": "markdown",
   "source": [
    "$$\r\n",
    "A + B = B + A \\\\ \r\n",
    "A=m_a \\times n_a , \\quad B = m_b \\times n_b  \\\\ \r\n",
    "\\text{if and only if:} \\quad m_a = m_b, \\quad n_a = n_b\r\n",
    "$$\r\n"
   ],
   "metadata": {}
  },
  {
   "cell_type": "markdown",
   "source": [
    "\r\n",
    "$$\r\n",
    "A - B = -(B - A) \\\\ \r\n",
    "A=m_a \\times n_a , \\quad B = m_b \\times n_b  \\\\ \r\n",
    "\\text{if and only if:} \\quad m_a = m_b, \\quad n_a = n_b\r\n",
    "$$\r\n"
   ],
   "metadata": {}
  },
  {
   "cell_type": "markdown",
   "source": [
    "\r\n",
    "$$\r\n",
    "A \\times B = C \\\\ \r\n",
    "A=m_a \\times n_a , \\quad B = m_b \\times n_b   \\\\ \r\n",
    "\\text{if and only if:} \\quad n_a = m_b \\\\ \r\n",
    "\\text{then} \\\\ \r\n",
    "C = m_c \\times n_c \\\\ \r\n",
    "m_c = m_a \\quad n_c = n_b\r\n",
    "$$"
   ],
   "metadata": {}
  },
  {
   "cell_type": "markdown",
   "source": [
    "## Class Activity\r\n",
    "\r\n",
    "1. Create two (2) matrices of $4 \\times 4$ order and carryout above matrix operation."
   ],
   "metadata": {}
  },
  {
   "cell_type": "markdown",
   "source": [
    "### Transpose"
   ],
   "metadata": {}
  },
  {
   "cell_type": "code",
   "execution_count": 7,
   "source": [
    "import numpy as np\r\n",
    "\r\n",
    "transpose_A = np.transpose(A)\r\n",
    "\r\n",
    "array_properties(A, 'A')\r\n",
    "\r\n",
    "array_properties(transpose_A, 'transpose of A')"
   ],
   "outputs": [
    {
     "output_type": "stream",
     "name": "stdout",
     "text": [
      "A = \n",
      "[[ 3 -3 -4]\n",
      " [ 1 -1 -1]\n",
      " [ 2 -1  4]]\n",
      "dim =  2\n",
      "shape =  (3, 3)\n",
      "datatype =  int32\n",
      "size =  9\n",
      "\n",
      "transpose of A = \n",
      "[[ 3  1  2]\n",
      " [-3 -1 -1]\n",
      " [-4 -1  4]]\n",
      "dim =  2\n",
      "shape =  (3, 3)\n",
      "datatype =  int32\n",
      "size =  9\n",
      "\n"
     ]
    }
   ],
   "metadata": {}
  },
  {
   "cell_type": "code",
   "execution_count": 8,
   "source": [
    "import numpy as np\r\n",
    "\r\n",
    "transpose_b = np.transpose(b)\r\n",
    "\r\n",
    "array_properties(b, 'b')\r\n",
    "\r\n",
    "array_properties(transpose_b, 'transpose of b')"
   ],
   "outputs": [
    {
     "output_type": "stream",
     "name": "stdout",
     "text": [
      "b = \n",
      "[[1]\n",
      " [2]\n",
      " [3]]\n",
      "dim =  2\n",
      "shape =  (3, 1)\n",
      "datatype =  int32\n",
      "size =  3\n",
      "\n",
      "transpose of b = \n",
      "[[1 2 3]]\n",
      "dim =  2\n",
      "shape =  (1, 3)\n",
      "datatype =  int32\n",
      "size =  3\n",
      "\n"
     ]
    }
   ],
   "metadata": {}
  },
  {
   "cell_type": "markdown",
   "source": [],
   "metadata": {}
  }
 ],
 "metadata": {
  "orig_nbformat": 4,
  "language_info": {
   "name": "python",
   "version": "3.9.6",
   "mimetype": "text/x-python",
   "codemirror_mode": {
    "name": "ipython",
    "version": 3
   },
   "pygments_lexer": "ipython3",
   "nbconvert_exporter": "python",
   "file_extension": ".py"
  },
  "kernelspec": {
   "name": "python3",
   "display_name": "Python 3.9.6 64-bit"
  },
  "interpreter": {
   "hash": "c1a7846af735771808fbc8272134e7984cc669109ae413ca91ad8b74a534aa1b"
  }
 },
 "nbformat": 4,
 "nbformat_minor": 2
}