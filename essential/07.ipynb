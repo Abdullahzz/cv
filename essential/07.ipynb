{
 "cells": [
  {
   "cell_type": "code",
   "execution_count": null,
   "source": [],
   "outputs": [],
   "metadata": {}
  },
  {
   "cell_type": "markdown",
   "source": [
    "# Chapter 7 \r\n",
    "\r\n"
   ],
   "metadata": {}
  },
  {
   "cell_type": "markdown",
   "source": [
    "# Matrix Operation and Manipulation\r\n",
    "\r\n"
   ],
   "metadata": {}
  },
  {
   "cell_type": "code",
   "execution_count": 3,
   "source": [
    "!pip install -q numpy "
   ],
   "outputs": [],
   "metadata": {}
  },
  {
   "cell_type": "code",
   "execution_count": 35,
   "source": [
    "def array_properties(a, label='a'):\r\n",
    "    print(label, '= ')\r\n",
    "    print(a)\r\n",
    "    print(\"dim = \", a.ndim)\r\n",
    "    print(\"shape = \", a.shape)\r\n",
    "    print(\"datatype = \", a.dtype)\r\n",
    "    print(\"size = \", a.size)\r\n",
    "    print()"
   ],
   "outputs": [],
   "metadata": {}
  },
  {
   "cell_type": "markdown",
   "source": [
    "## Matrix addition, substration \r\n",
    "\r\n"
   ],
   "metadata": {}
  },
  {
   "cell_type": "code",
   "execution_count": 24,
   "source": [
    "import numpy as np\r\n",
    "\r\n",
    "a = np.random.randint(0, 10, (2,2))\r\n",
    "array_properties(a)\r\n"
   ],
   "outputs": [
    {
     "output_type": "stream",
     "name": "stdout",
     "text": [
      "a\n",
      "[[2 4]\n",
      " [4 9]]\n",
      "dim =  2\n",
      "shape =  (2, 2)\n",
      "datatype =  int32\n",
      "size =  4\n",
      "\n"
     ]
    }
   ],
   "metadata": {}
  },
  {
   "cell_type": "code",
   "execution_count": 25,
   "source": [
    "\r\n",
    "b = np.random.randint(0, 10, (2,2))\r\n",
    "array_properties(b)"
   ],
   "outputs": [
    {
     "output_type": "stream",
     "name": "stdout",
     "text": [
      "a\n",
      "[[6 9]\n",
      " [1 9]]\n",
      "dim =  2\n",
      "shape =  (2, 2)\n",
      "datatype =  int32\n",
      "size =  4\n",
      "\n"
     ]
    }
   ],
   "metadata": {}
  },
  {
   "cell_type": "code",
   "execution_count": 26,
   "source": [
    "s = a + b\r\n",
    "\r\n",
    "array_properties(s)"
   ],
   "outputs": [
    {
     "output_type": "stream",
     "name": "stdout",
     "text": [
      "a\n",
      "[[ 8 13]\n",
      " [ 5 18]]\n",
      "dim =  2\n",
      "shape =  (2, 2)\n",
      "datatype =  int32\n",
      "size =  4\n",
      "\n"
     ]
    }
   ],
   "metadata": {}
  },
  {
   "cell_type": "code",
   "execution_count": 27,
   "source": [
    "s2 = b + a\r\n",
    "\r\n",
    "array_properties(s2)"
   ],
   "outputs": [
    {
     "output_type": "stream",
     "name": "stdout",
     "text": [
      "a\n",
      "[[ 8 13]\n",
      " [ 5 18]]\n",
      "dim =  2\n",
      "shape =  (2, 2)\n",
      "datatype =  int32\n",
      "size =  4\n",
      "\n"
     ]
    }
   ],
   "metadata": {}
  },
  {
   "cell_type": "code",
   "execution_count": 28,
   "source": [
    "d = a - b\r\n",
    "array_properties(d)"
   ],
   "outputs": [
    {
     "output_type": "stream",
     "name": "stdout",
     "text": [
      "a\n",
      "[[-4 -5]\n",
      " [ 3  0]]\n",
      "dim =  2\n",
      "shape =  (2, 2)\n",
      "datatype =  int32\n",
      "size =  4\n",
      "\n"
     ]
    }
   ],
   "metadata": {}
  },
  {
   "cell_type": "code",
   "execution_count": 29,
   "source": [
    "d2 = b - a\r\n",
    "array_properties(d2)"
   ],
   "outputs": [
    {
     "output_type": "stream",
     "name": "stdout",
     "text": [
      "a\n",
      "[[ 4  5]\n",
      " [-3  0]]\n",
      "dim =  2\n",
      "shape =  (2, 2)\n",
      "datatype =  int32\n",
      "size =  4\n",
      "\n"
     ]
    }
   ],
   "metadata": {}
  },
  {
   "cell_type": "code",
   "execution_count": 30,
   "source": [
    "a1 = np.random.randint(0, 10, (2,1))\r\n",
    "array_properties(a1)"
   ],
   "outputs": [
    {
     "output_type": "stream",
     "name": "stdout",
     "text": [
      "a\n",
      "[[1]\n",
      " [9]]\n",
      "dim =  2\n",
      "shape =  (2, 1)\n",
      "datatype =  int32\n",
      "size =  2\n",
      "\n"
     ]
    }
   ],
   "metadata": {}
  },
  {
   "cell_type": "code",
   "execution_count": 12,
   "source": [
    "s2 = a + a1\r\n",
    "\r\n",
    "print(a)\r\n",
    "print('+')\r\n",
    "print(a1)\r\n",
    "print()\r\n",
    "array_properties(s2)"
   ],
   "outputs": [
    {
     "output_type": "stream",
     "name": "stdout",
     "text": [
      "[[5 8]\n",
      " [3 2]]\n",
      "+\n",
      "[[2]\n",
      " [6]]\n",
      "\n",
      "a = \n",
      " [[ 7 10]\n",
      " [ 9  8]]\n",
      "dim =  2\n",
      "shape =  (2, 2)\n",
      "datatype =  int32\n",
      "size =  4\n",
      "\n"
     ]
    }
   ],
   "metadata": {}
  },
  {
   "cell_type": "code",
   "execution_count": 13,
   "source": [
    "a2 = np.random.randint(0, 10, (1,2))\r\n",
    "array_properties(a2)"
   ],
   "outputs": [
    {
     "output_type": "stream",
     "name": "stdout",
     "text": [
      "a = \n",
      " [[2 3]]\n",
      "dim =  2\n",
      "shape =  (1, 2)\n",
      "datatype =  int32\n",
      "size =  2\n",
      "\n"
     ]
    }
   ],
   "metadata": {}
  },
  {
   "cell_type": "code",
   "execution_count": 14,
   "source": [
    "s3 = a + a2\r\n",
    "\r\n",
    "print(a)\r\n",
    "print('+')\r\n",
    "print(a2)\r\n",
    "print()\r\n",
    "array_properties(s3)"
   ],
   "outputs": [
    {
     "output_type": "stream",
     "name": "stdout",
     "text": [
      "[[5 8]\n",
      " [3 2]]\n",
      "+\n",
      "[[2 3]]\n",
      "\n",
      "a = \n",
      " [[ 7 11]\n",
      " [ 5  5]]\n",
      "dim =  2\n",
      "shape =  (2, 2)\n",
      "datatype =  int32\n",
      "size =  4\n",
      "\n"
     ]
    }
   ],
   "metadata": {}
  },
  {
   "cell_type": "code",
   "execution_count": 15,
   "source": [
    "a3 = np.random.randint(0, 10, (1,4))\r\n",
    "array_properties(a3)"
   ],
   "outputs": [
    {
     "output_type": "stream",
     "name": "stdout",
     "text": [
      "a = \n",
      " [[2 0 2 6]]\n",
      "dim =  2\n",
      "shape =  (1, 4)\n",
      "datatype =  int32\n",
      "size =  4\n",
      "\n"
     ]
    }
   ],
   "metadata": {}
  },
  {
   "cell_type": "code",
   "execution_count": 16,
   "source": [
    "s4 = a + a3\r\n",
    "\r\n",
    "print(a)\r\n",
    "print('+')\r\n",
    "print(a3)\r\n",
    "print()\r\n",
    "array_properties(s4)"
   ],
   "outputs": [
    {
     "output_type": "error",
     "ename": "ValueError",
     "evalue": "operands could not be broadcast together with shapes (2,2) (1,4) ",
     "traceback": [
      "\u001b[1;31m---------------------------------------------------------------------------\u001b[0m",
      "\u001b[1;31mValueError\u001b[0m                                Traceback (most recent call last)",
      "\u001b[1;32m~\\AppData\\Local\\Temp/ipykernel_1508/2281394671.py\u001b[0m in \u001b[0;36m<module>\u001b[1;34m\u001b[0m\n\u001b[1;32m----> 1\u001b[1;33m \u001b[0ms4\u001b[0m \u001b[1;33m=\u001b[0m \u001b[0ma\u001b[0m \u001b[1;33m+\u001b[0m \u001b[0ma3\u001b[0m\u001b[1;33m\u001b[0m\u001b[1;33m\u001b[0m\u001b[0m\n\u001b[0m\u001b[0;32m      2\u001b[0m \u001b[1;33m\u001b[0m\u001b[0m\n\u001b[0;32m      3\u001b[0m \u001b[0mprint\u001b[0m\u001b[1;33m(\u001b[0m\u001b[0ma\u001b[0m\u001b[1;33m)\u001b[0m\u001b[1;33m\u001b[0m\u001b[1;33m\u001b[0m\u001b[0m\n\u001b[0;32m      4\u001b[0m \u001b[0mprint\u001b[0m\u001b[1;33m(\u001b[0m\u001b[1;34m'+'\u001b[0m\u001b[1;33m)\u001b[0m\u001b[1;33m\u001b[0m\u001b[1;33m\u001b[0m\u001b[0m\n\u001b[0;32m      5\u001b[0m \u001b[0mprint\u001b[0m\u001b[1;33m(\u001b[0m\u001b[0ma3\u001b[0m\u001b[1;33m)\u001b[0m\u001b[1;33m\u001b[0m\u001b[1;33m\u001b[0m\u001b[0m\n",
      "\u001b[1;31mValueError\u001b[0m: operands could not be broadcast together with shapes (2,2) (1,4) "
     ]
    }
   ],
   "metadata": {}
  },
  {
   "cell_type": "code",
   "execution_count": 17,
   "source": [
    "a5 = np.random.randint(0, 10, (2,4))\r\n",
    "array_properties(a5)"
   ],
   "outputs": [
    {
     "output_type": "stream",
     "name": "stdout",
     "text": [
      "a = \n",
      " [[9 6 0 1]\n",
      " [5 1 9 0]]\n",
      "dim =  2\n",
      "shape =  (2, 4)\n",
      "datatype =  int32\n",
      "size =  8\n",
      "\n"
     ]
    }
   ],
   "metadata": {}
  },
  {
   "cell_type": "code",
   "execution_count": 18,
   "source": [
    "s5 = a + a5\r\n",
    "\r\n",
    "print(a)\r\n",
    "print('+')\r\n",
    "print(a5)\r\n",
    "print()\r\n",
    "array_properties(s5)"
   ],
   "outputs": [
    {
     "output_type": "error",
     "ename": "ValueError",
     "evalue": "operands could not be broadcast together with shapes (2,2) (2,4) ",
     "traceback": [
      "\u001b[1;31m---------------------------------------------------------------------------\u001b[0m",
      "\u001b[1;31mValueError\u001b[0m                                Traceback (most recent call last)",
      "\u001b[1;32m~\\AppData\\Local\\Temp/ipykernel_1508/2696295025.py\u001b[0m in \u001b[0;36m<module>\u001b[1;34m\u001b[0m\n\u001b[1;32m----> 1\u001b[1;33m \u001b[0ms5\u001b[0m \u001b[1;33m=\u001b[0m \u001b[0ma\u001b[0m \u001b[1;33m+\u001b[0m \u001b[0ma5\u001b[0m\u001b[1;33m\u001b[0m\u001b[1;33m\u001b[0m\u001b[0m\n\u001b[0m\u001b[0;32m      2\u001b[0m \u001b[1;33m\u001b[0m\u001b[0m\n\u001b[0;32m      3\u001b[0m \u001b[0mprint\u001b[0m\u001b[1;33m(\u001b[0m\u001b[0ma\u001b[0m\u001b[1;33m)\u001b[0m\u001b[1;33m\u001b[0m\u001b[1;33m\u001b[0m\u001b[0m\n\u001b[0;32m      4\u001b[0m \u001b[0mprint\u001b[0m\u001b[1;33m(\u001b[0m\u001b[1;34m'+'\u001b[0m\u001b[1;33m)\u001b[0m\u001b[1;33m\u001b[0m\u001b[1;33m\u001b[0m\u001b[0m\n\u001b[0;32m      5\u001b[0m \u001b[0mprint\u001b[0m\u001b[1;33m(\u001b[0m\u001b[0ma5\u001b[0m\u001b[1;33m)\u001b[0m\u001b[1;33m\u001b[0m\u001b[1;33m\u001b[0m\u001b[0m\n",
      "\u001b[1;31mValueError\u001b[0m: operands could not be broadcast together with shapes (2,2) (2,4) "
     ]
    }
   ],
   "metadata": {}
  },
  {
   "cell_type": "markdown",
   "source": [
    "## Matrix multiplications \r\n",
    "\r\n"
   ],
   "metadata": {}
  },
  {
   "cell_type": "markdown",
   "source": [
    "### Array (Elementwise) Multiplication and Division"
   ],
   "metadata": {}
  },
  {
   "cell_type": "code",
   "execution_count": 19,
   "source": [
    "import numpy as np\r\n",
    "\r\n",
    "a = np.random.randint(0, 10, (2,2))\r\n",
    "array_properties(a)\r\n"
   ],
   "outputs": [
    {
     "output_type": "stream",
     "name": "stdout",
     "text": [
      "a = \n",
      " [[0 9]\n",
      " [8 8]]\n",
      "dim =  2\n",
      "shape =  (2, 2)\n",
      "datatype =  int32\n",
      "size =  4\n",
      "\n"
     ]
    }
   ],
   "metadata": {}
  },
  {
   "cell_type": "code",
   "execution_count": 20,
   "source": [
    "import numpy as np\r\n",
    "\r\n",
    "b = np.random.randint(0, 10, (2,2))\r\n",
    "array_properties(b)\r\n"
   ],
   "outputs": [
    {
     "output_type": "stream",
     "name": "stdout",
     "text": [
      "a = \n",
      " [[1 1]\n",
      " [8 3]]\n",
      "dim =  2\n",
      "shape =  (2, 2)\n",
      "datatype =  int32\n",
      "size =  4\n",
      "\n"
     ]
    }
   ],
   "metadata": {}
  },
  {
   "cell_type": "code",
   "execution_count": 37,
   "source": [
    "p = a * b\r\n",
    "\r\n",
    "print('a= \\n', a)\r\n",
    "print('b= \\n', b)\r\n",
    "\r\n",
    "array_properties(p, 'p')"
   ],
   "outputs": [
    {
     "output_type": "stream",
     "name": "stdout",
     "text": [
      "a= \n",
      " [[2 4]\n",
      " [4 9]]\n",
      "b= \n",
      " [[6 9]\n",
      " [1 9]]\n",
      "p = \n",
      "[[12 36]\n",
      " [ 4 81]]\n",
      "dim =  2\n",
      "shape =  (2, 2)\n",
      "datatype =  int32\n",
      "size =  4\n",
      "\n"
     ]
    }
   ],
   "metadata": {}
  },
  {
   "cell_type": "code",
   "execution_count": 38,
   "source": [
    "q = a / b\r\n",
    "\r\n",
    "print('a= \\n', a)\r\n",
    "print('b= \\n', b)\r\n",
    "\r\n",
    "array_properties(q, 'q')"
   ],
   "outputs": [
    {
     "output_type": "stream",
     "name": "stdout",
     "text": [
      "a= \n",
      " [[2 4]\n",
      " [4 9]]\n",
      "b= \n",
      " [[6 9]\n",
      " [1 9]]\n",
      "q = \n",
      "[[0.33333333 0.44444444]\n",
      " [4.         1.        ]]\n",
      "dim =  2\n",
      "shape =  (2, 2)\n",
      "datatype =  float64\n",
      "size =  4\n",
      "\n"
     ]
    }
   ],
   "metadata": {}
  },
  {
   "cell_type": "code",
   "execution_count": 39,
   "source": [
    "import numpy as np\r\n",
    "\r\n",
    "a1 = np.random.randint(0, 10, (2,1))\r\n",
    "array_properties(a1, 'a1')\r\n"
   ],
   "outputs": [
    {
     "output_type": "stream",
     "name": "stdout",
     "text": [
      "a1 = \n",
      "[[3]\n",
      " [6]]\n",
      "dim =  2\n",
      "shape =  (2, 1)\n",
      "datatype =  int32\n",
      "size =  2\n",
      "\n"
     ]
    }
   ],
   "metadata": {}
  },
  {
   "cell_type": "code",
   "execution_count": 42,
   "source": [
    "p1 = a * a1\r\n",
    "\r\n",
    "print('a= \\n', a)\r\n",
    "print('a1= \\n', a1)\r\n",
    "\r\n",
    "array_properties(p1, 'p1')"
   ],
   "outputs": [
    {
     "output_type": "stream",
     "name": "stdout",
     "text": [
      "a= \n",
      " [[2 4]\n",
      " [4 9]]\n",
      "a1= \n",
      " [[3]\n",
      " [6]]\n",
      "p1 = \n",
      "[[ 6 12]\n",
      " [24 54]]\n",
      "dim =  2\n",
      "shape =  (2, 2)\n",
      "datatype =  int32\n",
      "size =  4\n",
      "\n"
     ]
    }
   ],
   "metadata": {}
  },
  {
   "cell_type": "code",
   "execution_count": 43,
   "source": [
    "q1 = a / a1\r\n",
    "\r\n",
    "print('a= \\n', a)\r\n",
    "print('a1= \\n', a1)\r\n",
    "\r\n",
    "array_properties(q1, 'q1')"
   ],
   "outputs": [
    {
     "output_type": "stream",
     "name": "stdout",
     "text": [
      "a= \n",
      " [[2 4]\n",
      " [4 9]]\n",
      "a1= \n",
      " [[3]\n",
      " [6]]\n",
      "q1 = \n",
      "[[0.66666667 1.33333333]\n",
      " [0.66666667 1.5       ]]\n",
      "dim =  2\n",
      "shape =  (2, 2)\n",
      "datatype =  float64\n",
      "size =  4\n",
      "\n"
     ]
    }
   ],
   "metadata": {}
  },
  {
   "cell_type": "code",
   "execution_count": 44,
   "source": [
    "import numpy as np\r\n",
    "\r\n",
    "a2 = np.random.randint(0, 10, (1,2))\r\n",
    "array_properties(a2, 'a2')\r\n"
   ],
   "outputs": [
    {
     "output_type": "stream",
     "name": "stdout",
     "text": [
      "a2 = \n",
      "[[9 5]]\n",
      "dim =  2\n",
      "shape =  (1, 2)\n",
      "datatype =  int32\n",
      "size =  2\n",
      "\n"
     ]
    }
   ],
   "metadata": {}
  },
  {
   "cell_type": "code",
   "execution_count": 45,
   "source": [
    "p2 = a * a2\r\n",
    "\r\n",
    "print('a= \\n', a)\r\n",
    "print('a2= \\n', a2)\r\n",
    "\r\n",
    "array_properties(p2, 'p2')"
   ],
   "outputs": [
    {
     "output_type": "stream",
     "name": "stdout",
     "text": [
      "a= \n",
      " [[2 4]\n",
      " [4 9]]\n",
      "a2= \n",
      " [[9 5]]\n",
      "p2 = \n",
      "[[18 20]\n",
      " [36 45]]\n",
      "dim =  2\n",
      "shape =  (2, 2)\n",
      "datatype =  int32\n",
      "size =  4\n",
      "\n"
     ]
    }
   ],
   "metadata": {}
  },
  {
   "cell_type": "code",
   "execution_count": 46,
   "source": [
    "q2 = a / a2\r\n",
    "\r\n",
    "print('a= \\n', a)\r\n",
    "print('a2= \\n', a2)\r\n",
    "\r\n",
    "array_properties(q2, 'q2')"
   ],
   "outputs": [
    {
     "output_type": "stream",
     "name": "stdout",
     "text": [
      "a= \n",
      " [[2 4]\n",
      " [4 9]]\n",
      "a2= \n",
      " [[9 5]]\n",
      "q2 = \n",
      "[[0.22222222 0.8       ]\n",
      " [0.44444444 1.8       ]]\n",
      "dim =  2\n",
      "shape =  (2, 2)\n",
      "datatype =  float64\n",
      "size =  4\n",
      "\n"
     ]
    }
   ],
   "metadata": {}
  },
  {
   "cell_type": "code",
   "execution_count": 49,
   "source": [
    "axb = a @ b\r\n",
    "\r\n",
    "print('a= \\n', a)\r\n",
    "print('b= \\n', b)\r\n",
    "\r\n",
    "array_properties(axb, 'axb')\r\n"
   ],
   "outputs": [
    {
     "output_type": "stream",
     "name": "stdout",
     "text": [
      "a= \n",
      " [[2 4]\n",
      " [4 9]]\n",
      "b= \n",
      " [[6 9]\n",
      " [1 9]]\n",
      "axb = \n",
      "[[ 16  54]\n",
      " [ 33 117]]\n",
      "dim =  2\n",
      "shape =  (2, 2)\n",
      "datatype =  int32\n",
      "size =  4\n",
      "\n"
     ]
    }
   ],
   "metadata": {}
  },
  {
   "cell_type": "code",
   "execution_count": 50,
   "source": [
    "bxa = b @ a\r\n",
    "\r\n",
    "print('b= \\n', b)\r\n",
    "print('a= \\n', a)\r\n",
    "\r\n",
    "array_properties(bxa, 'bxa')\r\n"
   ],
   "outputs": [
    {
     "output_type": "stream",
     "name": "stdout",
     "text": [
      "b= \n",
      " [[6 9]\n",
      " [1 9]]\n",
      "a= \n",
      " [[2 4]\n",
      " [4 9]]\n",
      "bxa = \n",
      "[[ 48 105]\n",
      " [ 38  85]]\n",
      "dim =  2\n",
      "shape =  (2, 2)\n",
      "datatype =  int32\n",
      "size =  4\n",
      "\n"
     ]
    }
   ],
   "metadata": {}
  },
  {
   "cell_type": "code",
   "execution_count": 51,
   "source": [
    "axa1 = a @ a1\r\n",
    "\r\n",
    "print('a= \\n', a)\r\n",
    "print('a1= \\n', a1)\r\n",
    "\r\n",
    "array_properties(axa1, 'axa1')\r\n"
   ],
   "outputs": [
    {
     "output_type": "stream",
     "name": "stdout",
     "text": [
      "a= \n",
      " [[2 4]\n",
      " [4 9]]\n",
      "a1= \n",
      " [[3]\n",
      " [6]]\n",
      "axa1 = \n",
      "[[30]\n",
      " [66]]\n",
      "dim =  2\n",
      "shape =  (2, 1)\n",
      "datatype =  int32\n",
      "size =  2\n",
      "\n"
     ]
    }
   ],
   "metadata": {}
  },
  {
   "cell_type": "code",
   "execution_count": 52,
   "source": [
    "a1xa = a1 @ a\r\n",
    "\r\n",
    "print('a1= \\n', a1)\r\n",
    "print('a= \\n', a)\r\n",
    "\r\n",
    "array_properties(a1xa, 'a1xa')\r\n"
   ],
   "outputs": [
    {
     "output_type": "error",
     "ename": "ValueError",
     "evalue": "matmul: Input operand 1 has a mismatch in its core dimension 0, with gufunc signature (n?,k),(k,m?)->(n?,m?) (size 2 is different from 1)",
     "traceback": [
      "\u001b[1;31m---------------------------------------------------------------------------\u001b[0m",
      "\u001b[1;31mValueError\u001b[0m                                Traceback (most recent call last)",
      "\u001b[1;32m~\\AppData\\Local\\Temp/ipykernel_1508/1632554810.py\u001b[0m in \u001b[0;36m<module>\u001b[1;34m\u001b[0m\n\u001b[1;32m----> 1\u001b[1;33m \u001b[0ma1xa\u001b[0m \u001b[1;33m=\u001b[0m \u001b[0ma1\u001b[0m \u001b[1;33m@\u001b[0m \u001b[0ma\u001b[0m\u001b[1;33m\u001b[0m\u001b[1;33m\u001b[0m\u001b[0m\n\u001b[0m\u001b[0;32m      2\u001b[0m \u001b[1;33m\u001b[0m\u001b[0m\n\u001b[0;32m      3\u001b[0m \u001b[0mprint\u001b[0m\u001b[1;33m(\u001b[0m\u001b[1;34m'a1= \\n'\u001b[0m\u001b[1;33m,\u001b[0m \u001b[0ma1\u001b[0m\u001b[1;33m)\u001b[0m\u001b[1;33m\u001b[0m\u001b[1;33m\u001b[0m\u001b[0m\n\u001b[0;32m      4\u001b[0m \u001b[0mprint\u001b[0m\u001b[1;33m(\u001b[0m\u001b[1;34m'a= \\n'\u001b[0m\u001b[1;33m,\u001b[0m \u001b[0ma\u001b[0m\u001b[1;33m)\u001b[0m\u001b[1;33m\u001b[0m\u001b[1;33m\u001b[0m\u001b[0m\n\u001b[0;32m      5\u001b[0m \u001b[1;33m\u001b[0m\u001b[0m\n",
      "\u001b[1;31mValueError\u001b[0m: matmul: Input operand 1 has a mismatch in its core dimension 0, with gufunc signature (n?,k),(k,m?)->(n?,m?) (size 2 is different from 1)"
     ]
    }
   ],
   "metadata": {}
  },
  {
   "cell_type": "markdown",
   "source": [
    "## 3D"
   ],
   "metadata": {}
  },
  {
   "cell_type": "code",
   "execution_count": 54,
   "source": [
    "import numpy as np\r\n",
    "\r\n",
    "a3 = np.random.randint(0, 256, size=(5, 5, 3), dtype='uint8')\r\n",
    "\r\n",
    "array_properties(a3, 'a3')"
   ],
   "outputs": [
    {
     "output_type": "stream",
     "name": "stdout",
     "text": [
      "a3 = \n",
      "[[[210 130 236]\n",
      "  [ 15  21 227]\n",
      "  [240  82  80]\n",
      "  [215 109  34]\n",
      "  [211  76  11]]\n",
      "\n",
      " [[ 93 255  24]\n",
      "  [ 41 249  95]\n",
      "  [ 96 153  98]\n",
      "  [249 151  67]\n",
      "  [ 23 239 154]]\n",
      "\n",
      " [[ 83  86 223]\n",
      "  [ 79  23 196]\n",
      "  [227  46 162]\n",
      "  [198  45 206]\n",
      "  [ 54  17 182]]\n",
      "\n",
      " [[162  55 246]\n",
      "  [ 73 234  75]\n",
      "  [253  15 213]\n",
      "  [ 20 230   8]\n",
      "  [172 127 239]]\n",
      "\n",
      " [[ 96 238 255]\n",
      "  [182 183 253]\n",
      "  [144  78 196]\n",
      "  [169 241 166]\n",
      "  [ 19  60  20]]]\n",
      "dim =  3\n",
      "shape =  (5, 5, 3)\n",
      "datatype =  uint8\n",
      "size =  75\n",
      "\n"
     ]
    }
   ],
   "metadata": {}
  },
  {
   "cell_type": "code",
   "execution_count": 60,
   "source": [
    "a3d2 = a3 / 2\r\n",
    "array_properties(a3d2, 'a3d2')"
   ],
   "outputs": [
    {
     "output_type": "stream",
     "name": "stdout",
     "text": [
      "a3d2 = \n",
      "[[[105.   65.  118. ]\n",
      "  [  7.5  10.5 113.5]\n",
      "  [120.   41.   40. ]\n",
      "  [107.5  54.5  17. ]\n",
      "  [105.5  38.    5.5]]\n",
      "\n",
      " [[ 46.5 127.5  12. ]\n",
      "  [ 20.5 124.5  47.5]\n",
      "  [ 48.   76.5  49. ]\n",
      "  [124.5  75.5  33.5]\n",
      "  [ 11.5 119.5  77. ]]\n",
      "\n",
      " [[ 41.5  43.  111.5]\n",
      "  [ 39.5  11.5  98. ]\n",
      "  [113.5  23.   81. ]\n",
      "  [ 99.   22.5 103. ]\n",
      "  [ 27.    8.5  91. ]]\n",
      "\n",
      " [[ 81.   27.5 123. ]\n",
      "  [ 36.5 117.   37.5]\n",
      "  [126.5   7.5 106.5]\n",
      "  [ 10.  115.    4. ]\n",
      "  [ 86.   63.5 119.5]]\n",
      "\n",
      " [[ 48.  119.  127.5]\n",
      "  [ 91.   91.5 126.5]\n",
      "  [ 72.   39.   98. ]\n",
      "  [ 84.5 120.5  83. ]\n",
      "  [  9.5  30.   10. ]]]\n",
      "dim =  3\n",
      "shape =  (5, 5, 3)\n",
      "datatype =  float64\n",
      "size =  75\n",
      "\n"
     ]
    }
   ],
   "metadata": {}
  },
  {
   "cell_type": "code",
   "execution_count": 61,
   "source": [
    "a3d2 = np.uint8(a3d2)\r\n",
    "array_properties(a3d2, 'a3d2')"
   ],
   "outputs": [
    {
     "output_type": "stream",
     "name": "stdout",
     "text": [
      "a3d2 = \n",
      "[[[105  65 118]\n",
      "  [  7  10 113]\n",
      "  [120  41  40]\n",
      "  [107  54  17]\n",
      "  [105  38   5]]\n",
      "\n",
      " [[ 46 127  12]\n",
      "  [ 20 124  47]\n",
      "  [ 48  76  49]\n",
      "  [124  75  33]\n",
      "  [ 11 119  77]]\n",
      "\n",
      " [[ 41  43 111]\n",
      "  [ 39  11  98]\n",
      "  [113  23  81]\n",
      "  [ 99  22 103]\n",
      "  [ 27   8  91]]\n",
      "\n",
      " [[ 81  27 123]\n",
      "  [ 36 117  37]\n",
      "  [126   7 106]\n",
      "  [ 10 115   4]\n",
      "  [ 86  63 119]]\n",
      "\n",
      " [[ 48 119 127]\n",
      "  [ 91  91 126]\n",
      "  [ 72  39  98]\n",
      "  [ 84 120  83]\n",
      "  [  9  30  10]]]\n",
      "dim =  3\n",
      "shape =  (5, 5, 3)\n",
      "datatype =  uint8\n",
      "size =  75\n",
      "\n"
     ]
    }
   ],
   "metadata": {}
  },
  {
   "cell_type": "code",
   "execution_count": 62,
   "source": [
    "a3d2p30 = a3d2 + 30\r\n",
    "\r\n",
    "array_properties(a3d2p30)"
   ],
   "outputs": [
    {
     "output_type": "stream",
     "name": "stdout",
     "text": [
      "a = \n",
      "[[[135  95 148]\n",
      "  [ 37  40 143]\n",
      "  [150  71  70]\n",
      "  [137  84  47]\n",
      "  [135  68  35]]\n",
      "\n",
      " [[ 76 157  42]\n",
      "  [ 50 154  77]\n",
      "  [ 78 106  79]\n",
      "  [154 105  63]\n",
      "  [ 41 149 107]]\n",
      "\n",
      " [[ 71  73 141]\n",
      "  [ 69  41 128]\n",
      "  [143  53 111]\n",
      "  [129  52 133]\n",
      "  [ 57  38 121]]\n",
      "\n",
      " [[111  57 153]\n",
      "  [ 66 147  67]\n",
      "  [156  37 136]\n",
      "  [ 40 145  34]\n",
      "  [116  93 149]]\n",
      "\n",
      " [[ 78 149 157]\n",
      "  [121 121 156]\n",
      "  [102  69 128]\n",
      "  [114 150 113]\n",
      "  [ 39  60  40]]]\n",
      "dim =  3\n",
      "shape =  (5, 5, 3)\n",
      "datatype =  uint8\n",
      "size =  75\n",
      "\n"
     ]
    }
   ],
   "metadata": {}
  },
  {
   "cell_type": "code",
   "execution_count": 63,
   "source": [
    "a3d2p60 = a3d2 + 60\r\n",
    "\r\n",
    "array_properties(a3d2p60)"
   ],
   "outputs": [
    {
     "output_type": "stream",
     "name": "stdout",
     "text": [
      "a = \n",
      "[[[165 125 178]\n",
      "  [ 67  70 173]\n",
      "  [180 101 100]\n",
      "  [167 114  77]\n",
      "  [165  98  65]]\n",
      "\n",
      " [[106 187  72]\n",
      "  [ 80 184 107]\n",
      "  [108 136 109]\n",
      "  [184 135  93]\n",
      "  [ 71 179 137]]\n",
      "\n",
      " [[101 103 171]\n",
      "  [ 99  71 158]\n",
      "  [173  83 141]\n",
      "  [159  82 163]\n",
      "  [ 87  68 151]]\n",
      "\n",
      " [[141  87 183]\n",
      "  [ 96 177  97]\n",
      "  [186  67 166]\n",
      "  [ 70 175  64]\n",
      "  [146 123 179]]\n",
      "\n",
      " [[108 179 187]\n",
      "  [151 151 186]\n",
      "  [132  99 158]\n",
      "  [144 180 143]\n",
      "  [ 69  90  70]]]\n",
      "dim =  3\n",
      "shape =  (5, 5, 3)\n",
      "datatype =  uint8\n",
      "size =  75\n",
      "\n"
     ]
    }
   ],
   "metadata": {}
  },
  {
   "cell_type": "code",
   "execution_count": null,
   "source": [
    "a3d2p30 = a3d2 + 30\r\n",
    "\r\n",
    "array_properties(a3d2p30)"
   ],
   "outputs": [],
   "metadata": {}
  },
  {
   "cell_type": "code",
   "execution_count": 68,
   "source": [
    "import matplotlib.pyplot as plt\r\n",
    "\r\n",
    "plt.figure(figsize=(12,10))\r\n",
    "\r\n",
    "plt.subplot(1,4,1)\r\n",
    "plt.imshow(a3)\r\n",
    "plt.title('a3')\r\n",
    "\r\n",
    "plt.subplot(1,4,2)\r\n",
    "plt.imshow(a3d2)\r\n",
    "plt.title('a3d2')\r\n",
    "\r\n",
    "plt.subplot(1,4,3)\r\n",
    "plt.imshow(a3d2p30)\r\n",
    "plt.title('a3d2p30')\r\n",
    "\r\n",
    "plt.subplot(1,4,4)\r\n",
    "plt.imshow(a3d2p60)\r\n",
    "plt.title('a3d2p60')\r\n",
    "\r\n",
    "plt.show()"
   ],
   "outputs": [
    {
     "output_type": "display_data",
     "data": {
      "image/png": "[encoded data removed]",
      "text/plain": [
       "<Figure size 864x720 with 4 Axes>"
      ]
     },
     "metadata": {
      "needs_background": "light"
     }
    }
   ],
   "metadata": {}
  },
  {
   "cell_type": "code",
   "execution_count": null,
   "source": [],
   "outputs": [],
   "metadata": {}
  }
 ],
 "metadata": {
  "orig_nbformat": 4,
  "language_info": {
   "name": "python",
   "version": "3.9.6",
   "mimetype": "text/x-python",
   "codemirror_mode": {
    "name": "ipython",
    "version": 3
   },
   "pygments_lexer": "ipython3",
   "nbconvert_exporter": "python",
   "file_extension": ".py"
  },
  "kernelspec": {
   "name": "python3",
   "display_name": "Python 3.9.6 64-bit"
  },
  "interpreter": {
   "hash": "c1a7846af735771808fbc8272134e7984cc669109ae413ca91ad8b74a534aa1b"
  }
 },
 "nbformat": 4,
 "nbformat_minor": 2
}