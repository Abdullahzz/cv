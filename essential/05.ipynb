{
 "cells": [
  {
   "cell_type": "code",
   "execution_count": null,
   "source": [],
   "outputs": [],
   "metadata": {}
  },
  {
   "cell_type": "markdown",
   "source": [
    "# Chapter 5 \r\n"
   ],
   "metadata": {}
  },
  {
   "cell_type": "markdown",
   "source": [
    "# Introduction to Numpy  \r\n"
   ],
   "metadata": {}
  },
  {
   "cell_type": "markdown",
   "source": [
    "## Installation of numpy, scipy and pandas \r\n"
   ],
   "metadata": {}
  },
  {
   "cell_type": "code",
   "execution_count": 148,
   "source": [
    "!pip install -q numpy "
   ],
   "outputs": [],
   "metadata": {}
  },
  {
   "cell_type": "code",
   "execution_count": 149,
   "source": [
    "def array_properties(a):\r\n",
    "    print(\"a = \\n\", a)\r\n",
    "    print(\"dim = \", a.ndim)\r\n",
    "    print(\"shape = \", a.shape)\r\n",
    "    print(\"datatype = \", a.dtype)\r\n",
    "    print(\"size = \", a.size)\r\n",
    "    print()"
   ],
   "outputs": [],
   "metadata": {}
  },
  {
   "cell_type": "markdown",
   "source": [
    "## Creating array  \r\n"
   ],
   "metadata": {}
  },
  {
   "cell_type": "code",
   "execution_count": 150,
   "source": [
    "import numpy as np\r\n",
    "\r\n",
    "a = np.array([1, 2, 3])\r\n",
    "\r\n",
    "print(a)\r\n",
    "print()\r\n",
    "print(\"a = \\n\", a)\r\n",
    "print(\"dim = \", a.ndim)\r\n",
    "print(\"shape = \", a.shape)\r\n",
    "print(\"datatype = \", a.dtype)\r\n",
    "print(\"size = \", a.size)\r\n",
    "print()"
   ],
   "outputs": [
    {
     "output_type": "stream",
     "name": "stdout",
     "text": [
      "[1 2 3]\n",
      "\n",
      "a = \n",
      " [1 2 3]\n",
      "dim =  1\n",
      "shape =  (3,)\n",
      "datatype =  int32\n",
      "size =  3\n",
      "\n"
     ]
    }
   ],
   "metadata": {}
  },
  {
   "cell_type": "code",
   "execution_count": 151,
   "source": [
    "import numpy as np\r\n",
    "\r\n",
    "a_3x3 = np.array([[1, 1, 1], [2, 2, 2], [3, 3, 3]])\r\n",
    "array_properties(a_3x3)"
   ],
   "outputs": [
    {
     "output_type": "stream",
     "name": "stdout",
     "text": [
      "a = \n",
      " [[1 1 1]\n",
      " [2 2 2]\n",
      " [3 3 3]]\n",
      "dim =  2\n",
      "shape =  (3, 3)\n",
      "datatype =  int32\n",
      "size =  9\n",
      "\n"
     ]
    }
   ],
   "metadata": {}
  },
  {
   "cell_type": "code",
   "execution_count": 152,
   "source": [
    "import numpy as np\r\n",
    "\r\n",
    "seq_a = np.arange(1, 10)\r\n",
    "\r\n",
    "array_properties(seq_a)"
   ],
   "outputs": [
    {
     "output_type": "stream",
     "name": "stdout",
     "text": [
      "a = \n",
      " [1 2 3 4 5 6 7 8 9]\n",
      "dim =  1\n",
      "shape =  (9,)\n",
      "datatype =  int32\n",
      "size =  9\n",
      "\n"
     ]
    }
   ],
   "metadata": {}
  },
  {
   "cell_type": "code",
   "execution_count": 153,
   "source": [
    "import numpy as np\r\n",
    "\r\n",
    "seq_a2 = np.linspace(1, 10, 15)\r\n",
    "\r\n",
    "array_properties(seq_a2)"
   ],
   "outputs": [
    {
     "output_type": "stream",
     "name": "stdout",
     "text": [
      "a = \n",
      " [ 1.          1.64285714  2.28571429  2.92857143  3.57142857  4.21428571\n",
      "  4.85714286  5.5         6.14285714  6.78571429  7.42857143  8.07142857\n",
      "  8.71428571  9.35714286 10.        ]\n",
      "dim =  1\n",
      "shape =  (15,)\n",
      "datatype =  float64\n",
      "size =  15\n",
      "\n"
     ]
    }
   ],
   "metadata": {}
  },
  {
   "cell_type": "code",
   "execution_count": 154,
   "source": [
    "import numpy as np\r\n",
    "\r\n",
    "zeros_arr = np.zeros((2, 4))\r\n",
    "\r\n",
    "array_properties(zeros_arr)"
   ],
   "outputs": [
    {
     "output_type": "stream",
     "name": "stdout",
     "text": [
      "a = \n",
      " [[0. 0. 0. 0.]\n",
      " [0. 0. 0. 0.]]\n",
      "dim =  2\n",
      "shape =  (2, 4)\n",
      "datatype =  float64\n",
      "size =  8\n",
      "\n"
     ]
    }
   ],
   "metadata": {}
  },
  {
   "cell_type": "code",
   "execution_count": 155,
   "source": [
    "import numpy as np\r\n",
    "\r\n",
    "ones_arr = np.ones((4, 2))\r\n",
    "\r\n",
    "array_properties(ones_arr)"
   ],
   "outputs": [
    {
     "output_type": "stream",
     "name": "stdout",
     "text": [
      "a = \n",
      " [[1. 1.]\n",
      " [1. 1.]\n",
      " [1. 1.]\n",
      " [1. 1.]]\n",
      "dim =  2\n",
      "shape =  (4, 2)\n",
      "datatype =  float64\n",
      "size =  8\n",
      "\n"
     ]
    }
   ],
   "metadata": {}
  },
  {
   "cell_type": "code",
   "execution_count": 156,
   "source": [
    "import numpy as np\r\n",
    "\r\n",
    "emp_arr = np.empty((4, 4))\r\n",
    "\r\n",
    "array_properties(emp_arr)"
   ],
   "outputs": [
    {
     "output_type": "stream",
     "name": "stdout",
     "text": [
      "a = \n",
      " [[6.23042070e-307 4.67296746e-307 1.69121096e-306 1.20161526e-306]\n",
      " [8.34441742e-308 1.78022342e-306 6.23058028e-307 9.79107872e-307]\n",
      " [6.89807188e-307 7.56594375e-307 6.23060065e-307 1.78021527e-306]\n",
      " [8.34454050e-308 1.11261027e-306 1.15706896e-306 1.33512173e-306]]\n",
      "dim =  2\n",
      "shape =  (4, 4)\n",
      "datatype =  float64\n",
      "size =  16\n",
      "\n"
     ]
    }
   ],
   "metadata": {}
  },
  {
   "cell_type": "code",
   "execution_count": 157,
   "source": [
    "import numpy as np\r\n",
    "\r\n",
    "a1 = np.arange(1, 13)\r\n",
    "array_properties(a1)\r\n",
    "\r\n",
    "a2 = np.reshape(a1, (3, 4))\r\n",
    "array_properties(a2)"
   ],
   "outputs": [
    {
     "output_type": "stream",
     "name": "stdout",
     "text": [
      "a = \n",
      " [ 1  2  3  4  5  6  7  8  9 10 11 12]\n",
      "dim =  1\n",
      "shape =  (12,)\n",
      "datatype =  int32\n",
      "size =  12\n",
      "\n",
      "a = \n",
      " [[ 1  2  3  4]\n",
      " [ 5  6  7  8]\n",
      " [ 9 10 11 12]]\n",
      "dim =  2\n",
      "shape =  (3, 4)\n",
      "datatype =  int32\n",
      "size =  12\n",
      "\n"
     ]
    }
   ],
   "metadata": {}
  },
  {
   "cell_type": "code",
   "execution_count": 158,
   "source": [
    "import numpy as np\r\n",
    "\r\n",
    "a1 = np.arange(1, 13, 1.5)\r\n",
    "array_properties(a1)\r\n",
    "\r\n",
    "a2 = np.reshape(a1, (4, -1))\r\n",
    "array_properties(a2)"
   ],
   "outputs": [
    {
     "output_type": "stream",
     "name": "stdout",
     "text": [
      "a = \n",
      " [ 1.   2.5  4.   5.5  7.   8.5 10.  11.5]\n",
      "dim =  1\n",
      "shape =  (8,)\n",
      "datatype =  float64\n",
      "size =  8\n",
      "\n",
      "a = \n",
      " [[ 1.   2.5]\n",
      " [ 4.   5.5]\n",
      " [ 7.   8.5]\n",
      " [10.  11.5]]\n",
      "dim =  2\n",
      "shape =  (4, 2)\n",
      "datatype =  float64\n",
      "size =  8\n",
      "\n"
     ]
    }
   ],
   "metadata": {}
  },
  {
   "cell_type": "code",
   "execution_count": 159,
   "source": [
    "import numpy as np\r\n",
    "\r\n",
    "a1 = np.linspace(1, 10, 15).reshape(5, -1)\r\n",
    "\r\n",
    "array_properties(a1)"
   ],
   "outputs": [
    {
     "output_type": "stream",
     "name": "stdout",
     "text": [
      "a = \n",
      " [[ 1.          1.64285714  2.28571429]\n",
      " [ 2.92857143  3.57142857  4.21428571]\n",
      " [ 4.85714286  5.5         6.14285714]\n",
      " [ 6.78571429  7.42857143  8.07142857]\n",
      " [ 8.71428571  9.35714286 10.        ]]\n",
      "dim =  2\n",
      "shape =  (5, 3)\n",
      "datatype =  float64\n",
      "size =  15\n",
      "\n"
     ]
    }
   ],
   "metadata": {}
  },
  {
   "cell_type": "code",
   "execution_count": 160,
   "source": [
    "import numpy as np\r\n",
    "\r\n",
    "a1 = np.random.rand(4, 5)\r\n",
    "\r\n",
    "array_properties(a1)"
   ],
   "outputs": [
    {
     "output_type": "stream",
     "name": "stdout",
     "text": [
      "a = \n",
      " [[0.50377423 0.80317321 0.37154941 0.92567008 0.48195141]\n",
      " [0.64798226 0.71822461 0.07775472 0.78497945 0.94094523]\n",
      " [0.07913996 0.51280079 0.60642831 0.12277186 0.35259713]\n",
      " [0.13880567 0.30081944 0.90185817 0.07781897 0.29703805]]\n",
      "dim =  2\n",
      "shape =  (4, 5)\n",
      "datatype =  float64\n",
      "size =  20\n",
      "\n"
     ]
    }
   ],
   "metadata": {}
  },
  {
   "cell_type": "code",
   "execution_count": 161,
   "source": [
    "import numpy as np\r\n",
    "\r\n",
    "a1 = np.random.randint(0, 10, (4,5))\r\n",
    "\r\n",
    "array_properties(a1)"
   ],
   "outputs": [
    {
     "output_type": "stream",
     "name": "stdout",
     "text": [
      "a = \n",
      " [[8 4 1 0 5]\n",
      " [6 0 2 1 5]\n",
      " [9 9 9 5 1]\n",
      " [6 1 0 4 6]]\n",
      "dim =  2\n",
      "shape =  (4, 5)\n",
      "datatype =  int32\n",
      "size =  20\n",
      "\n"
     ]
    }
   ],
   "metadata": {}
  },
  {
   "cell_type": "markdown",
   "source": [
    "## Accessing an array element\r\n",
    "\r\n",
    "\r\n",
    "\r\n",
    "\r\n"
   ],
   "metadata": {}
  },
  {
   "cell_type": "code",
   "execution_count": null,
   "source": [],
   "outputs": [],
   "metadata": {}
  },
  {
   "cell_type": "markdown",
   "source": [
    "### 1 D Array\r\n"
   ],
   "metadata": {}
  },
  {
   "cell_type": "code",
   "execution_count": 162,
   "source": [
    "import numpy as np\r\n",
    "\r\n",
    "a1 = np.arange(1, 13)\r\n",
    "array_properties(a1)\r\n"
   ],
   "outputs": [
    {
     "output_type": "stream",
     "name": "stdout",
     "text": [
      "a = \n",
      " [ 1  2  3  4  5  6  7  8  9 10 11 12]\n",
      "dim =  1\n",
      "shape =  (12,)\n",
      "datatype =  int32\n",
      "size =  12\n",
      "\n"
     ]
    }
   ],
   "metadata": {}
  },
  {
   "cell_type": "code",
   "execution_count": 163,
   "source": [
    "print('first: ', a1[0])\r\n",
    "print('second: ', a1[1])\r\n",
    "print('third: ', a1[3])\r\n"
   ],
   "outputs": [
    {
     "output_type": "stream",
     "name": "stdout",
     "text": [
      "first:  1\n",
      "second:  2\n",
      "third:  4\n"
     ]
    }
   ],
   "metadata": {}
  },
  {
   "cell_type": "code",
   "execution_count": 164,
   "source": [
    "print('ninth: ', a1[9-1])\r\n",
    "print('last: ', a1[11])\r\n",
    "print('last: ', a1[-1])\r\n"
   ],
   "outputs": [
    {
     "output_type": "stream",
     "name": "stdout",
     "text": [
      "ninth:  9\n",
      "last:  12\n",
      "last:  12\n"
     ]
    }
   ],
   "metadata": {}
  },
  {
   "cell_type": "code",
   "execution_count": 165,
   "source": [
    "print('index 0 to 4: ', a1[0:4])\r\n"
   ],
   "outputs": [
    {
     "output_type": "stream",
     "name": "stdout",
     "text": [
      "index 0 to 4:  [1 2 3 4]\n"
     ]
    }
   ],
   "metadata": {}
  },
  {
   "cell_type": "code",
   "execution_count": 166,
   "source": [
    "print('index 0 to 4: ', a1[:4])\r\n"
   ],
   "outputs": [
    {
     "output_type": "stream",
     "name": "stdout",
     "text": [
      "index 0 to 4:  [1 2 3 4]\n"
     ]
    }
   ],
   "metadata": {}
  },
  {
   "cell_type": "code",
   "execution_count": 167,
   "source": [
    "print('index 3 to 6: ', a1[3:6])\r\n"
   ],
   "outputs": [
    {
     "output_type": "stream",
     "name": "stdout",
     "text": [
      "index 3 to 6:  [4 5 6]\n"
     ]
    }
   ],
   "metadata": {}
  },
  {
   "cell_type": "code",
   "execution_count": 168,
   "source": [
    "print('index  0 to 10: ', a1[0:10])\r\n",
    "print('index  0 to 10: ', a1[:10])\r\n"
   ],
   "outputs": [
    {
     "output_type": "stream",
     "name": "stdout",
     "text": [
      "index  0 to 10:  [ 1  2  3  4  5  6  7  8  9 10]\n",
      "index  0 to 10:  [ 1  2  3  4  5  6  7  8  9 10]\n"
     ]
    }
   ],
   "metadata": {}
  },
  {
   "cell_type": "code",
   "execution_count": 169,
   "source": [
    "print('index 3 to last: ', a1[3:12])\r\n",
    "print('index 3 to last: ', a1[3:])\r\n"
   ],
   "outputs": [
    {
     "output_type": "stream",
     "name": "stdout",
     "text": [
      "index 3 to last:  [ 4  5  6  7  8  9 10 11 12]\n",
      "index 3 to last:  [ 4  5  6  7  8  9 10 11 12]\n"
     ]
    }
   ],
   "metadata": {}
  },
  {
   "cell_type": "code",
   "execution_count": 170,
   "source": [
    "\r\n",
    "print('index 3 to second to the last: ', a1[3:-1])\r\n"
   ],
   "outputs": [
    {
     "output_type": "stream",
     "name": "stdout",
     "text": [
      "index 3 to second to the last:  [ 4  5  6  7  8  9 10 11]\n"
     ]
    }
   ],
   "metadata": {}
  },
  {
   "cell_type": "code",
   "execution_count": 171,
   "source": [
    "print('last 2 numbers: ', a1[10:])\r\n",
    "print('last 2 numbers: ', a1[-2:])\r\n"
   ],
   "outputs": [
    {
     "output_type": "stream",
     "name": "stdout",
     "text": [
      "last 2 numbers:  [11 12]\n",
      "last 2 numbers:  [11 12]\n"
     ]
    }
   ],
   "metadata": {}
  },
  {
   "cell_type": "code",
   "execution_count": 172,
   "source": [
    "print('odd positions: ', a1[0::2])\r\n"
   ],
   "outputs": [
    {
     "output_type": "stream",
     "name": "stdout",
     "text": [
      "odd positions:  [ 1  3  5  7  9 11]\n"
     ]
    }
   ],
   "metadata": {}
  },
  {
   "cell_type": "code",
   "execution_count": 173,
   "source": [
    "print('even positions: ', a1[1::2])\r\n"
   ],
   "outputs": [
    {
     "output_type": "stream",
     "name": "stdout",
     "text": [
      "even positions:  [ 2  4  6  8 10 12]\n"
     ]
    }
   ],
   "metadata": {}
  },
  {
   "cell_type": "code",
   "execution_count": 189,
   "source": [
    "import numpy as np\r\n",
    "\r\n",
    "N = 12\r\n",
    "a1 = np.arange(N+1)\r\n",
    "\r\n",
    "array_properties(a1)\r\n"
   ],
   "outputs": [
    {
     "output_type": "stream",
     "name": "stdout",
     "text": [
      "a = \n",
      " [ 0  1  2  3  4  5  6  7  8  9 10 11 12]\n",
      "dim =  1\n",
      "shape =  (13,)\n",
      "datatype =  int32\n",
      "size =  13\n",
      "\n"
     ]
    }
   ],
   "metadata": {}
  },
  {
   "cell_type": "code",
   "execution_count": 192,
   "source": [
    "\r\n",
    "for i in range(N+1):\r\n",
    "    print(f'{i}: {a1[i]}')"
   ],
   "outputs": [
    {
     "output_type": "stream",
     "name": "stdout",
     "text": [
      "0: 0\n",
      "1: 1\n",
      "2: 2\n",
      "3: 3\n",
      "4: 4\n",
      "5: 5\n",
      "6: 6\n",
      "7: 7\n",
      "8: 8\n",
      "9: 9\n",
      "10: 10\n",
      "11: 11\n",
      "12: 12\n"
     ]
    }
   ],
   "metadata": {}
  },
  {
   "cell_type": "markdown",
   "source": [
    "### 2 D Array\r\n"
   ],
   "metadata": {}
  },
  {
   "cell_type": "code",
   "execution_count": 174,
   "source": [
    "import numpy as np\r\n",
    "\r\n",
    "a1 = np.arange(1, 17)\r\n",
    "\r\n",
    "a2 = np.resize(a1, (4,4))\r\n",
    "array_properties(a2)\r\n"
   ],
   "outputs": [
    {
     "output_type": "stream",
     "name": "stdout",
     "text": [
      "a = \n",
      " [[ 1  2  3  4]\n",
      " [ 5  6  7  8]\n",
      " [ 9 10 11 12]\n",
      " [13 14 15 16]]\n",
      "dim =  2\n",
      "shape =  (4, 4)\n",
      "datatype =  int32\n",
      "size =  16\n",
      "\n"
     ]
    }
   ],
   "metadata": {}
  },
  {
   "cell_type": "code",
   "execution_count": 175,
   "source": [
    "print('Element in row=1, column=1: ', a2[0,0])\r\n",
    "print('Element in row=3, column=1: ', a2[2,0])\r\n",
    "print('Element in row=2, column=3: ', a2[1,2])\r\n"
   ],
   "outputs": [
    {
     "output_type": "stream",
     "name": "stdout",
     "text": [
      "Element in row=1, column=1:  1\n",
      "Element in row=3, column=1:  9\n",
      "Element in row=2, column=3:  7\n"
     ]
    }
   ],
   "metadata": {}
  },
  {
   "cell_type": "code",
   "execution_count": 176,
   "source": [
    "array_properties(a2)\r\n",
    "\r\n",
    "# row & index\r\n",
    "row = 1\r\n",
    "i = row - 1\r\n",
    "# column & index\r\n",
    "col = 2\r\n",
    "j = col - 1\r\n",
    "\r\n",
    "print(f'Element in row={row}, column={col}: ', a2[i,j])\r\n"
   ],
   "outputs": [
    {
     "output_type": "stream",
     "name": "stdout",
     "text": [
      "a = \n",
      " [[ 1  2  3  4]\n",
      " [ 5  6  7  8]\n",
      " [ 9 10 11 12]\n",
      " [13 14 15 16]]\n",
      "dim =  2\n",
      "shape =  (4, 4)\n",
      "datatype =  int32\n",
      "size =  16\n",
      "\n",
      "Element in row=1, column=2:  2\n"
     ]
    }
   ],
   "metadata": {}
  },
  {
   "cell_type": "code",
   "execution_count": 177,
   "source": [
    "print(f'Elements in row= 2: ', a2[1,:])\r\n"
   ],
   "outputs": [
    {
     "output_type": "stream",
     "name": "stdout",
     "text": [
      "Elements in row= 2:  [5 6 7 8]\n"
     ]
    }
   ],
   "metadata": {}
  },
  {
   "cell_type": "code",
   "execution_count": 178,
   "source": [
    "print(f'Elements in col= 2: ', a2[:,1])\r\n"
   ],
   "outputs": [
    {
     "output_type": "stream",
     "name": "stdout",
     "text": [
      "Elements in col= 2:  [ 2  6 10 14]\n"
     ]
    }
   ],
   "metadata": {}
  },
  {
   "cell_type": "code",
   "execution_count": 179,
   "source": [
    "print(f'Elements in rows= 1 to 3 and columns= 2 to 4: \\n', a2[0:3,1:3])\r\n",
    "print()\r\n",
    "print(f'Elements in row index= 0 to 2 and column index= 1 to 2: \\n', a2[0:3,1:3])\r\n"
   ],
   "outputs": [
    {
     "output_type": "stream",
     "name": "stdout",
     "text": [
      "Elements in rows= 1 to 3 and columns= 2 to 4: \n",
      " [[ 2  3]\n",
      " [ 6  7]\n",
      " [10 11]]\n",
      "\n",
      "Elements in row index= 0 to 2 and column index= 1 to 2: \n",
      " [[ 2  3]\n",
      " [ 6  7]\n",
      " [10 11]]\n"
     ]
    }
   ],
   "metadata": {}
  },
  {
   "cell_type": "code",
   "execution_count": 206,
   "source": [
    "array_properties(a2)\r\n",
    "\r\n",
    "rows, columns = a2.shape\r\n",
    "for i in range(rows):\r\n",
    "    for j in range(columns):\r\n",
    "        print(f'{i},{j}: {a2[i,j]}', end=', ')\r\n",
    "    print()\r\n",
    "\r\n",
    "print()\r\n",
    "\r\n",
    "rows, columns = a2.shape\r\n",
    "for i in range(rows):\r\n",
    "    for j in range(columns):\r\n",
    "        print(a2[i,j], end=', ')\r\n",
    "    print()"
   ],
   "outputs": [
    {
     "output_type": "stream",
     "name": "stdout",
     "text": [
      "a = \n",
      " [[ 1  2  3  4]\n",
      " [ 5  6  7  8]\n",
      " [ 9 10 11 12]\n",
      " [13 14 15 16]]\n",
      "dim =  2\n",
      "shape =  (4, 4)\n",
      "datatype =  int32\n",
      "size =  16\n",
      "\n",
      "0,0: 1, 0,1: 2, 0,2: 3, 0,3: 4, \n",
      "1,0: 5, 1,1: 6, 1,2: 7, 1,3: 8, \n",
      "2,0: 9, 2,1: 10, 2,2: 11, 2,3: 12, \n",
      "3,0: 13, 3,1: 14, 3,2: 15, 3,3: 16, \n",
      "\n",
      "1, 2, 3, 4, \n",
      "5, 6, 7, 8, \n",
      "9, 10, 11, 12, \n",
      "13, 14, 15, 16, \n"
     ]
    }
   ],
   "metadata": {}
  },
  {
   "cell_type": "markdown",
   "source": [
    "### 3D Array"
   ],
   "metadata": {}
  },
  {
   "cell_type": "code",
   "execution_count": 180,
   "source": [
    "import numpy as np\r\n",
    "\r\n",
    "a3 = np.arange(1, 9).reshape((2,2,2))\r\n",
    "array_properties(a3)\r\n"
   ],
   "outputs": [
    {
     "output_type": "stream",
     "name": "stdout",
     "text": [
      "a = \n",
      " [[[1 2]\n",
      "  [3 4]]\n",
      "\n",
      " [[5 6]\n",
      "  [7 8]]]\n",
      "dim =  3\n",
      "shape =  (2, 2, 2)\n",
      "datatype =  int32\n",
      "size =  8\n",
      "\n"
     ]
    }
   ],
   "metadata": {}
  },
  {
   "cell_type": "code",
   "execution_count": 207,
   "source": [
    "\r\n",
    "print(a3[0,1,1])\r\n",
    "print(a3[0,1,:])\r\n",
    "print(a3[0,:,1])\r\n",
    "print(a3[:,1,1])\r\n"
   ],
   "outputs": [
    {
     "output_type": "stream",
     "name": "stdout",
     "text": [
      "4\n",
      "[3 4]\n",
      "[2 4]\n",
      "[4 8]\n"
     ]
    }
   ],
   "metadata": {}
  },
  {
   "cell_type": "code",
   "execution_count": 208,
   "source": [
    "\r\n",
    "a3D = np.array([\r\n",
    "    [\r\n",
    "        [111,112,113],\r\n",
    "        [121,122,123],\r\n",
    "    ],\r\n",
    "    [\r\n",
    "        [211,212,213],\r\n",
    "        [221,222,223],\r\n",
    "    ]\r\n",
    "])\r\n",
    "\r\n",
    "array_properties(a3D)\r\n"
   ],
   "outputs": [
    {
     "output_type": "stream",
     "name": "stdout",
     "text": [
      "a = \n",
      " [[[111 112 113]\n",
      "  [121 122 123]]\n",
      "\n",
      " [[211 212 213]\n",
      "  [221 222 223]]]\n",
      "dim =  3\n",
      "shape =  (2, 2, 3)\n",
      "datatype =  int32\n",
      "size =  12\n",
      "\n"
     ]
    }
   ],
   "metadata": {}
  },
  {
   "cell_type": "code",
   "execution_count": 209,
   "source": [
    "print('Element 1,2,2: ', a3D[0,1,1])"
   ],
   "outputs": [
    {
     "output_type": "stream",
     "name": "stdout",
     "text": [
      "Element 1,2,2:  122\n"
     ]
    }
   ],
   "metadata": {}
  },
  {
   "cell_type": "code",
   "execution_count": 210,
   "source": [
    "array_properties(a3)\r\n",
    "\r\n",
    "rows_3d, rows, columns = a3.shape\r\n",
    "for i in range(rows_3d):\r\n",
    "    for j in range(rows):\r\n",
    "        for k in range(columns):\r\n",
    "            print(f'{i},{j},{k}: {a3[i,j,k]}', end=', ')\r\n",
    "        print()\r\n",
    "    print()\r\n",
    "\r\n",
    "print()\r\n",
    "\r\n",
    "rows_3d, rows, columns = a3.shape\r\n",
    "for i in range(rows_3d):\r\n",
    "    for j in range(rows):\r\n",
    "        for k in range(columns):\r\n",
    "            print(a3[i,j,k], end=', ')\r\n",
    "        print()\r\n",
    "    print()"
   ],
   "outputs": [
    {
     "output_type": "stream",
     "name": "stdout",
     "text": [
      "a = \n",
      " [[[1 2]\n",
      "  [3 4]]\n",
      "\n",
      " [[5 6]\n",
      "  [7 8]]]\n",
      "dim =  3\n",
      "shape =  (2, 2, 2)\n",
      "datatype =  int32\n",
      "size =  8\n",
      "\n",
      "0,0,0: 1, 0,0,1: 2, \n",
      "0,1,0: 3, 0,1,1: 4, \n",
      "\n",
      "1,0,0: 5, 1,0,1: 6, \n",
      "1,1,0: 7, 1,1,1: 8, \n",
      "\n",
      "\n",
      "1, 2, \n",
      "3, 4, \n",
      "\n",
      "5, 6, \n",
      "7, 8, \n",
      "\n"
     ]
    }
   ],
   "metadata": {}
  },
  {
   "cell_type": "markdown",
   "source": [
    "## Changing Array Element"
   ],
   "metadata": {}
  },
  {
   "cell_type": "code",
   "execution_count": 225,
   "source": [
    "import numpy as np\r\n",
    "\r\n",
    "a1 = np.arange(9)\r\n",
    "array_properties(a1)\r\n",
    "\r\n",
    "\r\n",
    "print('Third element: ', a1[2])\r\n",
    "\r\n",
    "a1[2] = a1[2] ** 2\r\n",
    "print('Third element squared: ', a1[2])\r\n"
   ],
   "outputs": [
    {
     "output_type": "stream",
     "name": "stdout",
     "text": [
      "a = \n",
      " [0 1 2 3 4 5 6 7 8]\n",
      "dim =  1\n",
      "shape =  (9,)\n",
      "datatype =  int32\n",
      "size =  9\n",
      "\n",
      "Third element:  2\n",
      "Third element squared:  4\n"
     ]
    }
   ],
   "metadata": {}
  },
  {
   "cell_type": "code",
   "execution_count": 238,
   "source": [
    "import numpy as np\r\n",
    "\r\n",
    "a2 = np.arange(1,10).reshape(3,3)\r\n",
    "array_properties(a2)\r\n",
    "\r\n",
    "\r\n",
    "print('2nd row, 2nd column element: ', a2[1,1])\r\n",
    "a2[1,1] = a2[1,1] ** 2\r\n",
    "print('2nd row, 2nd column element squared: ', a2[1,1])\r\n",
    "\r\n",
    "print(a2)\r\n"
   ],
   "outputs": [
    {
     "output_type": "stream",
     "name": "stdout",
     "text": [
      "a = \n",
      " [[1 2 3]\n",
      " [4 5 6]\n",
      " [7 8 9]]\n",
      "dim =  2\n",
      "shape =  (3, 3)\n",
      "datatype =  int32\n",
      "size =  9\n",
      "\n",
      "2nd row, 2nd column element:  5\n",
      "2nd row, 2nd column element squared:  25\n",
      "[[ 1  2  3]\n",
      " [ 4 25  6]\n",
      " [ 7  8  9]]\n"
     ]
    }
   ],
   "metadata": {}
  },
  {
   "cell_type": "code",
   "execution_count": 239,
   "source": [
    "\r\n",
    "print('Third row: ', a2[2])\r\n",
    "a2[2] = a2[2] * 2\r\n",
    "print('Third row doubled: ', a2[2])\r\n",
    "\r\n",
    "print(a2)\r\n"
   ],
   "outputs": [
    {
     "output_type": "stream",
     "name": "stdout",
     "text": [
      "Third row:  [7 8 9]\n",
      "Third row doubled:  [14 16 18]\n",
      "[[ 1  2  3]\n",
      " [ 4 25  6]\n",
      " [14 16 18]]\n"
     ]
    }
   ],
   "metadata": {}
  },
  {
   "cell_type": "code",
   "execution_count": 240,
   "source": [
    "\r\n",
    "print('First row: ', a2[0])\r\n",
    "a2[0] = a2[0] + a2[1]\r\n",
    "print('First row increased by second row: ', a2[0])\r\n",
    "\r\n",
    "print(a2)\r\n"
   ],
   "outputs": [
    {
     "output_type": "stream",
     "name": "stdout",
     "text": [
      "First row:  [1 2 3]\n",
      "First row increased by second row:  [ 5 27  9]\n",
      "[[ 5 27  9]\n",
      " [ 4 25  6]\n",
      " [14 16 18]]\n"
     ]
    }
   ],
   "metadata": {}
  },
  {
   "cell_type": "code",
   "execution_count": 241,
   "source": [
    "\r\n",
    "print('Second row: ', a2[1])\r\n",
    "a2[1] = a2[1] - a2[2]\r\n",
    "print('Second row decreased by third row: ', a2[1])\r\n",
    "\r\n",
    "print(a2)\r\n"
   ],
   "outputs": [
    {
     "output_type": "stream",
     "name": "stdout",
     "text": [
      "Second row:  [ 4 25  6]\n",
      "Second row decreased by third row:  [-10   9 -12]\n",
      "[[  5  27   9]\n",
      " [-10   9 -12]\n",
      " [ 14  16  18]]\n"
     ]
    }
   ],
   "metadata": {}
  },
  {
   "cell_type": "code",
   "execution_count": null,
   "source": [],
   "outputs": [],
   "metadata": {}
  }
 ],
 "metadata": {
  "orig_nbformat": 4,
  "language_info": {
   "name": "python",
   "version": "3.9.6",
   "mimetype": "text/x-python",
   "codemirror_mode": {
    "name": "ipython",
    "version": 3
   },
   "pygments_lexer": "ipython3",
   "nbconvert_exporter": "python",
   "file_extension": ".py"
  },
  "kernelspec": {
   "name": "python3",
   "display_name": "Python 3.9.6 64-bit"
  },
  "interpreter": {
   "hash": "c1a7846af735771808fbc8272134e7984cc669109ae413ca91ad8b74a534aa1b"
  }
 },
 "nbformat": 4,
 "nbformat_minor": 2
}