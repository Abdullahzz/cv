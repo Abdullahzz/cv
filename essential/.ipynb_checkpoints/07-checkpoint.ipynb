{
 "cells": [
  {
   "cell_type": "code",
   "execution_count": null,
   "metadata": {},
   "outputs": [],
   "source": []
  },
  {
   "cell_type": "markdown",
   "metadata": {},
   "source": [
    "# Chapter 7 \n",
    "\n"
   ]
  },
  {
   "cell_type": "markdown",
   "metadata": {},
   "source": [
    "# Matrix Operation and Manipulation\n",
    "\n"
   ]
  },
  {
   "cell_type": "code",
   "execution_count": 1,
   "metadata": {},
   "outputs": [
    {
     "name": "stderr",
     "output_type": "stream",
     "text": [
      "WARNING: You are using pip version 21.3; however, version 21.3.1 is available.\n",
      "You should consider upgrading via the 'c:\\program files (x86)\\microsoft visual studio\\shared\\python39_64\\python.exe -m pip install --upgrade pip' command.\n"
     ]
    }
   ],
   "source": [
    "!pip install -q numpy "
   ]
  },
  {
   "cell_type": "code",
   "execution_count": 21,
   "metadata": {},
   "outputs": [],
   "source": [
    "def array_properties(a, label='a'):\n",
    "    print(label, '= ')\n",
    "    print(a)\n",
    "    print(\"dim = \", a.ndim)\n",
    "    print(\"shape = \", a.shape)\n",
    "    print(\"datatype = \", a.dtype)\n",
    "    print(\"size = \", a.size)\n",
    "    print()"
   ]
  },
  {
   "cell_type": "markdown",
   "metadata": {},
   "source": [
    "## Matrix addition, substration \n",
    "\n"
   ]
  },
  {
   "cell_type": "code",
   "execution_count": 4,
   "metadata": {},
   "outputs": [
    {
     "name": "stdout",
     "output_type": "stream",
     "text": [
      "a = \n",
      "[[5 0]\n",
      " [3 3]]\n",
      "dim =  2\n",
      "shape =  (2, 2)\n",
      "datatype =  int32\n",
      "size =  4\n",
      "\n"
     ]
    }
   ],
   "source": [
    "import numpy as np\n",
    "\n",
    "np.random.seed(0)\n",
    "\n",
    "a = np.random.randint(0, 10, (2,2))\n",
    "array_properties(a)\n"
   ]
  },
  {
   "cell_type": "code",
   "execution_count": 5,
   "metadata": {},
   "outputs": [
    {
     "name": "stdout",
     "output_type": "stream",
     "text": [
      "a = \n",
      "[[7 9]\n",
      " [3 5]]\n",
      "dim =  2\n",
      "shape =  (2, 2)\n",
      "datatype =  int32\n",
      "size =  4\n",
      "\n"
     ]
    }
   ],
   "source": [
    "\n",
    "b = np.random.randint(0, 10, (2,2))\n",
    "array_properties(b)"
   ]
  },
  {
   "cell_type": "markdown",
   "metadata": {},
   "source": [
    "$$\n",
    "\n",
    "\\begin{pmatrix}\n",
    "    5 & 0 \\\\  \n",
    "    3 & 3 \\\\  \n",
    "\\end{pmatrix} \n",
    "+\n",
    " \\begin{pmatrix}\n",
    "    7 & 9 \\\\  \n",
    "    3 & 5 \\\\  \n",
    "\\end{pmatrix}\n",
    "=\n",
    "\\begin{pmatrix}\n",
    "    5+7 & 0+9 \\\\  \n",
    "    3+3 & 3+5 \\\\  \n",
    "\\end{pmatrix}\n",
    "\n",
    "$$\n"
   ]
  },
  {
   "cell_type": "code",
   "execution_count": 7,
   "metadata": {},
   "outputs": [
    {
     "name": "stdout",
     "output_type": "stream",
     "text": [
      "a = \n",
      "[[12  9]\n",
      " [ 6  8]]\n",
      "dim =  2\n",
      "shape =  (2, 2)\n",
      "datatype =  int32\n",
      "size =  4\n",
      "\n"
     ]
    }
   ],
   "source": [
    "s = a + b\n",
    "\n",
    "array_properties(s)"
   ]
  },
  {
   "cell_type": "code",
   "execution_count": 8,
   "metadata": {},
   "outputs": [
    {
     "name": "stdout",
     "output_type": "stream",
     "text": [
      "a = \n",
      "[[12  9]\n",
      " [ 6  8]]\n",
      "dim =  2\n",
      "shape =  (2, 2)\n",
      "datatype =  int32\n",
      "size =  4\n",
      "\n"
     ]
    }
   ],
   "source": [
    "s2 = b + a\n",
    "\n",
    "array_properties(s2)"
   ]
  },
  {
   "cell_type": "code",
   "execution_count": 9,
   "metadata": {},
   "outputs": [
    {
     "name": "stdout",
     "output_type": "stream",
     "text": [
      "a = \n",
      "[[-2 -9]\n",
      " [ 0 -2]]\n",
      "dim =  2\n",
      "shape =  (2, 2)\n",
      "datatype =  int32\n",
      "size =  4\n",
      "\n"
     ]
    }
   ],
   "source": [
    "d = a - b\n",
    "array_properties(d)"
   ]
  },
  {
   "cell_type": "code",
   "execution_count": 10,
   "metadata": {},
   "outputs": [
    {
     "name": "stdout",
     "output_type": "stream",
     "text": [
      "a = \n",
      "[[2 9]\n",
      " [0 2]]\n",
      "dim =  2\n",
      "shape =  (2, 2)\n",
      "datatype =  int32\n",
      "size =  4\n",
      "\n"
     ]
    }
   ],
   "source": [
    "d2 = b - a\n",
    "array_properties(d2)"
   ]
  },
  {
   "cell_type": "markdown",
   "metadata": {},
   "source": [
    "Add and Subtract different shapes"
   ]
  },
  {
   "cell_type": "code",
   "execution_count": 11,
   "metadata": {},
   "outputs": [
    {
     "name": "stdout",
     "output_type": "stream",
     "text": [
      "a = \n",
      "[[2]\n",
      " [4]]\n",
      "dim =  2\n",
      "shape =  (2, 1)\n",
      "datatype =  int32\n",
      "size =  2\n",
      "\n"
     ]
    }
   ],
   "source": [
    "a1 = np.random.randint(0, 10, (2,1))\n",
    "array_properties(a1)"
   ]
  },
  {
   "cell_type": "markdown",
   "metadata": {},
   "source": [
    "$$\n",
    "\n",
    "\\begin{pmatrix}\n",
    "    5 & 0 \\\\  \n",
    "    3 & 3 \\\\  \n",
    "\\end{pmatrix} \n",
    "+\n",
    " \\begin{pmatrix}\n",
    "    2 \\\\  \n",
    "    4 \\\\  \n",
    "\\end{pmatrix}\n",
    "=\n",
    "\\begin{pmatrix}\n",
    "    5+2 & 0+2 \\\\  \n",
    "    3+4 & 3+4 \\\\  \n",
    "\\end{pmatrix}\n",
    "\n",
    "$$\n"
   ]
  },
  {
   "cell_type": "code",
   "execution_count": 13,
   "metadata": {},
   "outputs": [
    {
     "name": "stdout",
     "output_type": "stream",
     "text": [
      "[[5 0]\n",
      " [3 3]]\n",
      "+\n",
      "[[2]\n",
      " [4]]\n",
      "\n",
      "a = \n",
      "[[7 2]\n",
      " [7 7]]\n",
      "dim =  2\n",
      "shape =  (2, 2)\n",
      "datatype =  int32\n",
      "size =  4\n",
      "\n"
     ]
    }
   ],
   "source": [
    "# a1 (2x1) will be broadcast to meet the shape of a (2x2)\n",
    "# a1 will automatically repeat itself along the short axis\n",
    "# a1 become [[2,2],[4,4]]\n",
    "\n",
    "s2 = a + a1\n",
    "\n",
    "print(a)\n",
    "print('+')\n",
    "print(a1)\n",
    "print()\n",
    "array_properties(s2)"
   ]
  },
  {
   "cell_type": "markdown",
   "metadata": {},
   "source": [
    "Add row matrix "
   ]
  },
  {
   "cell_type": "code",
   "execution_count": 14,
   "metadata": {},
   "outputs": [
    {
     "name": "stdout",
     "output_type": "stream",
     "text": [
      "a = \n",
      "[[7 6]]\n",
      "dim =  2\n",
      "shape =  (1, 2)\n",
      "datatype =  int32\n",
      "size =  2\n",
      "\n"
     ]
    }
   ],
   "source": [
    "a2 = np.random.randint(0, 10, (1,2))\n",
    "array_properties(a2)"
   ]
  },
  {
   "cell_type": "code",
   "execution_count": 16,
   "metadata": {},
   "outputs": [
    {
     "name": "stdout",
     "output_type": "stream",
     "text": [
      "[[5 0]\n",
      " [3 3]]\n",
      "+\n",
      "[[7 6]]\n",
      "\n",
      "a = \n",
      "[[12  6]\n",
      " [10  9]]\n",
      "dim =  2\n",
      "shape =  (2, 2)\n",
      "datatype =  int32\n",
      "size =  4\n",
      "\n"
     ]
    }
   ],
   "source": [
    "# a2 (1x2) will be broadcast to meet the shape of a (2x2)\n",
    "# a2 will automatically repeat itself along the short axis=0\n",
    "# a2 become [[7,6],[7,6]]\n",
    "\n",
    "s3 = a + a2\n",
    "\n",
    "print(a)\n",
    "print('+')\n",
    "print(a2)\n",
    "print()\n",
    "array_properties(s3)"
   ]
  },
  {
   "cell_type": "markdown",
   "metadata": {},
   "source": [
    "$$\n",
    "\n",
    "\\begin{pmatrix}\n",
    "    5 & 0 \\\\  \n",
    "    3 & 3 \\\\  \n",
    "\\end{pmatrix} \n",
    "+\n",
    " \\begin{pmatrix}\n",
    "    7 & 6 \\\\  \n",
    "\\end{pmatrix}\n",
    "=\n",
    "\\begin{pmatrix}\n",
    "    5+7 & 0+6 \\\\  \n",
    "    3+7 & 3+6 \\\\  \n",
    "\\end{pmatrix}\n",
    "\n",
    "$$"
   ]
  },
  {
   "cell_type": "markdown",
   "metadata": {},
   "source": [
    "Add an array with a shape bigger than the first array."
   ]
  },
  {
   "cell_type": "code",
   "execution_count": 17,
   "metadata": {},
   "outputs": [
    {
     "name": "stdout",
     "output_type": "stream",
     "text": [
      "a = \n",
      "[[8 8 1 6]]\n",
      "dim =  2\n",
      "shape =  (1, 4)\n",
      "datatype =  int32\n",
      "size =  4\n",
      "\n"
     ]
    }
   ],
   "source": [
    "a3 = np.random.randint(0, 10, (1,4))\n",
    "array_properties(a3)"
   ]
  },
  {
   "cell_type": "code",
   "execution_count": 18,
   "metadata": {},
   "outputs": [
    {
     "ename": "ValueError",
     "evalue": "operands could not be broadcast together with shapes (2,2) (1,4) ",
     "output_type": "error",
     "traceback": [
      "\u001b[1;31m---------------------------------------------------------------------------\u001b[0m",
      "\u001b[1;31mValueError\u001b[0m                                Traceback (most recent call last)",
      "\u001b[1;32m~\\AppData\\Local\\Temp/ipykernel_7880/1644972145.py\u001b[0m in \u001b[0;36m<module>\u001b[1;34m\u001b[0m\n\u001b[1;32m----> 1\u001b[1;33m \u001b[0ms4\u001b[0m \u001b[1;33m=\u001b[0m \u001b[0ma\u001b[0m \u001b[1;33m+\u001b[0m \u001b[0ma3\u001b[0m\u001b[1;33m\u001b[0m\u001b[1;33m\u001b[0m\u001b[0m\n\u001b[0m\u001b[0;32m      2\u001b[0m \u001b[1;33m\u001b[0m\u001b[0m\n\u001b[0;32m      3\u001b[0m \u001b[0mprint\u001b[0m\u001b[1;33m(\u001b[0m\u001b[0ma\u001b[0m\u001b[1;33m)\u001b[0m\u001b[1;33m\u001b[0m\u001b[1;33m\u001b[0m\u001b[0m\n\u001b[0;32m      4\u001b[0m \u001b[0mprint\u001b[0m\u001b[1;33m(\u001b[0m\u001b[1;34m'+'\u001b[0m\u001b[1;33m)\u001b[0m\u001b[1;33m\u001b[0m\u001b[1;33m\u001b[0m\u001b[0m\n\u001b[0;32m      5\u001b[0m \u001b[0mprint\u001b[0m\u001b[1;33m(\u001b[0m\u001b[0ma3\u001b[0m\u001b[1;33m)\u001b[0m\u001b[1;33m\u001b[0m\u001b[1;33m\u001b[0m\u001b[0m\n",
      "\u001b[1;31mValueError\u001b[0m: operands could not be broadcast together with shapes (2,2) (1,4) "
     ]
    }
   ],
   "source": [
    "s4 = a + a3\n",
    "\n",
    "print(a)\n",
    "print('+')\n",
    "print(a3)\n",
    "print()\n",
    "array_properties(s4)"
   ]
  },
  {
   "cell_type": "markdown",
   "metadata": {},
   "source": [
    "$$\n",
    "\n",
    "\\begin{pmatrix}\n",
    "    5 & 0 \\\\  \n",
    "    3 & 3 \\\\  \n",
    "\\end{pmatrix} \n",
    "+\n",
    " \\begin{pmatrix}\n",
    "    8 & 8 & 1 & 6 \\\\  \n",
    "\\end{pmatrix}\n",
    "=\n",
    "\\begin{pmatrix}\n",
    "    5+8 & 0+8 & 1 & 6\\\\  \n",
    "    3+8 & 3+8 & 1 & 6\\\\  \n",
    "\\end{pmatrix}\n",
    "\n",
    "$$"
   ]
  },
  {
   "cell_type": "markdown",
   "metadata": {},
   "source": [
    "## Class Activity\n",
    "\n",
    "1. Create an array of 2x4  and another array of 3x4\n",
    "2. Subtract 2x4  from 3x4"
   ]
  },
  {
   "cell_type": "code",
   "execution_count": 23,
   "metadata": {},
   "outputs": [],
   "source": [
    "a = np.random.randint(0,10,(2,4))\n",
    "b = np.random.randint(0,10,(3,4))\n"
   ]
  },
  {
   "cell_type": "code",
   "execution_count": 24,
   "metadata": {},
   "outputs": [
    {
     "ename": "ValueError",
     "evalue": "operands could not be broadcast together with shapes (3,4) (2,4) ",
     "output_type": "error",
     "traceback": [
      "\u001b[1;31m---------------------------------------------------------------------------\u001b[0m",
      "\u001b[1;31mValueError\u001b[0m                                Traceback (most recent call last)",
      "\u001b[1;32m~\\AppData\\Local\\Temp/ipykernel_7880/4245842326.py\u001b[0m in \u001b[0;36m<module>\u001b[1;34m\u001b[0m\n\u001b[1;32m----> 1\u001b[1;33m \u001b[0mc1\u001b[0m \u001b[1;33m=\u001b[0m \u001b[0mb\u001b[0m\u001b[1;33m-\u001b[0m\u001b[0ma\u001b[0m\u001b[1;33m\u001b[0m\u001b[1;33m\u001b[0m\u001b[0m\n\u001b[0m\u001b[0;32m      2\u001b[0m \u001b[0marray_properties\u001b[0m\u001b[1;33m(\u001b[0m\u001b[0mc1\u001b[0m\u001b[1;33m,\u001b[0m \u001b[1;34m'c1'\u001b[0m\u001b[1;33m)\u001b[0m\u001b[1;33m\u001b[0m\u001b[1;33m\u001b[0m\u001b[0m\n\u001b[0;32m      3\u001b[0m \u001b[1;33m\u001b[0m\u001b[0m\n",
      "\u001b[1;31mValueError\u001b[0m: operands could not be broadcast together with shapes (3,4) (2,4) "
     ]
    }
   ],
   "source": [
    "\n",
    "c1 = b-a\n",
    "array_properties(c1, 'c1')\n",
    "\n"
   ]
  },
  {
   "cell_type": "code",
   "execution_count": 25,
   "metadata": {},
   "outputs": [
    {
     "ename": "ValueError",
     "evalue": "operands could not be broadcast together with shapes (3,4) (2,4) ",
     "output_type": "error",
     "traceback": [
      "\u001b[1;31m---------------------------------------------------------------------------\u001b[0m",
      "\u001b[1;31mValueError\u001b[0m                                Traceback (most recent call last)",
      "\u001b[1;32m~\\AppData\\Local\\Temp/ipykernel_7880/2137942030.py\u001b[0m in \u001b[0;36m<module>\u001b[1;34m\u001b[0m\n\u001b[1;32m----> 1\u001b[1;33m \u001b[0mc2\u001b[0m \u001b[1;33m=\u001b[0m \u001b[0mb\u001b[0m\u001b[1;33m+\u001b[0m\u001b[0ma\u001b[0m\u001b[1;33m\u001b[0m\u001b[1;33m\u001b[0m\u001b[0m\n\u001b[0m\u001b[0;32m      2\u001b[0m \u001b[0marray_properties\u001b[0m\u001b[1;33m(\u001b[0m\u001b[0mc2\u001b[0m\u001b[1;33m,\u001b[0m \u001b[1;34m'c2'\u001b[0m\u001b[1;33m)\u001b[0m\u001b[1;33m\u001b[0m\u001b[1;33m\u001b[0m\u001b[0m\n",
      "\u001b[1;31mValueError\u001b[0m: operands could not be broadcast together with shapes (3,4) (2,4) "
     ]
    }
   ],
   "source": [
    "\n",
    "c2 = b+a\n",
    "array_properties(c2, 'c2')\n"
   ]
  },
  {
   "cell_type": "code",
   "execution_count": 26,
   "metadata": {},
   "outputs": [
    {
     "name": "stdout",
     "output_type": "stream",
     "text": [
      "a = \n",
      "[[4 4 8 4]\n",
      " [3 7 5 5]]\n",
      "dim =  2\n",
      "shape =  (2, 4)\n",
      "datatype =  int32\n",
      "size =  8\n",
      "\n",
      "b = \n",
      "[[0 1 5 9]]\n",
      "dim =  2\n",
      "shape =  (1, 4)\n",
      "datatype =  int32\n",
      "size =  4\n",
      "\n"
     ]
    },
    {
     "data": {
      "text/plain": [
       "array([[-4, -3, -3,  5],\n",
       "       [-3, -6,  0,  4]])"
      ]
     },
     "execution_count": 26,
     "metadata": {},
     "output_type": "execute_result"
    }
   ],
   "source": [
    "a = np.random.randint(0,10,(2,4))\n",
    "b = np.random.randint(0,10,(1,4))\n",
    "\n",
    "array_properties(a)\n",
    "array_properties(b, 'b')\n",
    "\n",
    "c = b-a\n",
    "c"
   ]
  },
  {
   "cell_type": "code",
   "execution_count": 27,
   "metadata": {},
   "outputs": [
    {
     "name": "stdout",
     "output_type": "stream",
     "text": [
      "a = \n",
      "[[3 0 5 0]\n",
      " [1 2 4 2]]\n",
      "dim =  2\n",
      "shape =  (2, 4)\n",
      "datatype =  int32\n",
      "size =  8\n",
      "\n"
     ]
    }
   ],
   "source": [
    "a5 = np.random.randint(0, 10, (2,4))\n",
    "array_properties(a5)"
   ]
  },
  {
   "cell_type": "code",
   "execution_count": 28,
   "metadata": {},
   "outputs": [
    {
     "name": "stdout",
     "output_type": "stream",
     "text": [
      "[[4 4 8 4]\n",
      " [3 7 5 5]]\n",
      "+\n",
      "[[3 0 5 0]\n",
      " [1 2 4 2]]\n",
      "\n",
      "a = \n",
      "[[ 7  4 13  4]\n",
      " [ 4  9  9  7]]\n",
      "dim =  2\n",
      "shape =  (2, 4)\n",
      "datatype =  int32\n",
      "size =  8\n",
      "\n"
     ]
    }
   ],
   "source": [
    "s5 = a + a5\n",
    "\n",
    "print(a)\n",
    "print('+')\n",
    "print(a5)\n",
    "print()\n",
    "array_properties(s5)"
   ]
  },
  {
   "cell_type": "markdown",
   "metadata": {},
   "source": [
    "## Matrix multiplications \n",
    "\n"
   ]
  },
  {
   "cell_type": "markdown",
   "metadata": {},
   "source": [
    "### Array (Elementwise) Multiplication and Division"
   ]
  },
  {
   "cell_type": "code",
   "execution_count": 29,
   "metadata": {},
   "outputs": [
    {
     "name": "stdout",
     "output_type": "stream",
     "text": [
      "a = \n",
      "[[0 3]\n",
      " [2 0]]\n",
      "dim =  2\n",
      "shape =  (2, 2)\n",
      "datatype =  int32\n",
      "size =  4\n",
      "\n"
     ]
    }
   ],
   "source": [
    "import numpy as np\n",
    "\n",
    "a = np.random.randint(0, 10, (2,2))\n",
    "array_properties(a)\n"
   ]
  },
  {
   "cell_type": "code",
   "execution_count": 30,
   "metadata": {},
   "outputs": [
    {
     "name": "stdout",
     "output_type": "stream",
     "text": [
      "a = \n",
      "[[7 5]\n",
      " [9 0]]\n",
      "dim =  2\n",
      "shape =  (2, 2)\n",
      "datatype =  int32\n",
      "size =  4\n",
      "\n"
     ]
    }
   ],
   "source": [
    "import numpy as np\n",
    "\n",
    "b = np.random.randint(0, 10, (2,2))\n",
    "array_properties(b)\n"
   ]
  },
  {
   "cell_type": "markdown",
   "metadata": {},
   "source": [
    "$$\n",
    "\n",
    "\\begin{pmatrix}\n",
    "    0 & 3 \\\\  \n",
    "    2 & 0 \\\\  \n",
    "\\end{pmatrix} \n",
    "*\n",
    " \\begin{pmatrix}\n",
    "    7 & 5 \\\\  \n",
    "    9 & 0 \\\\  \n",
    "\\end{pmatrix}\n",
    "=\n",
    "\\begin{pmatrix}\n",
    "    0*7 & 3*5 \\\\  \n",
    "    2*9 & 0*0 \\\\  \n",
    "\\end{pmatrix}\n",
    "\n",
    "$$\n"
   ]
  },
  {
   "cell_type": "code",
   "execution_count": 31,
   "metadata": {},
   "outputs": [
    {
     "name": "stdout",
     "output_type": "stream",
     "text": [
      "a= \n",
      " [[0 3]\n",
      " [2 0]]\n",
      "b= \n",
      " [[7 5]\n",
      " [9 0]]\n",
      "p = \n",
      "[[ 0 15]\n",
      " [18  0]]\n",
      "dim =  2\n",
      "shape =  (2, 2)\n",
      "datatype =  int32\n",
      "size =  4\n",
      "\n"
     ]
    }
   ],
   "source": [
    "p = a * b\n",
    "\n",
    "print('a= \\n', a)\n",
    "print('b= \\n', b)\n",
    "\n",
    "array_properties(p, 'p')"
   ]
  },
  {
   "cell_type": "code",
   "execution_count": 32,
   "metadata": {},
   "outputs": [
    {
     "name": "stdout",
     "output_type": "stream",
     "text": [
      "a= \n",
      " [[0 3]\n",
      " [2 0]]\n",
      "b= \n",
      " [[7 5]\n",
      " [9 0]]\n",
      "q = \n",
      "[[0.         0.6       ]\n",
      " [0.22222222        nan]]\n",
      "dim =  2\n",
      "shape =  (2, 2)\n",
      "datatype =  float64\n",
      "size =  4\n",
      "\n"
     ]
    },
    {
     "name": "stderr",
     "output_type": "stream",
     "text": [
      "C:\\Users\\gokel\\AppData\\Local\\Temp/ipykernel_7880/2874716575.py:1: RuntimeWarning: invalid value encountered in true_divide\n",
      "  q = a / b\n"
     ]
    }
   ],
   "source": [
    "q = a / b\n",
    "\n",
    "print('a= \\n', a)\n",
    "print('b= \\n', b)\n",
    "\n",
    "array_properties(q, 'q')"
   ]
  },
  {
   "cell_type": "markdown",
   "metadata": {},
   "source": [
    "$$\n",
    "\n",
    "\\begin{pmatrix}\n",
    "    0 & 3 \\\\  \n",
    "    2 & 0 \\\\  \n",
    "\\end{pmatrix} \n",
    "/\n",
    " \\begin{pmatrix}\n",
    "    7 & 5 \\\\  \n",
    "    9 & 0 \\\\  \n",
    "\\end{pmatrix}\n",
    "=\n",
    "\\begin{pmatrix}\n",
    "    0/7 & 3/5 \\\\  \n",
    "    2/9 & 0/0 \\\\  \n",
    "\\end{pmatrix}\n",
    "\n",
    "$$\n"
   ]
  },
  {
   "cell_type": "code",
   "execution_count": 39,
   "metadata": {},
   "outputs": [
    {
     "name": "stdout",
     "output_type": "stream",
     "text": [
      "a1 = \n",
      "[[3]\n",
      " [6]]\n",
      "dim =  2\n",
      "shape =  (2, 1)\n",
      "datatype =  int32\n",
      "size =  2\n",
      "\n"
     ]
    }
   ],
   "source": [
    "import numpy as np\n",
    "\n",
    "a1 = np.random.randint(0, 10, (2,1))\n",
    "array_properties(a1, 'a1')\n"
   ]
  },
  {
   "cell_type": "code",
   "execution_count": 42,
   "metadata": {},
   "outputs": [
    {
     "name": "stdout",
     "output_type": "stream",
     "text": [
      "a= \n",
      " [[2 4]\n",
      " [4 9]]\n",
      "a1= \n",
      " [[3]\n",
      " [6]]\n",
      "p1 = \n",
      "[[ 6 12]\n",
      " [24 54]]\n",
      "dim =  2\n",
      "shape =  (2, 2)\n",
      "datatype =  int32\n",
      "size =  4\n",
      "\n"
     ]
    }
   ],
   "source": [
    "p1 = a * a1\n",
    "\n",
    "print('a= \\n', a)\n",
    "print('a1= \\n', a1)\n",
    "\n",
    "array_properties(p1, 'p1')"
   ]
  },
  {
   "cell_type": "code",
   "execution_count": 43,
   "metadata": {},
   "outputs": [
    {
     "name": "stdout",
     "output_type": "stream",
     "text": [
      "a= \n",
      " [[2 4]\n",
      " [4 9]]\n",
      "a1= \n",
      " [[3]\n",
      " [6]]\n",
      "q1 = \n",
      "[[0.66666667 1.33333333]\n",
      " [0.66666667 1.5       ]]\n",
      "dim =  2\n",
      "shape =  (2, 2)\n",
      "datatype =  float64\n",
      "size =  4\n",
      "\n"
     ]
    }
   ],
   "source": [
    "q1 = a / a1\n",
    "\n",
    "print('a= \\n', a)\n",
    "print('a1= \\n', a1)\n",
    "\n",
    "array_properties(q1, 'q1')"
   ]
  },
  {
   "cell_type": "code",
   "execution_count": 44,
   "metadata": {},
   "outputs": [
    {
     "name": "stdout",
     "output_type": "stream",
     "text": [
      "a2 = \n",
      "[[9 5]]\n",
      "dim =  2\n",
      "shape =  (1, 2)\n",
      "datatype =  int32\n",
      "size =  2\n",
      "\n"
     ]
    }
   ],
   "source": [
    "import numpy as np\n",
    "\n",
    "a2 = np.random.randint(0, 10, (1,2))\n",
    "array_properties(a2, 'a2')\n"
   ]
  },
  {
   "cell_type": "code",
   "execution_count": 45,
   "metadata": {},
   "outputs": [
    {
     "name": "stdout",
     "output_type": "stream",
     "text": [
      "a= \n",
      " [[2 4]\n",
      " [4 9]]\n",
      "a2= \n",
      " [[9 5]]\n",
      "p2 = \n",
      "[[18 20]\n",
      " [36 45]]\n",
      "dim =  2\n",
      "shape =  (2, 2)\n",
      "datatype =  int32\n",
      "size =  4\n",
      "\n"
     ]
    }
   ],
   "source": [
    "p2 = a * a2\n",
    "\n",
    "print('a= \\n', a)\n",
    "print('a2= \\n', a2)\n",
    "\n",
    "array_properties(p2, 'p2')"
   ]
  },
  {
   "cell_type": "code",
   "execution_count": 46,
   "metadata": {},
   "outputs": [
    {
     "name": "stdout",
     "output_type": "stream",
     "text": [
      "a= \n",
      " [[2 4]\n",
      " [4 9]]\n",
      "a2= \n",
      " [[9 5]]\n",
      "q2 = \n",
      "[[0.22222222 0.8       ]\n",
      " [0.44444444 1.8       ]]\n",
      "dim =  2\n",
      "shape =  (2, 2)\n",
      "datatype =  float64\n",
      "size =  4\n",
      "\n"
     ]
    }
   ],
   "source": [
    "q2 = a / a2\n",
    "\n",
    "print('a= \\n', a)\n",
    "print('a2= \\n', a2)\n",
    "\n",
    "array_properties(q2, 'q2')"
   ]
  },
  {
   "cell_type": "markdown",
   "metadata": {},
   "source": [
    "## True Matrix Multiplication"
   ]
  },
  {
   "cell_type": "markdown",
   "metadata": {},
   "source": [
    "$$\n",
    "\n",
    "\\begin{pmatrix}\n",
    "    0 & 3 \\\\  \n",
    "    2 & 0 \\\\  \n",
    "\\end{pmatrix} \n",
    "x\n",
    " \\begin{pmatrix}\n",
    "    7 & 5 \\\\  \n",
    "    9 & 0 \\\\  \n",
    "\\end{pmatrix}\n",
    "=\n",
    "\\begin{pmatrix}\n",
    "    0*7+3*9 & 0*5+3*0 \\\\  \n",
    "    2*7+0*9 & 2*5+0*0 \\\\  \n",
    "\\end{pmatrix}\n",
    "\n",
    "$$\n",
    "\n",
    "$$\n",
    "a (mxn)  \\\\\n",
    "b (wxv)  \\\\\n",
    "c = a  * b = (mxv) \n",
    "$$  \n",
    "if and only if n=w"
   ]
  },
  {
   "cell_type": "code",
   "execution_count": 37,
   "metadata": {},
   "outputs": [
    {
     "name": "stdout",
     "output_type": "stream",
     "text": [
      "a= \n",
      " [[0 3]\n",
      " [2 0]]\n",
      "b= \n",
      " [[7 5]\n",
      " [9 0]]\n",
      "axb = \n",
      "[[27  0]\n",
      " [14 10]]\n",
      "dim =  2\n",
      "shape =  (2, 2)\n",
      "datatype =  int32\n",
      "size =  4\n",
      "\n"
     ]
    }
   ],
   "source": [
    "# the multiplication works if the column shape of first matrix or array\n",
    "# is equal to the row shape of the second matrix.\n",
    "\n",
    "axb = a @ b\n",
    "\n",
    "print('a= \\n', a)\n",
    "print('b= \\n', b)\n",
    "\n",
    "array_properties(axb, 'axb')\n"
   ]
  },
  {
   "cell_type": "code",
   "execution_count": 38,
   "metadata": {},
   "outputs": [
    {
     "name": "stdout",
     "output_type": "stream",
     "text": [
      "b= \n",
      " [[7 5]\n",
      " [9 0]]\n",
      "a= \n",
      " [[0 3]\n",
      " [2 0]]\n",
      "bxa = \n",
      "[[10 21]\n",
      " [ 0 27]]\n",
      "dim =  2\n",
      "shape =  (2, 2)\n",
      "datatype =  int32\n",
      "size =  4\n",
      "\n"
     ]
    }
   ],
   "source": [
    "bxa = b @ a\n",
    "\n",
    "print('b= \\n', b)\n",
    "print('a= \\n', a)\n",
    "\n",
    "array_properties(bxa, 'bxa')\n"
   ]
  },
  {
   "cell_type": "code",
   "execution_count": 41,
   "metadata": {},
   "outputs": [
    {
     "name": "stdout",
     "output_type": "stream",
     "text": [
      "a= \n",
      " [[0 3]\n",
      " [2 0]]\n",
      "a1= \n",
      " [[2]\n",
      " [4]]\n",
      "axa1 = \n",
      "[[12]\n",
      " [ 4]]\n",
      "dim =  2\n",
      "shape =  (2, 1)\n",
      "datatype =  int32\n",
      "size =  2\n",
      "\n"
     ]
    }
   ],
   "source": [
    "# a(2x2)\n",
    "# a1(2x1)\n",
    "# a column shape n = 2\n",
    "# a1 row shape w = 2\n",
    "# since n = w, therefore axa1 (2x1)\n",
    "\n",
    "axa1 = a @ a1\n",
    "\n",
    "print('a= \\n', a)\n",
    "print('a1= \\n', a1)\n",
    "\n",
    "array_properties(axa1, 'axa1')\n"
   ]
  },
  {
   "cell_type": "code",
   "execution_count": 42,
   "metadata": {},
   "outputs": [
    {
     "ename": "ValueError",
     "evalue": "matmul: Input operand 1 has a mismatch in its core dimension 0, with gufunc signature (n?,k),(k,m?)->(n?,m?) (size 2 is different from 1)",
     "output_type": "error",
     "traceback": [
      "\u001b[1;31m---------------------------------------------------------------------------\u001b[0m",
      "\u001b[1;31mValueError\u001b[0m                                Traceback (most recent call last)",
      "\u001b[1;32m~\\AppData\\Local\\Temp/ipykernel_7880/2170704084.py\u001b[0m in \u001b[0;36m<module>\u001b[1;34m\u001b[0m\n\u001b[1;32m----> 1\u001b[1;33m \u001b[0ma1xa\u001b[0m \u001b[1;33m=\u001b[0m \u001b[0ma1\u001b[0m \u001b[1;33m@\u001b[0m \u001b[0ma\u001b[0m\u001b[1;33m\u001b[0m\u001b[1;33m\u001b[0m\u001b[0m\n\u001b[0m\u001b[0;32m      2\u001b[0m \u001b[1;33m\u001b[0m\u001b[0m\n\u001b[0;32m      3\u001b[0m \u001b[0mprint\u001b[0m\u001b[1;33m(\u001b[0m\u001b[1;34m'a1= \\n'\u001b[0m\u001b[1;33m,\u001b[0m \u001b[0ma1\u001b[0m\u001b[1;33m)\u001b[0m\u001b[1;33m\u001b[0m\u001b[1;33m\u001b[0m\u001b[0m\n\u001b[0;32m      4\u001b[0m \u001b[0mprint\u001b[0m\u001b[1;33m(\u001b[0m\u001b[1;34m'a= \\n'\u001b[0m\u001b[1;33m,\u001b[0m \u001b[0ma\u001b[0m\u001b[1;33m)\u001b[0m\u001b[1;33m\u001b[0m\u001b[1;33m\u001b[0m\u001b[0m\n\u001b[0;32m      5\u001b[0m \u001b[1;33m\u001b[0m\u001b[0m\n",
      "\u001b[1;31mValueError\u001b[0m: matmul: Input operand 1 has a mismatch in its core dimension 0, with gufunc signature (n?,k),(k,m?)->(n?,m?) (size 2 is different from 1)"
     ]
    }
   ],
   "source": [
    "a1xa = a1 @ a\n",
    "\n",
    "print('a1= \\n', a1)\n",
    "print('a= \\n', a)\n",
    "\n",
    "array_properties(a1xa, 'a1xa')\n"
   ]
  },
  {
   "cell_type": "markdown",
   "metadata": {},
   "source": [
    "## Class activity\n",
    "\n",
    "1. Create a array a of (5x5)\n",
    "2. Create a array b of (5x3)\n",
    "3. a + b\n",
    "4. b + a\n",
    "5. a * b\n",
    "6. b * a\n",
    "7. a / b\n",
    "8. b / a\n",
    "9. a @ b\n",
    "10. b @ a\n"
   ]
  },
  {
   "cell_type": "markdown",
   "metadata": {},
   "source": [
    "## 3D"
   ]
  },
  {
   "cell_type": "code",
   "execution_count": 44,
   "metadata": {},
   "outputs": [
    {
     "name": "stdout",
     "output_type": "stream",
     "text": [
      "a3 = \n",
      "[[[138 247  19]\n",
      "  [113 114   9]\n",
      "  [102  72  43]\n",
      "  [ 50 198 250]\n",
      "  [186  51 197]]\n",
      "\n",
      " [[ 30 127 141]\n",
      "  [  4  92  23]\n",
      "  [216 207  75]\n",
      "  [187 214  27]\n",
      "  [123 130 240]]\n",
      "\n",
      " [[100  30 121]\n",
      "  [ 25  76 176]\n",
      "  [ 98  88 103]\n",
      "  [ 81  62 222]\n",
      "  [102 225 163]]\n",
      "\n",
      " [[ 35  13 106]\n",
      "  [222 122  17]\n",
      "  [235 123 248]\n",
      "  [107  16 195]\n",
      "  [167 129  55]]\n",
      "\n",
      " [[ 82 218  69]\n",
      "  [177 174  55]\n",
      "  [176 144 227]\n",
      "  [202  12 145]\n",
      "  [148  92 119]]]\n",
      "dim =  3\n",
      "shape =  (5, 5, 3)\n",
      "datatype =  uint8\n",
      "size =  75\n",
      "\n"
     ]
    }
   ],
   "source": [
    "import numpy as np\n",
    "\n",
    "a3 = np.random.randint(0, 256, size=(5, 5, 3), dtype='uint8')\n",
    "\n",
    "array_properties(a3, 'a3')"
   ]
  },
  {
   "cell_type": "markdown",
   "metadata": {},
   "source": [
    "## Class Activity\n",
    "\n",
    "1. Create an array a3d of shape (100x100x3)\n",
    "2. compute a3d + 155\n",
    "3. compute a3d - 155\n",
    "4. compute a3d * 15\n",
    "5. reshape each as any 2D\n",
    "6. Seed value is 0\n",
    "\n",
    "7. Convert each to unsigned integer 8 bits\n",
    "8. Plot the data using matplotlib."
   ]
  },
  {
   "cell_type": "code",
   "execution_count": 45,
   "metadata": {},
   "outputs": [
    {
     "name": "stdout",
     "output_type": "stream",
     "text": [
      "a3d2 = \n",
      "[[[ 69.  123.5   9.5]\n",
      "  [ 56.5  57.    4.5]\n",
      "  [ 51.   36.   21.5]\n",
      "  [ 25.   99.  125. ]\n",
      "  [ 93.   25.5  98.5]]\n",
      "\n",
      " [[ 15.   63.5  70.5]\n",
      "  [  2.   46.   11.5]\n",
      "  [108.  103.5  37.5]\n",
      "  [ 93.5 107.   13.5]\n",
      "  [ 61.5  65.  120. ]]\n",
      "\n",
      " [[ 50.   15.   60.5]\n",
      "  [ 12.5  38.   88. ]\n",
      "  [ 49.   44.   51.5]\n",
      "  [ 40.5  31.  111. ]\n",
      "  [ 51.  112.5  81.5]]\n",
      "\n",
      " [[ 17.5   6.5  53. ]\n",
      "  [111.   61.    8.5]\n",
      "  [117.5  61.5 124. ]\n",
      "  [ 53.5   8.   97.5]\n",
      "  [ 83.5  64.5  27.5]]\n",
      "\n",
      " [[ 41.  109.   34.5]\n",
      "  [ 88.5  87.   27.5]\n",
      "  [ 88.   72.  113.5]\n",
      "  [101.    6.   72.5]\n",
      "  [ 74.   46.   59.5]]]\n",
      "dim =  3\n",
      "shape =  (5, 5, 3)\n",
      "datatype =  float64\n",
      "size =  75\n",
      "\n"
     ]
    }
   ],
   "source": [
    "# dividing by a scalar\n",
    "\n",
    "a3d2 = a3 / 2\n",
    "array_properties(a3d2, 'a3d2')"
   ]
  },
  {
   "cell_type": "markdown",
   "metadata": {},
   "source": []
  },
  {
   "cell_type": "code",
   "execution_count": 47,
   "metadata": {},
   "outputs": [
    {
     "name": "stdout",
     "output_type": "stream",
     "text": [
      "a3d2 = \n",
      "[[[ 69 123   9]\n",
      "  [ 56  57   4]\n",
      "  [ 51  36  21]\n",
      "  [ 25  99 125]\n",
      "  [ 93  25  98]]\n",
      "\n",
      " [[ 15  63  70]\n",
      "  [  2  46  11]\n",
      "  [108 103  37]\n",
      "  [ 93 107  13]\n",
      "  [ 61  65 120]]\n",
      "\n",
      " [[ 50  15  60]\n",
      "  [ 12  38  88]\n",
      "  [ 49  44  51]\n",
      "  [ 40  31 111]\n",
      "  [ 51 112  81]]\n",
      "\n",
      " [[ 17   6  53]\n",
      "  [111  61   8]\n",
      "  [117  61 124]\n",
      "  [ 53   8  97]\n",
      "  [ 83  64  27]]\n",
      "\n",
      " [[ 41 109  34]\n",
      "  [ 88  87  27]\n",
      "  [ 88  72 113]\n",
      "  [101   6  72]\n",
      "  [ 74  46  59]]]\n",
      "dim =  3\n",
      "shape =  (5, 5, 3)\n",
      "datatype =  uint8\n",
      "size =  75\n",
      "\n"
     ]
    }
   ],
   "source": [
    "# convert array value to unsigned integer 8 bits\n",
    "a3d2 = np.uint8(a3d2)\n",
    "array_properties(a3d2, 'a3d2')"
   ]
  },
  {
   "cell_type": "code",
   "execution_count": 62,
   "metadata": {},
   "outputs": [
    {
     "name": "stdout",
     "output_type": "stream",
     "text": [
      "a = \n",
      "[[[135  95 148]\n",
      "  [ 37  40 143]\n",
      "  [150  71  70]\n",
      "  [137  84  47]\n",
      "  [135  68  35]]\n",
      "\n",
      " [[ 76 157  42]\n",
      "  [ 50 154  77]\n",
      "  [ 78 106  79]\n",
      "  [154 105  63]\n",
      "  [ 41 149 107]]\n",
      "\n",
      " [[ 71  73 141]\n",
      "  [ 69  41 128]\n",
      "  [143  53 111]\n",
      "  [129  52 133]\n",
      "  [ 57  38 121]]\n",
      "\n",
      " [[111  57 153]\n",
      "  [ 66 147  67]\n",
      "  [156  37 136]\n",
      "  [ 40 145  34]\n",
      "  [116  93 149]]\n",
      "\n",
      " [[ 78 149 157]\n",
      "  [121 121 156]\n",
      "  [102  69 128]\n",
      "  [114 150 113]\n",
      "  [ 39  60  40]]]\n",
      "dim =  3\n",
      "shape =  (5, 5, 3)\n",
      "datatype =  uint8\n",
      "size =  75\n",
      "\n"
     ]
    }
   ],
   "source": [
    "a3d2p30 = a3d2 + 30\n",
    "\n",
    "array_properties(a3d2p30)"
   ]
  },
  {
   "cell_type": "code",
   "execution_count": 63,
   "metadata": {},
   "outputs": [
    {
     "name": "stdout",
     "output_type": "stream",
     "text": [
      "a = \n",
      "[[[165 125 178]\n",
      "  [ 67  70 173]\n",
      "  [180 101 100]\n",
      "  [167 114  77]\n",
      "  [165  98  65]]\n",
      "\n",
      " [[106 187  72]\n",
      "  [ 80 184 107]\n",
      "  [108 136 109]\n",
      "  [184 135  93]\n",
      "  [ 71 179 137]]\n",
      "\n",
      " [[101 103 171]\n",
      "  [ 99  71 158]\n",
      "  [173  83 141]\n",
      "  [159  82 163]\n",
      "  [ 87  68 151]]\n",
      "\n",
      " [[141  87 183]\n",
      "  [ 96 177  97]\n",
      "  [186  67 166]\n",
      "  [ 70 175  64]\n",
      "  [146 123 179]]\n",
      "\n",
      " [[108 179 187]\n",
      "  [151 151 186]\n",
      "  [132  99 158]\n",
      "  [144 180 143]\n",
      "  [ 69  90  70]]]\n",
      "dim =  3\n",
      "shape =  (5, 5, 3)\n",
      "datatype =  uint8\n",
      "size =  75\n",
      "\n"
     ]
    }
   ],
   "source": [
    "a3d2p60 = a3d2 + 60\n",
    "\n",
    "array_properties(a3d2p60)"
   ]
  },
  {
   "cell_type": "code",
   "execution_count": null,
   "metadata": {},
   "outputs": [],
   "source": [
    "a3d2p30 = a3d2 + 30\n",
    "\n",
    "array_properties(a3d2p30)"
   ]
  },
  {
   "cell_type": "markdown",
   "metadata": {},
   "source": [
    "## Class Activity\n",
    "\n",
    "1. Create an array a3d of shape (100x100x3)\n",
    "2. compute a3d + 155\n",
    "3. compute a3d - 155\n",
    "4. compute a3d * 15\n",
    "5. compute a3d / 155\n",
    "6. compute a3d / 15\n",
    "\n",
    "7. Convert each to unsigned integer 8 bits\n",
    "8. Plot the data using matplotlib.\n",
    "6. Seed value is (9)\n"
   ]
  },
  {
   "cell_type": "code",
   "execution_count": 68,
   "metadata": {},
   "outputs": [
    {
     "data": {
      "image/png": "[encoded data removed]",
      "text/plain": [
       "<Figure size 864x720 with 4 Axes>"
      ]
     },
     "metadata": {
      "needs_background": "light"
     },
     "output_type": "display_data"
    }
   ],
   "source": [
    "import matplotlib.pyplot as plt\n",
    "\n",
    "plt.figure(figsize=(12,10))\n",
    "\n",
    "plt.subplot(1,4,1)\n",
    "plt.imshow(a3)\n",
    "plt.title('a3')\n",
    "\n",
    "plt.subplot(1,4,2)\n",
    "plt.imshow(a3d2)\n",
    "plt.title('a3d2')\n",
    "\n",
    "plt.subplot(1,4,3)\n",
    "plt.imshow(a3d2p30)\n",
    "plt.title('a3d2p30')\n",
    "\n",
    "plt.subplot(1,4,4)\n",
    "plt.imshow(a3d2p60)\n",
    "plt.title('a3d2p60')\n",
    "\n",
    "plt.show()"
   ]
  },
  {
   "cell_type": "code",
   "execution_count": null,
   "metadata": {},
   "outputs": [],
   "source": []
  }
 ],
 "metadata": {
  "interpreter": {
   "hash": "c1a7846af735771808fbc8272134e7984cc669109ae413ca91ad8b74a534aa1b"
  },
  "kernelspec": {
   "display_name": "Python 3 (ipykernel)",
   "language": "python",
   "name": "python3"
  },
  "language_info": {
   "codemirror_mode": {
    "name": "ipython",
    "version": 3
   },
   "file_extension": ".py",
   "mimetype": "text/x-python",
   "name": "python",
   "nbconvert_exporter": "python",
   "pygments_lexer": "ipython3",
   "version": "3.9.5"
  }
 },
 "nbformat": 4,
 "nbformat_minor": 4
}
