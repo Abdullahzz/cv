{
 "cells": [
  {
   "cell_type": "code",
   "execution_count": 31,
   "metadata": {},
   "outputs": [
    {
     "name": "stdin",
     "output_type": "stream",
     "text": [
      "Please enter your name:  abdullah zubair zulkifli\n",
      "Please enter your age:  23\n",
      "Please enter your degree:  intelligent system engineering\n",
      "Please enter the university you graduated from:  UiTM\n",
      "Please enter the position you wanted:  computer vision Engineer\n",
      "Please enter your phone number:  012-345678\n",
      "Please enter your email:  zubair@gmail.com\n"
     ]
    },
    {
     "name": "stdout",
     "output_type": "stream",
     "text": [
      "\n",
      "Hello Sir/Madam, my name is abdullah zubair zulkifli and I'm  23 years old. I just graduated from  UiTM  with a bachelor degree in  intelligent system engineering . I would like to apply for a job at Imagine AI for the position  computer vision Engineer  where I am very skilled in that work field. Within this application I inclucded my resume. You can email me at zubair@gmail.com  or contact  012-345678 , thank you.\n"
     ]
    }
   ],
   "source": [
    "name =input(\"Please enter your name: \")\n",
    "age = int(input(\"Please enter your age: \"))\n",
    "degree = input(\"Please enter your degree: \")\n",
    "university = input(\"Please enter the university you graduated from: \")\n",
    "job = input(\"Please enter the position you wanted: \")\n",
    "tel_no = input(\"Please enter your phone number: \")\n",
    "email =input(\"Please enter your email: \")\n",
    "\n",
    "print(\"\\nHello Sir/Madam, my name is\", name, \"and I'm \", age, \"years old. I just graduated from \", university,\n",
    "     \" with a bachelor degree in \", degree, \". I would like to apply for a job at Imagine AI for the position \",\n",
    "     job, \" where I am very skilled in that work field. Within this application I inclucded my resume. You can email me at\",\n",
    "      email, \" or contact \", tel_no, \", thank you.\")"
   ]
  },
  {
   "cell_type": "code",
   "execution_count": 28,
   "metadata": {},
   "outputs": [],
   "source": [
    "a, b, c = 2,8,1"
   ]
  },
  {
   "cell_type": "code",
   "execution_count": 29,
   "metadata": {},
   "outputs": [],
   "source": [
    "x1 = (-b + math.sqrt(b*b-4*a*c))/2*a\n",
    "x2 = (-b - math.sqrt(b*b-4*a*c))/2*a"
   ]
  },
  {
   "cell_type": "code",
   "execution_count": 30,
   "metadata": {},
   "outputs": [
    {
     "name": "stdout",
     "output_type": "stream",
     "text": [
      "-0.5166852264521173 -15.483314773547882\n"
     ]
    }
   ],
   "source": [
    "print(x1,x2)"
   ]
  },
  {
   "cell_type": "code",
   "execution_count": 2,
   "metadata": {},
   "outputs": [],
   "source": [
    "#sorry for the late submit sir Goke. Im abdullah Zubair and currently undergo internship.\n",
    "#so i might miss some assignment due date but i'll try my best to catch up with others."
   ]
  },
  {
   "cell_type": "code",
   "execution_count": null,
   "metadata": {},
   "outputs": [],
   "source": []
  }
 ],
 "metadata": {
  "kernelspec": {
   "display_name": "Python 3",
   "language": "python",
   "name": "python3"
  },
  "language_info": {
   "codemirror_mode": {
    "name": "ipython",
    "version": 3
   },
   "file_extension": ".py",
   "mimetype": "text/x-python",
   "name": "python",
   "nbconvert_exporter": "python",
   "pygments_lexer": "ipython3",
   "version": "3.8.3"
  }
 },
 "nbformat": 4,
 "nbformat_minor": 4
}
