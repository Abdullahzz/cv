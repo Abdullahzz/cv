{
 "cells": [
  {
   "cell_type": "code",
   "execution_count": null,
   "metadata": {},
   "outputs": [],
   "source": []
  },
  {
   "cell_type": "markdown",
   "metadata": {},
   "source": [
    "# Chapter 23"
   ]
  },
  {
   "cell_type": "markdown",
   "metadata": {},
   "source": [
    "# Image Processing Techniques III"
   ]
  },
  {
   "cell_type": "markdown",
   "metadata": {},
   "source": [
    "## Chapter 13\n"
   ]
  },
  {
   "cell_type": "markdown",
   "metadata": {},
   "source": [
    "## Class Activity\n",
    "\n",
    "Add the code below as a function in the color_palette module. "
   ]
  },
  {
   "cell_type": "code",
   "execution_count": null,
   "metadata": {},
   "outputs": [],
   "source": [
    "import cv2 as cv\n",
    "import random\n",
    "\n",
    "squareSize = 50\n",
    "padding = 5\n",
    "nrows = 3\n",
    "ncols = 3\n",
    "\n",
    "# silver or gray background\n",
    "height = (nrows * squareSize) + ((nrows+1)*padding)\n",
    "width = (ncols * squareSize) + ((ncols+1)*padding)\n",
    "bgColor = (155,155,155)\n",
    "\n",
    "img = create_canvas(height,width, bgColor)\n",
    "\n",
    "b = 0\n",
    "# draw each row of square color\n",
    "for i in range(nrows):\n",
    "    # start each row at point 0 on the right\n",
    "    r = 0\n",
    "    # start each row at the top at point bottom + padding\n",
    "    t = b + padding\n",
    "    # bottom of the square\n",
    "    b = t + squareSize\n",
    "\n",
    "    # draw each square per column on a row\n",
    "    for j in range(ncols):\n",
    "        l = r + padding        \n",
    "        r = l + squareSize        \n",
    "        color = random.choices([0,150,255])[0],random.choices([0,150,255])[0],random.choices([0,150,255])[0]\n",
    "        # color = random.randint(0,255), random.randint(0,255), random.randint(0,255)\n",
    "        cv.rectangle(img, (l,t),(r,b), color=color,thickness= -1)\n",
    "\n",
    "# save the image\n",
    "cv.imwrite(f'color_img_{nrows}x{ncols}.png', img )\n",
    "\n",
    "show_in_matplotlib(img, None)"
   ]
  },
  {
   "cell_type": "markdown",
   "metadata": {},
   "source": [
    "\n",
    "## Chapter 14a\n"
   ]
  },
  {
   "cell_type": "markdown",
   "metadata": {},
   "source": [
    "\n",
    "## Chapter 14b\n"
   ]
  },
  {
   "cell_type": "markdown",
   "metadata": {},
   "source": []
  }
 ],
 "metadata": {
  "language_info": {
   "name": "python"
  },
  "orig_nbformat": 4
 },
 "nbformat": 4,
 "nbformat_minor": 2
}
